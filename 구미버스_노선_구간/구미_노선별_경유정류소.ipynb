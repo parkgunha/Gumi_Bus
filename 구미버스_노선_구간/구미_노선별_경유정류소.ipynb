{
 "cells": [
  {
   "cell_type": "markdown",
   "metadata": {},
   "source": [
    "### ***910번 노선별 경유 정류소 목록 조회***"
   ]
  },
  {
   "cell_type": "code",
   "execution_count": 1,
   "metadata": {},
   "outputs": [
    {
     "name": "stdout",
     "output_type": "stream",
     "text": [
      "{\"response\":{\"header\":{\"resultCode\":\"00\",\"resultMsg\":\"NORMAL SERVICE.\"},\"body\":{\"items\":{\"item\":[{\"gpslati\":36.12963461,\"gpslong\":128.3293215,\"nodeid\":\"GMB80\",\"nodenm\":\"구미역\",\"nodeno\":10080,\"nodeord\":1,\"routeid\":\"GMB91030\"},{\"gpslati\":36.12802335,\"gpslong\":128.3331997,\"nodeid\":\"GMB167\",\"nodenm\":\"농협\",\"nodeno\":10167,\"nodeord\":2,\"routeid\":\"GMB91030\"},{\"gpslati\":36.12688792,\"gpslong\":128.3358796,\"nodeid\":\"GMB134\",\"nodenm\":\"금오산사거리\",\"nodeno\":10134,\"nodeord\":3,\"routeid\":\"GMB91030\"},{\"gpslati\":36.12604377,\"gpslong\":128.3378738,\"nodeid\":\"GMB901\",\"nodenm\":\"원평동 행정복지센터 건너\",\"nodeno\":10901,\"nodeord\":4,\"routeid\":\"GMB91030\"},{\"gpslati\":36.12527783,\"gpslong\":128.339623,\"nodeid\":\"GMB138\",\"nodenm\":\"금오시장 건너\",\"nodeno\":10138,\"nodeord\":5,\"routeid\":\"GMB91030\"},{\"gpslati\":36.12386997,\"gpslong\":128.3421501,\"nodeid\":\"GMB476\",\"nodenm\":\"송원고가밑(터미널네거리방면)\",\"nodeno\":10476,\"nodeord\":6,\"routeid\":\"GMB91030\"},{\"gpslati\":36.12222128,\"gpslong\":128.3478662,\"nodeid\":\"GMB803\",\"nodenm\":\"터미널네거리(오성예식장앞방면)\",\"nodeno\":10803,\"nodeord\":7,\"routeid\":\"GMB91030\"},{\"gpslati\":36.12119339,\"gpslong\":128.351442,\"nodeid\":\"GMB92\",\"nodenm\":\"오성예식장앞\",\"nodeno\":10092,\"nodeord\":8,\"routeid\":\"GMB91030\"},{\"gpslati\":36.119205,\"gpslong\":128.3601083,\"nodeid\":\"GMB532\",\"nodenm\":\"구미IC네거리(구미경찰서방면)\",\"nodeno\":10532,\"nodeord\":9,\"routeid\":\"GMB91030\"},{\"gpslati\":36.11631541,\"gpslong\":128.3626142,\"nodeid\":\"GMB526\",\"nodenm\":\"구미경찰서건너\",\"nodeno\":10526,\"nodeord\":10,\"routeid\":\"GMB91030\"},{\"gpslati\":36.11409104,\"gpslong\":128.3632289,\"nodeid\":\"GMB259\",\"nodenm\":\"롯데마트건너\",\"nodeno\":10259,\"nodeord\":11,\"routeid\":\"GMB91030\"},{\"gpslati\":36.11073995,\"gpslong\":128.3697752,\"nodeid\":\"GMB796\",\"nodenm\":\"코오롱\",\"nodeno\":10796,\"nodeord\":12,\"routeid\":\"GMB91030\"},{\"gpslati\":36.11076986,\"gpslong\":128.3767944,\"nodeid\":\"GMB47\",\"nodenm\":\"공단본부건너\",\"nodeno\":10047,\"nodeord\":13,\"routeid\":\"GMB91030\"},{\"gpslati\":36.11198279,\"gpslong\":128.38555399,\"nodeid\":\"GMB1191\",\"nodenm\":\"세무서네거리\",\"nodeno\":11191,\"nodeord\":14,\"routeid\":\"GMB91030\"},{\"gpslati\":36.11576432,\"gpslong\":128.3855943,\"nodeid\":\"GMB161\",\"nodenm\":\"LIG넥스원앞\",\"nodeno\":10161,\"nodeord\":15,\"routeid\":\"GMB91030\"},{\"gpslati\":36.1210508,\"gpslong\":128.3857179,\"nodeid\":\"GMB563\",\"nodenm\":\"엘지연수원건너\",\"nodeno\":10563,\"nodeord\":16,\"routeid\":\"GMB91030\"},{\"gpslati\":36.12907707,\"gpslong\":128.391727,\"nodeid\":\"GMB552\",\"nodenm\":\"양호동빈수골(금오공대입구방면)\",\"nodeno\":10552,\"nodeord\":17,\"routeid\":\"GMB91030\"},{\"gpslati\":36.13640645,\"gpslong\":128.4114203,\"nodeid\":\"GMB625\",\"nodenm\":\"옥계중학교건너\",\"nodeno\":10625,\"nodeord\":18,\"routeid\":\"GMB91030\"},{\"gpslati\":36.13692823,\"gpslong\":128.4150098,\"nodeid\":\"GMB619\",\"nodenm\":\"옥계대우아파트건너\",\"nodeno\":10619,\"nodeord\":19,\"routeid\":\"GMB91030\"},{\"gpslati\":36.13773879,\"gpslong\":128.4177662,\"nodeid\":\"GMB5\",\"nodenm\":\"4공단입구(옥계방면)\",\"nodeno\":10005,\"nodeord\":20,\"routeid\":\"GMB91030\"},{\"gpslati\":36.14089299,\"gpslong\":128.4181015,\"nodeid\":\"GMB622\",\"nodenm\":\"옥계부영아파트건너\",\"nodeno\":10622,\"nodeord\":21,\"routeid\":\"GMB91030\"},{\"gpslati\":36.14570347,\"gpslong\":128.4222996,\"nodeid\":\"GMB1115\",\"nodenm\":\"옥계성당\",\"nodeno\":11115,\"nodeord\":22,\"routeid\":\"GMB91030\"},{\"gpslati\":36.14695457,\"gpslong\":128.4269103,\"nodeid\":\"GMB1113\",\"nodenm\":\"호반베르디움후문\",\"nodeno\":11113,\"nodeord\":23,\"routeid\":\"GMB91030\"},{\"gpslati\":36.15472305,\"gpslong\":128.4283149,\"nodeid\":\"GMB1066\",\"nodenm\":\"물내음 공원입구건너\",\"nodeno\":11066,\"nodeord\":24,\"routeid\":\"GMB91030\"},{\"gpslati\":36.15738263,\"gpslong\":128.4282666,\"nodeid\":\"GMB1068\",\"nodenm\":\"골드클래스앞\",\"nodeno\":11068,\"nodeord\":25,\"routeid\":\"GMB91030\"},{\"gpslati\":36.15973905,\"gpslong\":128.4284925,\"nodeid\":\"GMB1112\",\"nodenm\":\"쌍용예가더파크아파트건너\",\"nodeno\":11112,\"nodeord\":26,\"routeid\":\"GMB91030\"},{\"gpslati\":36.16106566,\"gpslong\":128.4311596,\"nodeid\":\"GMB1070\",\"nodenm\":\"우미린센트럴파크 후문\",\"nodeno\":11070,\"nodeord\":27,\"routeid\":\"GMB91030\"},{\"gpslati\":36.16795552,\"gpslong\":128.4356707,\"nodeid\":\"GMB1062\",\"nodenm\":\"산동농협경제사업소앞\",\"nodeno\":11062,\"nodeord\":28,\"routeid\":\"GMB91030\"},{\"gpslati\":36.16793689,\"gpslong\":128.4380142,\"nodeid\":\"GMB1117\",\"nodenm\":\"산동보건지소앞\",\"nodeno\":11117,\"nodeord\":29,\"routeid\":\"GMB91030\"},{\"gpslati\":36.16579687,\"gpslong\":128.44259389,\"nodeid\":\"GMB1211\",\"nodenm\":\"인덕리(확장단지방면)\",\"nodeno\":11211,\"nodeord\":30,\"routeid\":\"GMB91030\"},{\"gpslati\":36.16373939,\"gpslong\":128.44206869,\"nodeid\":\"GMB1050\",\"nodenm\":\"인덕중흥S클래스앞\",\"nodeno\":11050,\"nodeord\":31,\"routeid\":\"GMB91030\"},{\"gpslati\":36.1613464,\"gpslong\":128.4389753,\"nodeid\":\"GMB1071\",\"nodenm\":\"중흥S클래스에코시티\",\"nodeno\":11071,\"nodeord\":32,\"routeid\":\"GMB91030\"},{\"gpslati\":36.1613464,\"gpslong\":128.4360666,\"nodeid\":\"GMB1047\",\"nodenm\":\"우미린풀하우스정문\",\"nodeno\":11047,\"nodeord\":33,\"routeid\":\"GMB91030\"},{\"gpslati\":36.16133747,\"gpslong\":128.4321,\"nodeid\":\"GMB1069\",\"nodenm\":\"우미린센트럴파크 후문건너\",\"nodeno\":11069,\"nodeord\":34,\"routeid\":\"GMB91030\"},{\"gpslati\":36.15985002,\"gpslong\":128.4282415,\"nodeid\":\"GMB1111\",\"nodenm\":\"쌍용예가더파크아파트\",\"nodeno\":11111,\"nodeord\":35,\"routeid\":\"GMB91030\"},{\"gpslati\":36.1573987,\"gpslong\":128.4280015,\"nodeid\":\"GMB1067\",\"nodenm\":\"골드클래스건너\",\"nodeno\":11067,\"nodeord\":36,\"routeid\":\"GMB91030\"},{\"gpslati\":36.15481947,\"gpslong\":128.4280336,\"nodeid\":\"GMB1065\",\"nodenm\":\"물내음 공원입구\",\"nodeno\":11065,\"nodeord\":37,\"routeid\":\"GMB91030\"},{\"gpslati\":36.14720797,\"gpslong\":128.4267491,\"nodeid\":\"GMB1114\",\"nodenm\":\"호반베르디움후문건너\",\"nodeno\":11114,\"nodeord\":38,\"routeid\":\"GMB91030\"},{\"gpslati\":36.14603557,\"gpslong\":128.4221885,\"nodeid\":\"GMB1116\",\"nodenm\":\"옥계성당건너\",\"nodeno\":11116,\"nodeord\":39,\"routeid\":\"GMB91030\"},{\"gpslati\":36.13972754,\"gpslong\":128.4176605,\"nodeid\":\"GMB621\",\"nodenm\":\"옥계부영아파트앞\",\"nodeno\":10621,\"nodeord\":40,\"routeid\":\"GMB91030\"},{\"gpslati\":36.13781552,\"gpslong\":128.4173574,\"nodeid\":\"GMB3\",\"nodenm\":\"4공단입구건너(인동농협옥계지점)\",\"nodeno\":10003,\"nodeord\":41,\"routeid\":\"GMB91030\"},{\"gpslati\":36.13710958,\"gpslong\":128.4161283,\"nodeid\":\"GMB620\",\"nodenm\":\"옥계대우아파트앞\",\"nodeno\":10620,\"nodeord\":42,\"routeid\":\"GMB91030\"},{\"gpslati\":36.13747946,\"gpslong\":128.4135441,\"nodeid\":\"GMB505\",\"nodenm\":\"신나리아파트\",\"nodeno\":10505,\"nodeord\":43,\"routeid\":\"GMB91030\"},{\"gpslati\":36.13701578,\"gpslong\":128.4119213,\"nodeid\":\"GMB626\",\"nodenm\":\"옥계중학교앞\",\"nodeno\":10626,\"nodeord\":44,\"routeid\":\"GMB91030\"},{\"gpslati\":36.13473591,\"gpslong\":128.3964238,\"nodeid\":\"GMB1105\",\"nodenm\":\"일이삼철강 건너\",\"nodeno\":11105,\"nodeord\":45,\"routeid\":\"GMB91030\"},{\"gpslati\":36.12910736,\"gpslong\":128.3911848,\"nodeid\":\"GMB553\",\"nodenm\":\"양호동빈수골(엘지연수원방면)\",\"nodeno\":10553,\"nodeord\":46,\"routeid\":\"GMB91030\"},{\"gpslati\":36.12130876,\"gpslong\":128.3854717,\"nodeid\":\"GMB564\",\"nodenm\":\"엘지연수원앞\",\"nodeno\":10564,\"nodeord\":47,\"routeid\":\"GMB91030\"},{\"gpslati\":36.11574551,\"gpslong\":128.3853548,\"nodeid\":\"GMB160\",\"nodenm\":\"LIG넥스원건너\",\"nodeno\":10160,\"nodeord\":48,\"routeid\":\"GMB91030\"},{\"gpslati\":36.11164432,\"gpslong\":128.3852727,\"nodeid\":\"GMB452\",\"nodenm\":\"세무서4거리\",\"nodeno\":10452,\"nodeord\":49,\"routeid\":\"GMB91030\"},{\"gpslati\":36.11109129,\"gpslong\":128.3835073,\"nodeid\":\"GMB74\",\"nodenm\":\"구미세무서앞\",\"nodeno\":10074,\"nodeord\":50,\"routeid\":\"GMB91030\"},{\"gpslati\":36.11108779,\"gpslong\":128.3790454,\"nodeid\":\"GMB46\",\"nodenm\":\"공단본부앞\",\"nodeno\":10046,\"nodeord\":51,\"routeid\":\"GMB91030\"},{\"gpslati\":36.11108251,\"gpslong\":128.374568,\"nodeid\":\"GMB831\",\"nodenm\":\"LG유니참앞\",\"nodeno\":10831,\"nodeord\":52,\"routeid\":\"GMB91030\"},{\"gpslati\":36.11105703,\"gpslong\":128.3700712,\"nodeid\":\"GMB795\",\"nodenm\":\"KEC정문\",\"nodeno\":10795,\"nodeord\":53,\"routeid\":\"GMB91030\"},{\"gpslati\":36.11334734,\"gpslong\":128.3640135,\"nodeid\":\"GMB260\",\"nodenm\":\"롯데마트앞\",\"nodeno\":10260,\"nodeord\":54,\"routeid\":\"GMB91030\"},{\"gpslati\":36.11616768,\"gpslong\":128.3632418,\"nodeid\":\"GMB527\",\"nodenm\":\"구미경찰서\",\"nodeno\":10527,\"nodeord\":55,\"routeid\":\"GMB91030\"},{\"gpslati\":36.1195893,\"gpslong\":128.3605576,\"nodeid\":\"GMB531\",\"nodenm\":\"구미IC네거리(구미종합터미널건너방면)\",\"nodeno\":10531,\"nodeord\":56,\"routeid\":\"GMB91030\"},{\"gpslati\":36.12267599,\"gpslong\":128.35084,\"nodeid\":\"GMB89\",\"nodenm\":\"구미종합터미널건너\",\"nodeno\":10089,\"nodeord\":57,\"routeid\":\"GMB91030\"},{\"gpslati\":36.12230851,\"gpslong\":128.3482793,\"nodeid\":\"GMB804\",\"nodenm\":\"터미널네거리(송원고가밑방면)\",\"nodeno\":10804,\"nodeord\":58,\"routeid\":\"GMB91030\"},{\"gpslati\":36.12341245,\"gpslong\":128.3439691,\"nodeid\":\"GMB477\",\"nodenm\":\"송원고가밑(구미역방면)\",\"nodeno\":10477,\"nodeord\":59,\"routeid\":\"GMB91030\"},{\"gpslati\":36.12474098,\"gpslong\":128.340973,\"nodeid\":\"GMB657\",\"nodenm\":\"금오시장 입구\",\"nodeno\":10657,\"nodeord\":60,\"routeid\":\"GMB91030\"},{\"gpslati\":36.12581949,\"gpslong\":128.3388928,\"nodeid\":\"GMB137\",\"nodenm\":\"원평동 행정복지 센터 앞\",\"nodeno\":10137,\"nodeord\":61,\"routeid\":\"GMB91030\"},{\"gpslati\":36.12718339,\"gpslong\":128.3356625,\"nodeid\":\"GMB177\",\"nodenm\":\"대구은행앞\",\"nodeno\":10177,\"nodeord\":62,\"routeid\":\"GMB91030\"},{\"gpslati\":36.12861582,\"gpslong\":128.3322865,\"nodeid\":\"GMB119\",\"nodenm\":\"구미역 전(국민은행)\",\"nodeno\":10119,\"nodeord\":63,\"routeid\":\"GMB91030\"},{\"gpslati\":36.12962183,\"gpslong\":128.3298341,\"nodeid\":\"GMB79\",\"nodenm\":\"구미역(중앙시장)\",\"nodeno\":10079,\"nodeord\":64,\"routeid\":\"GMB91030\"}]},\"numOfRows\":1000000000,\"pageNo\":1,\"totalCount\":64}}}\n"
     ]
    }
   ],
   "source": [
    "# API 요청\n",
    "import requests\n",
    "\n",
    "url = 'http://apis.data.go.kr/1613000/BusRouteInfoInqireService/getRouteAcctoThrghSttnList'\n",
    "params ={'serviceKey' : 'wRGALjymSzbi/GLVDdu69u7/jHfZ6d1luMJ6H3t3uCt5BETeM0wzS48xVuJ0Gv8lqct7bqmHnr6jA47/T4OvLA=='\n",
    "         , 'pageNo' : '1', 'numOfRows' : '1000000000', '_type' : 'json', 'cityCode' : '37050', 'routeId' : 'GMB91030' }\n",
    "\n",
    "response = requests.get(url, params=params)\n",
    "print(response.text)"
   ]
  },
  {
   "cell_type": "code",
   "execution_count": 2,
   "metadata": {},
   "outputs": [
    {
     "name": "stdout",
     "output_type": "stream",
     "text": [
      "<class 'dict'>\n",
      "{'response': {'header': {'resultCode': '00', 'resultMsg': 'NORMAL SERVICE.'}, 'body': {'items': {'item': [{'gpslati': 36.12963461, 'gpslong': 128.3293215, 'nodeid': 'GMB80', 'nodenm': '구미역', 'nodeno': 10080, 'nodeord': 1, 'routeid': 'GMB91030'}, {'gpslati': 36.12802335, 'gpslong': 128.3331997, 'nodeid': 'GMB167', 'nodenm': '농협', 'nodeno': 10167, 'nodeord': 2, 'routeid': 'GMB91030'}, {'gpslati': 36.12688792, 'gpslong': 128.3358796, 'nodeid': 'GMB134', 'nodenm': '금오산사거리', 'nodeno': 10134, 'nodeord': 3, 'routeid': 'GMB91030'}, {'gpslati': 36.12604377, 'gpslong': 128.3378738, 'nodeid': 'GMB901', 'nodenm': '원평동 행정복지센터 건너', 'nodeno': 10901, 'nodeord': 4, 'routeid': 'GMB91030'}, {'gpslati': 36.12527783, 'gpslong': 128.339623, 'nodeid': 'GMB138', 'nodenm': '금오시장 건너', 'nodeno': 10138, 'nodeord': 5, 'routeid': 'GMB91030'}, {'gpslati': 36.12386997, 'gpslong': 128.3421501, 'nodeid': 'GMB476', 'nodenm': '송원고가밑(터미널네거리방면)', 'nodeno': 10476, 'nodeord': 6, 'routeid': 'GMB91030'}, {'gpslati': 36.12222128, 'gpslong': 128.3478662, 'nodeid': 'GMB803', 'nodenm': '터미널네거리(오성예식장앞방면)', 'nodeno': 10803, 'nodeord': 7, 'routeid': 'GMB91030'}, {'gpslati': 36.12119339, 'gpslong': 128.351442, 'nodeid': 'GMB92', 'nodenm': '오성예식장앞', 'nodeno': 10092, 'nodeord': 8, 'routeid': 'GMB91030'}, {'gpslati': 36.119205, 'gpslong': 128.3601083, 'nodeid': 'GMB532', 'nodenm': '구미IC네거리(구미경찰서방면)', 'nodeno': 10532, 'nodeord': 9, 'routeid': 'GMB91030'}, {'gpslati': 36.11631541, 'gpslong': 128.3626142, 'nodeid': 'GMB526', 'nodenm': '구미경찰서건너', 'nodeno': 10526, 'nodeord': 10, 'routeid': 'GMB91030'}, {'gpslati': 36.11409104, 'gpslong': 128.3632289, 'nodeid': 'GMB259', 'nodenm': '롯데마트건너', 'nodeno': 10259, 'nodeord': 11, 'routeid': 'GMB91030'}, {'gpslati': 36.11073995, 'gpslong': 128.3697752, 'nodeid': 'GMB796', 'nodenm': '코오롱', 'nodeno': 10796, 'nodeord': 12, 'routeid': 'GMB91030'}, {'gpslati': 36.11076986, 'gpslong': 128.3767944, 'nodeid': 'GMB47', 'nodenm': '공단본부건너', 'nodeno': 10047, 'nodeord': 13, 'routeid': 'GMB91030'}, {'gpslati': 36.11198279, 'gpslong': 128.38555399, 'nodeid': 'GMB1191', 'nodenm': '세무서네거리', 'nodeno': 11191, 'nodeord': 14, 'routeid': 'GMB91030'}, {'gpslati': 36.11576432, 'gpslong': 128.3855943, 'nodeid': 'GMB161', 'nodenm': 'LIG넥스원앞', 'nodeno': 10161, 'nodeord': 15, 'routeid': 'GMB91030'}, {'gpslati': 36.1210508, 'gpslong': 128.3857179, 'nodeid': 'GMB563', 'nodenm': '엘지연수원건너', 'nodeno': 10563, 'nodeord': 16, 'routeid': 'GMB91030'}, {'gpslati': 36.12907707, 'gpslong': 128.391727, 'nodeid': 'GMB552', 'nodenm': '양호동빈수골(금오공대입구방면)', 'nodeno': 10552, 'nodeord': 17, 'routeid': 'GMB91030'}, {'gpslati': 36.13640645, 'gpslong': 128.4114203, 'nodeid': 'GMB625', 'nodenm': '옥계중학교건너', 'nodeno': 10625, 'nodeord': 18, 'routeid': 'GMB91030'}, {'gpslati': 36.13692823, 'gpslong': 128.4150098, 'nodeid': 'GMB619', 'nodenm': '옥계대우아파트건너', 'nodeno': 10619, 'nodeord': 19, 'routeid': 'GMB91030'}, {'gpslati': 36.13773879, 'gpslong': 128.4177662, 'nodeid': 'GMB5', 'nodenm': '4공단입구(옥계방면)', 'nodeno': 10005, 'nodeord': 20, 'routeid': 'GMB91030'}, {'gpslati': 36.14089299, 'gpslong': 128.4181015, 'nodeid': 'GMB622', 'nodenm': '옥계부영아파트건너', 'nodeno': 10622, 'nodeord': 21, 'routeid': 'GMB91030'}, {'gpslati': 36.14570347, 'gpslong': 128.4222996, 'nodeid': 'GMB1115', 'nodenm': '옥계성당', 'nodeno': 11115, 'nodeord': 22, 'routeid': 'GMB91030'}, {'gpslati': 36.14695457, 'gpslong': 128.4269103, 'nodeid': 'GMB1113', 'nodenm': '호반베르디움후문', 'nodeno': 11113, 'nodeord': 23, 'routeid': 'GMB91030'}, {'gpslati': 36.15472305, 'gpslong': 128.4283149, 'nodeid': 'GMB1066', 'nodenm': '물내음 공원입구건너', 'nodeno': 11066, 'nodeord': 24, 'routeid': 'GMB91030'}, {'gpslati': 36.15738263, 'gpslong': 128.4282666, 'nodeid': 'GMB1068', 'nodenm': '골드클래스앞', 'nodeno': 11068, 'nodeord': 25, 'routeid': 'GMB91030'}, {'gpslati': 36.15973905, 'gpslong': 128.4284925, 'nodeid': 'GMB1112', 'nodenm': '쌍용예가더파크아파트건너', 'nodeno': 11112, 'nodeord': 26, 'routeid': 'GMB91030'}, {'gpslati': 36.16106566, 'gpslong': 128.4311596, 'nodeid': 'GMB1070', 'nodenm': '우미린센트럴파크 후문', 'nodeno': 11070, 'nodeord': 27, 'routeid': 'GMB91030'}, {'gpslati': 36.16795552, 'gpslong': 128.4356707, 'nodeid': 'GMB1062', 'nodenm': '산동농협경제사업소앞', 'nodeno': 11062, 'nodeord': 28, 'routeid': 'GMB91030'}, {'gpslati': 36.16793689, 'gpslong': 128.4380142, 'nodeid': 'GMB1117', 'nodenm': '산동보건지소앞', 'nodeno': 11117, 'nodeord': 29, 'routeid': 'GMB91030'}, {'gpslati': 36.16579687, 'gpslong': 128.44259389, 'nodeid': 'GMB1211', 'nodenm': '인덕리(확장단지방면)', 'nodeno': 11211, 'nodeord': 30, 'routeid': 'GMB91030'}, {'gpslati': 36.16373939, 'gpslong': 128.44206869, 'nodeid': 'GMB1050', 'nodenm': '인덕중흥S클래스앞', 'nodeno': 11050, 'nodeord': 31, 'routeid': 'GMB91030'}, {'gpslati': 36.1613464, 'gpslong': 128.4389753, 'nodeid': 'GMB1071', 'nodenm': '중흥S클래스에코시티', 'nodeno': 11071, 'nodeord': 32, 'routeid': 'GMB91030'}, {'gpslati': 36.1613464, 'gpslong': 128.4360666, 'nodeid': 'GMB1047', 'nodenm': '우미린풀하우스정문', 'nodeno': 11047, 'nodeord': 33, 'routeid': 'GMB91030'}, {'gpslati': 36.16133747, 'gpslong': 128.4321, 'nodeid': 'GMB1069', 'nodenm': '우미린센트럴파크 후문건너', 'nodeno': 11069, 'nodeord': 34, 'routeid': 'GMB91030'}, {'gpslati': 36.15985002, 'gpslong': 128.4282415, 'nodeid': 'GMB1111', 'nodenm': '쌍용예가더파크아파트', 'nodeno': 11111, 'nodeord': 35, 'routeid': 'GMB91030'}, {'gpslati': 36.1573987, 'gpslong': 128.4280015, 'nodeid': 'GMB1067', 'nodenm': '골드클래스건너', 'nodeno': 11067, 'nodeord': 36, 'routeid': 'GMB91030'}, {'gpslati': 36.15481947, 'gpslong': 128.4280336, 'nodeid': 'GMB1065', 'nodenm': '물내음 공원입구', 'nodeno': 11065, 'nodeord': 37, 'routeid': 'GMB91030'}, {'gpslati': 36.14720797, 'gpslong': 128.4267491, 'nodeid': 'GMB1114', 'nodenm': '호반베르디움후문건너', 'nodeno': 11114, 'nodeord': 38, 'routeid': 'GMB91030'}, {'gpslati': 36.14603557, 'gpslong': 128.4221885, 'nodeid': 'GMB1116', 'nodenm': '옥계성당건너', 'nodeno': 11116, 'nodeord': 39, 'routeid': 'GMB91030'}, {'gpslati': 36.13972754, 'gpslong': 128.4176605, 'nodeid': 'GMB621', 'nodenm': '옥계부영아파트앞', 'nodeno': 10621, 'nodeord': 40, 'routeid': 'GMB91030'}, {'gpslati': 36.13781552, 'gpslong': 128.4173574, 'nodeid': 'GMB3', 'nodenm': '4공단입구건너(인동농협옥계지점)', 'nodeno': 10003, 'nodeord': 41, 'routeid': 'GMB91030'}, {'gpslati': 36.13710958, 'gpslong': 128.4161283, 'nodeid': 'GMB620', 'nodenm': '옥계대우아파트앞', 'nodeno': 10620, 'nodeord': 42, 'routeid': 'GMB91030'}, {'gpslati': 36.13747946, 'gpslong': 128.4135441, 'nodeid': 'GMB505', 'nodenm': '신나리아파트', 'nodeno': 10505, 'nodeord': 43, 'routeid': 'GMB91030'}, {'gpslati': 36.13701578, 'gpslong': 128.4119213, 'nodeid': 'GMB626', 'nodenm': '옥계중학교앞', 'nodeno': 10626, 'nodeord': 44, 'routeid': 'GMB91030'}, {'gpslati': 36.13473591, 'gpslong': 128.3964238, 'nodeid': 'GMB1105', 'nodenm': '일이삼철강 건너', 'nodeno': 11105, 'nodeord': 45, 'routeid': 'GMB91030'}, {'gpslati': 36.12910736, 'gpslong': 128.3911848, 'nodeid': 'GMB553', 'nodenm': '양호동빈수골(엘지연수원방면)', 'nodeno': 10553, 'nodeord': 46, 'routeid': 'GMB91030'}, {'gpslati': 36.12130876, 'gpslong': 128.3854717, 'nodeid': 'GMB564', 'nodenm': '엘지연수원앞', 'nodeno': 10564, 'nodeord': 47, 'routeid': 'GMB91030'}, {'gpslati': 36.11574551, 'gpslong': 128.3853548, 'nodeid': 'GMB160', 'nodenm': 'LIG넥스원건너', 'nodeno': 10160, 'nodeord': 48, 'routeid': 'GMB91030'}, {'gpslati': 36.11164432, 'gpslong': 128.3852727, 'nodeid': 'GMB452', 'nodenm': '세무서4거리', 'nodeno': 10452, 'nodeord': 49, 'routeid': 'GMB91030'}, {'gpslati': 36.11109129, 'gpslong': 128.3835073, 'nodeid': 'GMB74', 'nodenm': '구미세무서앞', 'nodeno': 10074, 'nodeord': 50, 'routeid': 'GMB91030'}, {'gpslati': 36.11108779, 'gpslong': 128.3790454, 'nodeid': 'GMB46', 'nodenm': '공단본부앞', 'nodeno': 10046, 'nodeord': 51, 'routeid': 'GMB91030'}, {'gpslati': 36.11108251, 'gpslong': 128.374568, 'nodeid': 'GMB831', 'nodenm': 'LG유니참앞', 'nodeno': 10831, 'nodeord': 52, 'routeid': 'GMB91030'}, {'gpslati': 36.11105703, 'gpslong': 128.3700712, 'nodeid': 'GMB795', 'nodenm': 'KEC정문', 'nodeno': 10795, 'nodeord': 53, 'routeid': 'GMB91030'}, {'gpslati': 36.11334734, 'gpslong': 128.3640135, 'nodeid': 'GMB260', 'nodenm': '롯데마트앞', 'nodeno': 10260, 'nodeord': 54, 'routeid': 'GMB91030'}, {'gpslati': 36.11616768, 'gpslong': 128.3632418, 'nodeid': 'GMB527', 'nodenm': '구미경찰서', 'nodeno': 10527, 'nodeord': 55, 'routeid': 'GMB91030'}, {'gpslati': 36.1195893, 'gpslong': 128.3605576, 'nodeid': 'GMB531', 'nodenm': '구미IC네거리(구미종합터미널건너방면)', 'nodeno': 10531, 'nodeord': 56, 'routeid': 'GMB91030'}, {'gpslati': 36.12267599, 'gpslong': 128.35084, 'nodeid': 'GMB89', 'nodenm': '구미종합터미널건너', 'nodeno': 10089, 'nodeord': 57, 'routeid': 'GMB91030'}, {'gpslati': 36.12230851, 'gpslong': 128.3482793, 'nodeid': 'GMB804', 'nodenm': '터미널네거리(송원고가밑방면)', 'nodeno': 10804, 'nodeord': 58, 'routeid': 'GMB91030'}, {'gpslati': 36.12341245, 'gpslong': 128.3439691, 'nodeid': 'GMB477', 'nodenm': '송원고가밑(구미역방면)', 'nodeno': 10477, 'nodeord': 59, 'routeid': 'GMB91030'}, {'gpslati': 36.12474098, 'gpslong': 128.340973, 'nodeid': 'GMB657', 'nodenm': '금오시장 입구', 'nodeno': 10657, 'nodeord': 60, 'routeid': 'GMB91030'}, {'gpslati': 36.12581949, 'gpslong': 128.3388928, 'nodeid': 'GMB137', 'nodenm': '원평동 행정복지 센터 앞', 'nodeno': 10137, 'nodeord': 61, 'routeid': 'GMB91030'}, {'gpslati': 36.12718339, 'gpslong': 128.3356625, 'nodeid': 'GMB177', 'nodenm': '대구은행앞', 'nodeno': 10177, 'nodeord': 62, 'routeid': 'GMB91030'}, {'gpslati': 36.12861582, 'gpslong': 128.3322865, 'nodeid': 'GMB119', 'nodenm': '구미역 전(국민은행)', 'nodeno': 10119, 'nodeord': 63, 'routeid': 'GMB91030'}, {'gpslati': 36.12962183, 'gpslong': 128.3298341, 'nodeid': 'GMB79', 'nodenm': '구미역(중앙시장)', 'nodeno': 10079, 'nodeord': 64, 'routeid': 'GMB91030'}]}, 'numOfRows': 1000000000, 'pageNo': 1, 'totalCount': 64}}}\n"
     ]
    }
   ],
   "source": [
    "# json 파일 -> 딕셔너리로 변환\n",
    "import json\n",
    "\n",
    "data = json.loads(response.text)\n",
    "print(type(data))\n",
    "print(data)"
   ]
  },
  {
   "cell_type": "code",
   "execution_count": 3,
   "metadata": {},
   "outputs": [
    {
     "data": {
      "text/plain": [
       "64"
      ]
     },
     "execution_count": 3,
     "metadata": {},
     "output_type": "execute_result"
    }
   ],
   "source": [
    "# 910번 경유 정류소는 총 64개\n",
    "data['response']['body']['totalCount']"
   ]
  },
  {
   "cell_type": "code",
   "execution_count": 4,
   "metadata": {},
   "outputs": [
    {
     "data": {
      "text/plain": [
       "list"
      ]
     },
     "execution_count": 4,
     "metadata": {},
     "output_type": "execute_result"
    }
   ],
   "source": [
    "type(data['response']['body']['items']['item'])"
   ]
  },
  {
   "cell_type": "code",
   "execution_count": 5,
   "metadata": {},
   "outputs": [
    {
     "data": {
      "text/html": [
       "<div>\n",
       "<style scoped>\n",
       "    .dataframe tbody tr th:only-of-type {\n",
       "        vertical-align: middle;\n",
       "    }\n",
       "\n",
       "    .dataframe tbody tr th {\n",
       "        vertical-align: top;\n",
       "    }\n",
       "\n",
       "    .dataframe thead th {\n",
       "        text-align: right;\n",
       "    }\n",
       "</style>\n",
       "<table border=\"1\" class=\"dataframe\">\n",
       "  <thead>\n",
       "    <tr style=\"text-align: right;\">\n",
       "      <th></th>\n",
       "      <th>gpslati</th>\n",
       "      <th>gpslong</th>\n",
       "      <th>nodeid</th>\n",
       "      <th>nodenm</th>\n",
       "      <th>nodeno</th>\n",
       "      <th>nodeord</th>\n",
       "      <th>routeid</th>\n",
       "    </tr>\n",
       "  </thead>\n",
       "  <tbody>\n",
       "    <tr>\n",
       "      <th>0</th>\n",
       "      <td>36.129635</td>\n",
       "      <td>128.329321</td>\n",
       "      <td>GMB80</td>\n",
       "      <td>구미역</td>\n",
       "      <td>10080</td>\n",
       "      <td>1</td>\n",
       "      <td>GMB91030</td>\n",
       "    </tr>\n",
       "    <tr>\n",
       "      <th>1</th>\n",
       "      <td>36.128023</td>\n",
       "      <td>128.333200</td>\n",
       "      <td>GMB167</td>\n",
       "      <td>농협</td>\n",
       "      <td>10167</td>\n",
       "      <td>2</td>\n",
       "      <td>GMB91030</td>\n",
       "    </tr>\n",
       "    <tr>\n",
       "      <th>2</th>\n",
       "      <td>36.126888</td>\n",
       "      <td>128.335880</td>\n",
       "      <td>GMB134</td>\n",
       "      <td>금오산사거리</td>\n",
       "      <td>10134</td>\n",
       "      <td>3</td>\n",
       "      <td>GMB91030</td>\n",
       "    </tr>\n",
       "    <tr>\n",
       "      <th>3</th>\n",
       "      <td>36.126044</td>\n",
       "      <td>128.337874</td>\n",
       "      <td>GMB901</td>\n",
       "      <td>원평동 행정복지센터 건너</td>\n",
       "      <td>10901</td>\n",
       "      <td>4</td>\n",
       "      <td>GMB91030</td>\n",
       "    </tr>\n",
       "    <tr>\n",
       "      <th>4</th>\n",
       "      <td>36.125278</td>\n",
       "      <td>128.339623</td>\n",
       "      <td>GMB138</td>\n",
       "      <td>금오시장 건너</td>\n",
       "      <td>10138</td>\n",
       "      <td>5</td>\n",
       "      <td>GMB91030</td>\n",
       "    </tr>\n",
       "  </tbody>\n",
       "</table>\n",
       "</div>"
      ],
      "text/plain": [
       "     gpslati     gpslong  nodeid         nodenm  nodeno  nodeord   routeid\n",
       "0  36.129635  128.329321   GMB80            구미역   10080        1  GMB91030\n",
       "1  36.128023  128.333200  GMB167             농협   10167        2  GMB91030\n",
       "2  36.126888  128.335880  GMB134         금오산사거리   10134        3  GMB91030\n",
       "3  36.126044  128.337874  GMB901  원평동 행정복지센터 건너   10901        4  GMB91030\n",
       "4  36.125278  128.339623  GMB138        금오시장 건너   10138        5  GMB91030"
      ]
     },
     "execution_count": 5,
     "metadata": {},
     "output_type": "execute_result"
    }
   ],
   "source": [
    "# df로 변환\n",
    "import pandas as pd\n",
    "\n",
    "df = pd.DataFrame(data['response']['body']['items']['item'])\n",
    "df.head()"
   ]
  },
  {
   "cell_type": "code",
   "execution_count": 6,
   "metadata": {},
   "outputs": [
    {
     "data": {
      "text/html": [
       "<div>\n",
       "<style scoped>\n",
       "    .dataframe tbody tr th:only-of-type {\n",
       "        vertical-align: middle;\n",
       "    }\n",
       "\n",
       "    .dataframe tbody tr th {\n",
       "        vertical-align: top;\n",
       "    }\n",
       "\n",
       "    .dataframe thead th {\n",
       "        text-align: right;\n",
       "    }\n",
       "</style>\n",
       "<table border=\"1\" class=\"dataframe\">\n",
       "  <thead>\n",
       "    <tr style=\"text-align: right;\">\n",
       "      <th></th>\n",
       "      <th>위도</th>\n",
       "      <th>경도</th>\n",
       "      <th>정류소ID</th>\n",
       "      <th>정류소명</th>\n",
       "      <th>정류소번호</th>\n",
       "      <th>정류소순서</th>\n",
       "      <th>노선번호</th>\n",
       "    </tr>\n",
       "  </thead>\n",
       "  <tbody>\n",
       "    <tr>\n",
       "      <th>0</th>\n",
       "      <td>36.129635</td>\n",
       "      <td>128.329321</td>\n",
       "      <td>GMB80</td>\n",
       "      <td>구미역</td>\n",
       "      <td>10080</td>\n",
       "      <td>1</td>\n",
       "      <td>GMB91030</td>\n",
       "    </tr>\n",
       "    <tr>\n",
       "      <th>1</th>\n",
       "      <td>36.128023</td>\n",
       "      <td>128.333200</td>\n",
       "      <td>GMB167</td>\n",
       "      <td>농협</td>\n",
       "      <td>10167</td>\n",
       "      <td>2</td>\n",
       "      <td>GMB91030</td>\n",
       "    </tr>\n",
       "    <tr>\n",
       "      <th>2</th>\n",
       "      <td>36.126888</td>\n",
       "      <td>128.335880</td>\n",
       "      <td>GMB134</td>\n",
       "      <td>금오산사거리</td>\n",
       "      <td>10134</td>\n",
       "      <td>3</td>\n",
       "      <td>GMB91030</td>\n",
       "    </tr>\n",
       "  </tbody>\n",
       "</table>\n",
       "</div>"
      ],
      "text/plain": [
       "          위도          경도   정류소ID    정류소명  정류소번호  정류소순서      노선번호\n",
       "0  36.129635  128.329321   GMB80     구미역  10080      1  GMB91030\n",
       "1  36.128023  128.333200  GMB167      농협  10167      2  GMB91030\n",
       "2  36.126888  128.335880  GMB134  금오산사거리  10134      3  GMB91030"
      ]
     },
     "execution_count": 6,
     "metadata": {},
     "output_type": "execute_result"
    }
   ],
   "source": [
    "# 가독성을 위해 한글명으로 컬럼명 변경\n",
    "df= df.rename(columns={'gpslati': '위도', 'gpslong': '경도', 'nodeid': '정류소ID', 'nodenm': '정류소명', 'nodeno': '정류소번호'\n",
    "                   ,'nodeord': '정류소순서', 'routeid': '노선번호'})\n",
    "df.head(3)"
   ]
  },
  {
   "cell_type": "markdown",
   "metadata": {},
   "source": [
    "### ***모든 노선ID를 돌면서 위와 같이 노선별 경유 정류소 목록을 조회하기***"
   ]
  },
  {
   "cell_type": "code",
   "execution_count": 8,
   "metadata": {},
   "outputs": [
    {
     "data": {
      "text/html": [
       "<div>\n",
       "<style scoped>\n",
       "    .dataframe tbody tr th:only-of-type {\n",
       "        vertical-align: middle;\n",
       "    }\n",
       "\n",
       "    .dataframe tbody tr th {\n",
       "        vertical-align: top;\n",
       "    }\n",
       "\n",
       "    .dataframe thead th {\n",
       "        text-align: right;\n",
       "    }\n",
       "</style>\n",
       "<table border=\"1\" class=\"dataframe\">\n",
       "  <thead>\n",
       "    <tr style=\"text-align: right;\">\n",
       "      <th></th>\n",
       "      <th>종점</th>\n",
       "      <th>막차시간</th>\n",
       "      <th>노선ID</th>\n",
       "      <th>노선번호</th>\n",
       "      <th>노선유형</th>\n",
       "      <th>기점</th>\n",
       "      <th>첫차시간</th>\n",
       "    </tr>\n",
       "  </thead>\n",
       "  <tbody>\n",
       "    <tr>\n",
       "      <th>0</th>\n",
       "      <td>구미역(중앙시장)</td>\n",
       "      <td>2146</td>\n",
       "      <td>GMB19120</td>\n",
       "      <td>191</td>\n",
       "      <td>일반버스</td>\n",
       "      <td>옥계이편한세상APT앞</td>\n",
       "      <td>908</td>\n",
       "    </tr>\n",
       "    <tr>\n",
       "      <th>1</th>\n",
       "      <td>해평버스정류장</td>\n",
       "      <td>2150</td>\n",
       "      <td>GMB19210</td>\n",
       "      <td>192</td>\n",
       "      <td>좌석버스</td>\n",
       "      <td>구미역</td>\n",
       "      <td>835</td>\n",
       "    </tr>\n",
       "    <tr>\n",
       "      <th>2</th>\n",
       "      <td>구미역(중앙시장)</td>\n",
       "      <td>2253</td>\n",
       "      <td>GMB19220</td>\n",
       "      <td>192</td>\n",
       "      <td>좌석버스</td>\n",
       "      <td>해평버스정류장</td>\n",
       "      <td>625</td>\n",
       "    </tr>\n",
       "  </tbody>\n",
       "</table>\n",
       "</div>"
      ],
      "text/plain": [
       "          종점  막차시간      노선ID 노선번호  노선유형           기점  첫차시간\n",
       "0  구미역(중앙시장)  2146  GMB19120  191  일반버스  옥계이편한세상APT앞   908\n",
       "1    해평버스정류장  2150  GMB19210  192  좌석버스          구미역   835\n",
       "2  구미역(중앙시장)  2253  GMB19220  192  좌석버스      해평버스정류장   625"
      ]
     },
     "execution_count": 8,
     "metadata": {},
     "output_type": "execute_result"
    }
   ],
   "source": [
    "# 모든 노선ID 가져오기\n",
    "route = pd.read_csv('구미버스_노선번호.csv')\n",
    "route.head(3)"
   ]
  },
  {
   "cell_type": "code",
   "execution_count": 9,
   "metadata": {},
   "outputs": [
    {
     "name": "stdout",
     "output_type": "stream",
     "text": [
      "GMB19120\n",
      "340\n"
     ]
    }
   ],
   "source": [
    "route_nums = route.노선ID.values\n",
    "print(route_nums[0])\n",
    "print(len(route_nums))"
   ]
  },
  {
   "cell_type": "code",
   "execution_count": 10,
   "metadata": {},
   "outputs": [
    {
     "data": {
      "text/plain": [
       "True"
      ]
     },
     "execution_count": 10,
     "metadata": {},
     "output_type": "execute_result"
    }
   ],
   "source": [
    "route_nums[0] == 'GMB19120'"
   ]
  },
  {
   "cell_type": "code",
   "execution_count": 11,
   "metadata": {},
   "outputs": [],
   "source": [
    "res = []\n",
    "for num in route_nums:\n",
    "   # API 요청\n",
    "   url = 'http://apis.data.go.kr/1613000/BusRouteInfoInqireService/getRouteAcctoThrghSttnList'\n",
    "   params ={'serviceKey' : 'wRGALjymSzbi/GLVDdu69u7/jHfZ6d1luMJ6H3t3uCt5BETeM0wzS48xVuJ0Gv8lqct7bqmHnr6jA47/T4OvLA=='\n",
    "         , 'pageNo' : '1', 'numOfRows' : '1000000000', '_type' : 'json', 'cityCode' : '37050', 'routeId' : num }\n",
    "\n",
    "   response = requests.get(url, params=params)\n",
    "   if response.status_code == 200:\n",
    "      data = json.loads(response.text)\n",
    "      \n",
    "      if type(data['response']['body']['items']['item']) == list:\n",
    "         df = pd.DataFrame(data['response']['body']['items']['item'])\n",
    "         res.append(df)\n",
    "\n",
    "      elif type(data['response']['body']['items']['item']) == dict:\n",
    "         df = pd.DataFrame([data['response']['body']['items']['item']])\n",
    "         res.append(df)\n",
    "\n",
    "   else: print(num)"
   ]
  },
  {
   "cell_type": "code",
   "execution_count": 12,
   "metadata": {},
   "outputs": [
    {
     "data": {
      "text/plain": [
       "340"
      ]
     },
     "execution_count": 12,
     "metadata": {},
     "output_type": "execute_result"
    }
   ],
   "source": [
    "# 340개 노선이 정상적으로 들어옴\n",
    "len(res)"
   ]
  },
  {
   "cell_type": "code",
   "execution_count": 13,
   "metadata": {},
   "outputs": [
    {
     "name": "stdout",
     "output_type": "stream",
     "text": [
      "<class 'pandas.core.frame.DataFrame'>\n",
      "RangeIndex: 14406 entries, 0 to 14405\n",
      "Data columns (total 7 columns):\n",
      " #   Column   Non-Null Count  Dtype  \n",
      "---  ------   --------------  -----  \n",
      " 0   gpslati  14406 non-null  object \n",
      " 1   gpslong  14406 non-null  float64\n",
      " 2   nodeid   14406 non-null  object \n",
      " 3   nodenm   14406 non-null  object \n",
      " 4   nodeno   14406 non-null  int64  \n",
      " 5   nodeord  14406 non-null  int64  \n",
      " 6   routeid  14406 non-null  object \n",
      "dtypes: float64(1), int64(2), object(4)\n",
      "memory usage: 788.0+ KB\n"
     ]
    }
   ],
   "source": [
    "# res의 df를 하나로, 14406개 행 모두 null값 없음\n",
    "df = pd.concat(res, ignore_index=True) # 그 전의 index값 무시하고 index 다시 처음부터 쌓기\n",
    "df.info()"
   ]
  },
  {
   "cell_type": "code",
   "execution_count": 14,
   "metadata": {},
   "outputs": [
    {
     "data": {
      "text/html": [
       "<div>\n",
       "<style scoped>\n",
       "    .dataframe tbody tr th:only-of-type {\n",
       "        vertical-align: middle;\n",
       "    }\n",
       "\n",
       "    .dataframe tbody tr th {\n",
       "        vertical-align: top;\n",
       "    }\n",
       "\n",
       "    .dataframe thead th {\n",
       "        text-align: right;\n",
       "    }\n",
       "</style>\n",
       "<table border=\"1\" class=\"dataframe\">\n",
       "  <thead>\n",
       "    <tr style=\"text-align: right;\">\n",
       "      <th></th>\n",
       "      <th>위도</th>\n",
       "      <th>경도</th>\n",
       "      <th>정류소ID</th>\n",
       "      <th>정류소명</th>\n",
       "      <th>정류소번호</th>\n",
       "      <th>정류소순서</th>\n",
       "      <th>노선번호</th>\n",
       "    </tr>\n",
       "  </thead>\n",
       "  <tbody>\n",
       "    <tr>\n",
       "      <th>0</th>\n",
       "      <td>36.140325</td>\n",
       "      <td>128.437370</td>\n",
       "      <td>GMB181</td>\n",
       "      <td>옥계이편한세상APT앞</td>\n",
       "      <td>10181</td>\n",
       "      <td>1</td>\n",
       "      <td>GMB19120</td>\n",
       "    </tr>\n",
       "    <tr>\n",
       "      <th>1</th>\n",
       "      <td>36.137931</td>\n",
       "      <td>128.433293</td>\n",
       "      <td>GMB6</td>\n",
       "      <td>우미린더스카이앞</td>\n",
       "      <td>10006</td>\n",
       "      <td>2</td>\n",
       "      <td>GMB19120</td>\n",
       "    </tr>\n",
       "    <tr>\n",
       "      <th>2</th>\n",
       "      <td>36.13714</td>\n",
       "      <td>128.429446</td>\n",
       "      <td>GMB1</td>\n",
       "      <td>4공단(현진아파트방면)</td>\n",
       "      <td>10001</td>\n",
       "      <td>3</td>\n",
       "      <td>GMB19120</td>\n",
       "    </tr>\n",
       "  </tbody>\n",
       "</table>\n",
       "</div>"
      ],
      "text/plain": [
       "          위도          경도   정류소ID          정류소명  정류소번호  정류소순서      노선번호\n",
       "0  36.140325  128.437370  GMB181   옥계이편한세상APT앞  10181      1  GMB19120\n",
       "1  36.137931  128.433293    GMB6      우미린더스카이앞  10006      2  GMB19120\n",
       "2   36.13714  128.429446    GMB1  4공단(현진아파트방면)  10001      3  GMB19120"
      ]
     },
     "execution_count": 14,
     "metadata": {},
     "output_type": "execute_result"
    }
   ],
   "source": [
    "# 가독성을 위해 한글명으로 컬럼명 변경\n",
    "df= df.rename(columns={'gpslati': '위도', 'gpslong': '경도', 'nodeid': '정류소ID', 'nodenm': '정류소명', 'nodeno': '정류소번호'\n",
    "                   ,'nodeord': '정류소순서', 'routeid': '노선번호'})\n",
    "df.head(3)"
   ]
  },
  {
   "cell_type": "code",
   "execution_count": 15,
   "metadata": {},
   "outputs": [
    {
     "data": {
      "text/html": [
       "<div>\n",
       "<style scoped>\n",
       "    .dataframe tbody tr th:only-of-type {\n",
       "        vertical-align: middle;\n",
       "    }\n",
       "\n",
       "    .dataframe tbody tr th {\n",
       "        vertical-align: top;\n",
       "    }\n",
       "\n",
       "    .dataframe thead th {\n",
       "        text-align: right;\n",
       "    }\n",
       "</style>\n",
       "<table border=\"1\" class=\"dataframe\">\n",
       "  <thead>\n",
       "    <tr style=\"text-align: right;\">\n",
       "      <th></th>\n",
       "      <th>위도</th>\n",
       "      <th>경도</th>\n",
       "      <th>정류소ID</th>\n",
       "      <th>정류소명</th>\n",
       "      <th>정류소번호</th>\n",
       "      <th>정류소순서</th>\n",
       "      <th>노선번호</th>\n",
       "    </tr>\n",
       "  </thead>\n",
       "  <tbody>\n",
       "    <tr>\n",
       "      <th>0</th>\n",
       "      <td>36.140325</td>\n",
       "      <td>128.437370</td>\n",
       "      <td>GMB181</td>\n",
       "      <td>옥계이편한세상APT앞</td>\n",
       "      <td>10181</td>\n",
       "      <td>1</td>\n",
       "      <td>GMB19120</td>\n",
       "    </tr>\n",
       "    <tr>\n",
       "      <th>1</th>\n",
       "      <td>36.137931</td>\n",
       "      <td>128.433293</td>\n",
       "      <td>GMB6</td>\n",
       "      <td>우미린더스카이앞</td>\n",
       "      <td>10006</td>\n",
       "      <td>2</td>\n",
       "      <td>GMB19120</td>\n",
       "    </tr>\n",
       "  </tbody>\n",
       "</table>\n",
       "</div>"
      ],
      "text/plain": [
       "          위도          경도   정류소ID         정류소명  정류소번호  정류소순서      노선번호\n",
       "0  36.140325  128.437370  GMB181  옥계이편한세상APT앞  10181      1  GMB19120\n",
       "1  36.137931  128.433293    GMB6     우미린더스카이앞  10006      2  GMB19120"
      ]
     },
     "execution_count": 15,
     "metadata": {},
     "output_type": "execute_result"
    }
   ],
   "source": [
    "# 노선번호 GMB19120의 경유지 목록이 구미버스 정보시스템과 일치하는지 확인 (데이터 정합성)\n",
    "# 구미 버스정보시스템 -> TAGO -> 네이버 지도 순서로 데이터를 전송하므로 구미 버스 정보시스템과 일치하면 나머지는 자동으로 일치함\n",
    "\n",
    "df[df.노선번호 == 'GMB19120'].sort_values('정류소순서').head(2)"
   ]
  },
  {
   "cell_type": "code",
   "execution_count": 16,
   "metadata": {},
   "outputs": [
    {
     "data": {
      "text/html": [
       "<div>\n",
       "<style scoped>\n",
       "    .dataframe tbody tr th:only-of-type {\n",
       "        vertical-align: middle;\n",
       "    }\n",
       "\n",
       "    .dataframe tbody tr th {\n",
       "        vertical-align: top;\n",
       "    }\n",
       "\n",
       "    .dataframe thead th {\n",
       "        text-align: right;\n",
       "    }\n",
       "</style>\n",
       "<table border=\"1\" class=\"dataframe\">\n",
       "  <thead>\n",
       "    <tr style=\"text-align: right;\">\n",
       "      <th></th>\n",
       "      <th>종점</th>\n",
       "      <th>막차시간</th>\n",
       "      <th>노선ID</th>\n",
       "      <th>노선번호</th>\n",
       "      <th>노선유형</th>\n",
       "      <th>기점</th>\n",
       "      <th>첫차시간</th>\n",
       "    </tr>\n",
       "  </thead>\n",
       "  <tbody>\n",
       "    <tr>\n",
       "      <th>0</th>\n",
       "      <td>구미역(중앙시장)</td>\n",
       "      <td>2146</td>\n",
       "      <td>GMB19120</td>\n",
       "      <td>191</td>\n",
       "      <td>일반버스</td>\n",
       "      <td>옥계이편한세상APT앞</td>\n",
       "      <td>908</td>\n",
       "    </tr>\n",
       "  </tbody>\n",
       "</table>\n",
       "</div>"
      ],
      "text/plain": [
       "          종점  막차시간      노선ID 노선번호  노선유형           기점  첫차시간\n",
       "0  구미역(중앙시장)  2146  GMB19120  191  일반버스  옥계이편한세상APT앞   908"
      ]
     },
     "execution_count": 16,
     "metadata": {},
     "output_type": "execute_result"
    }
   ],
   "source": [
    "# 구미 버스정보시스템에서 비교했을 때 191번 (옥계이편한세상APT앞 → 구미역(중앙시장))과 경유지 목록이 일치함\n",
    "route[route.노선ID == 'GMB19120']"
   ]
  },
  {
   "cell_type": "code",
   "execution_count": 21,
   "metadata": {},
   "outputs": [
    {
     "data": {
      "text/plain": [
       "340"
      ]
     },
     "execution_count": 21,
     "metadata": {},
     "output_type": "execute_result"
    }
   ],
   "source": [
    "df.노선번호.nunique()"
   ]
  },
  {
   "cell_type": "code",
   "execution_count": null,
   "metadata": {},
   "outputs": [
    {
     "data": {
      "text/plain": [
       "노선번호\n",
       "GMB1-110       1\n",
       "GMB10-130     47\n",
       "GMB10-230     21\n",
       "GMB101-110    14\n",
       "GMB101-120    13\n",
       "              ..\n",
       "GMB96020      39\n",
       "GMB9631       17\n",
       "GMB9632       17\n",
       "GMB9710       24\n",
       "GMB9720       30\n",
       "Name: 정류소번호, Length: 340, dtype: int64"
      ]
     },
     "execution_count": 94,
     "metadata": {},
     "output_type": "execute_result"
    }
   ],
   "source": [
    "# 노선번호별 정류소 수\n",
    "route_cnt = df.groupby('노선번호')['정류소번호'].count()\n",
    "route_cnt"
   ]
  },
  {
   "cell_type": "code",
   "execution_count": null,
   "metadata": {},
   "outputs": [
    {
     "data": {
      "image/png": "[encoded data removed]",
      "text/plain": [
       "<Figure size 1200x600 with 1 Axes>"
      ]
     },
     "metadata": {},
     "output_type": "display_data"
    },
    {
     "name": "stdout",
     "output_type": "stream",
     "text": [
      "min: 1, max: 94, median: 41.0\n"
     ]
    }
   ],
   "source": [
    "# 막대그래프: 정류소번호별 개수\n",
    "import matplotlib.pyplot as plt\n",
    "\n",
    "plt.figure(figsize= (12,6))\n",
    "plt.bar(range(len(route_cnt)), route_cnt.values)\n",
    "plt.show()\n",
    "\n",
    "print(f\"min: {route_cnt.min()}, max: {route_cnt.max()}, median: {route_cnt.median()}\")"
   ]
  },
  {
   "cell_type": "markdown",
   "metadata": {},
   "source": [
    "### ***노선별로 구간 만들기***"
   ]
  },
  {
   "cell_type": "code",
   "execution_count": null,
   "metadata": {},
   "outputs": [
    {
     "data": {
      "text/html": [
       "<div>\n",
       "<style scoped>\n",
       "    .dataframe tbody tr th:only-of-type {\n",
       "        vertical-align: middle;\n",
       "    }\n",
       "\n",
       "    .dataframe tbody tr th {\n",
       "        vertical-align: top;\n",
       "    }\n",
       "\n",
       "    .dataframe thead th {\n",
       "        text-align: right;\n",
       "    }\n",
       "</style>\n",
       "<table border=\"1\" class=\"dataframe\">\n",
       "  <thead>\n",
       "    <tr style=\"text-align: right;\">\n",
       "      <th></th>\n",
       "      <th>위도</th>\n",
       "      <th>경도</th>\n",
       "      <th>정류소ID</th>\n",
       "      <th>정류소명</th>\n",
       "      <th>정류소번호</th>\n",
       "      <th>정류소순서</th>\n",
       "      <th>노선번호</th>\n",
       "    </tr>\n",
       "  </thead>\n",
       "  <tbody>\n",
       "    <tr>\n",
       "      <th>0</th>\n",
       "      <td>36.140325</td>\n",
       "      <td>128.437370</td>\n",
       "      <td>GMB181</td>\n",
       "      <td>옥계이편한세상APT앞</td>\n",
       "      <td>10181</td>\n",
       "      <td>1</td>\n",
       "      <td>GMB19120</td>\n",
       "    </tr>\n",
       "    <tr>\n",
       "      <th>1</th>\n",
       "      <td>36.137931</td>\n",
       "      <td>128.433293</td>\n",
       "      <td>GMB6</td>\n",
       "      <td>우미린더스카이앞</td>\n",
       "      <td>10006</td>\n",
       "      <td>2</td>\n",
       "      <td>GMB19120</td>\n",
       "    </tr>\n",
       "    <tr>\n",
       "      <th>2</th>\n",
       "      <td>36.13714</td>\n",
       "      <td>128.429446</td>\n",
       "      <td>GMB1</td>\n",
       "      <td>4공단(현진아파트방면)</td>\n",
       "      <td>10001</td>\n",
       "      <td>3</td>\n",
       "      <td>GMB19120</td>\n",
       "    </tr>\n",
       "  </tbody>\n",
       "</table>\n",
       "</div>"
      ],
      "text/plain": [
       "          위도          경도   정류소ID          정류소명  정류소번호  정류소순서      노선번호\n",
       "0  36.140325  128.437370  GMB181   옥계이편한세상APT앞  10181      1  GMB19120\n",
       "1  36.137931  128.433293    GMB6      우미린더스카이앞  10006      2  GMB19120\n",
       "2   36.13714  128.429446    GMB1  4공단(현진아파트방면)  10001      3  GMB19120"
      ]
     },
     "execution_count": 116,
     "metadata": {},
     "output_type": "execute_result"
    }
   ],
   "source": [
    "# 인덱스 기준 첫번째 노선인 'GMB19120'의 구간 만들기\n",
    "df[df.노선번호 == 'GMB19120'].head(3)"
   ]
  },
  {
   "cell_type": "code",
   "execution_count": null,
   "metadata": {},
   "outputs": [
    {
     "data": {
      "text/html": [
       "<div>\n",
       "<style scoped>\n",
       "    .dataframe tbody tr th:only-of-type {\n",
       "        vertical-align: middle;\n",
       "    }\n",
       "\n",
       "    .dataframe tbody tr th {\n",
       "        vertical-align: top;\n",
       "    }\n",
       "\n",
       "    .dataframe thead th {\n",
       "        text-align: right;\n",
       "    }\n",
       "</style>\n",
       "<table border=\"1\" class=\"dataframe\">\n",
       "  <thead>\n",
       "    <tr style=\"text-align: right;\">\n",
       "      <th></th>\n",
       "      <th>위도</th>\n",
       "      <th>경도</th>\n",
       "      <th>정류소ID</th>\n",
       "      <th>정류소명</th>\n",
       "      <th>정류소번호</th>\n",
       "      <th>정류소순서</th>\n",
       "      <th>노선번호</th>\n",
       "    </tr>\n",
       "  </thead>\n",
       "  <tbody>\n",
       "    <tr>\n",
       "      <th>0</th>\n",
       "      <td>36.140325</td>\n",
       "      <td>128.437370</td>\n",
       "      <td>GMB181</td>\n",
       "      <td>옥계이편한세상APT앞</td>\n",
       "      <td>10181</td>\n",
       "      <td>1</td>\n",
       "      <td>GMB19120</td>\n",
       "    </tr>\n",
       "    <tr>\n",
       "      <th>1</th>\n",
       "      <td>36.137931</td>\n",
       "      <td>128.433293</td>\n",
       "      <td>GMB6</td>\n",
       "      <td>우미린더스카이앞</td>\n",
       "      <td>10006</td>\n",
       "      <td>2</td>\n",
       "      <td>GMB19120</td>\n",
       "    </tr>\n",
       "  </tbody>\n",
       "</table>\n",
       "</div>"
      ],
      "text/plain": [
       "          위도          경도   정류소ID         정류소명  정류소번호  정류소순서      노선번호\n",
       "0  36.140325  128.437370  GMB181  옥계이편한세상APT앞  10181      1  GMB19120\n",
       "1  36.137931  128.433293    GMB6     우미린더스카이앞  10006      2  GMB19120"
      ]
     },
     "execution_count": 120,
     "metadata": {},
     "output_type": "execute_result"
    }
   ],
   "source": [
    "# 순서 정렬: 노선번호별 정류소순서 오름차순\n",
    "# 구간_이름: '현재 행 정류장_이름 - 다음 행 정류장_이름'\n",
    "# 주의: 노선번호별로 구간이 만들어져야함. 정류소순서 마지막 번호의 행은 구간_이름이 없어야 함\n",
    "\n",
    "# 1. df를 노선번호별로 나누고 구간 만들고, 합치기\n",
    "df[df.노선번호 == 'GMB19120'].sort_values('정류소순서').head(2)"
   ]
  },
  {
   "cell_type": "code",
   "execution_count": 28,
   "metadata": {},
   "outputs": [
    {
     "data": {
      "text/html": [
       "<div>\n",
       "<style scoped>\n",
       "    .dataframe tbody tr th:only-of-type {\n",
       "        vertical-align: middle;\n",
       "    }\n",
       "\n",
       "    .dataframe tbody tr th {\n",
       "        vertical-align: top;\n",
       "    }\n",
       "\n",
       "    .dataframe thead th {\n",
       "        text-align: right;\n",
       "    }\n",
       "</style>\n",
       "<table border=\"1\" class=\"dataframe\">\n",
       "  <thead>\n",
       "    <tr style=\"text-align: right;\">\n",
       "      <th></th>\n",
       "      <th>위도</th>\n",
       "      <th>경도</th>\n",
       "      <th>정류소ID</th>\n",
       "      <th>정류소명</th>\n",
       "      <th>정류소번호</th>\n",
       "      <th>정류소순서</th>\n",
       "      <th>노선번호</th>\n",
       "      <th>구간_이름</th>\n",
       "    </tr>\n",
       "  </thead>\n",
       "  <tbody>\n",
       "    <tr>\n",
       "      <th>0</th>\n",
       "      <td>36.140325</td>\n",
       "      <td>128.437370</td>\n",
       "      <td>GMB181</td>\n",
       "      <td>옥계이편한세상APT앞</td>\n",
       "      <td>10181</td>\n",
       "      <td>1</td>\n",
       "      <td>GMB19120</td>\n",
       "      <td>옥계이편한세상APT앞 - 우미린더스카이앞</td>\n",
       "    </tr>\n",
       "    <tr>\n",
       "      <th>1</th>\n",
       "      <td>36.137931</td>\n",
       "      <td>128.433293</td>\n",
       "      <td>GMB6</td>\n",
       "      <td>우미린더스카이앞</td>\n",
       "      <td>10006</td>\n",
       "      <td>2</td>\n",
       "      <td>GMB19120</td>\n",
       "      <td>우미린더스카이앞 - 4공단(현진아파트방면)</td>\n",
       "    </tr>\n",
       "    <tr>\n",
       "      <th>2</th>\n",
       "      <td>36.13714</td>\n",
       "      <td>128.429446</td>\n",
       "      <td>GMB1</td>\n",
       "      <td>4공단(현진아파트방면)</td>\n",
       "      <td>10001</td>\n",
       "      <td>3</td>\n",
       "      <td>GMB19120</td>\n",
       "      <td>4공단(현진아파트방면) - 현진아파트앞</td>\n",
       "    </tr>\n",
       "    <tr>\n",
       "      <th>3</th>\n",
       "      <td>36.138281</td>\n",
       "      <td>128.426156</td>\n",
       "      <td>GMB852</td>\n",
       "      <td>현진아파트앞</td>\n",
       "      <td>10852</td>\n",
       "      <td>4</td>\n",
       "      <td>GMB19120</td>\n",
       "      <td>현진아파트앞 - 삼구아파트</td>\n",
       "    </tr>\n",
       "    <tr>\n",
       "      <th>4</th>\n",
       "      <td>36.138468</td>\n",
       "      <td>128.420709</td>\n",
       "      <td>GMB378</td>\n",
       "      <td>삼구아파트</td>\n",
       "      <td>10378</td>\n",
       "      <td>5</td>\n",
       "      <td>GMB19120</td>\n",
       "      <td>삼구아파트 - 4공단입구건너(인동농협옥계지점)</td>\n",
       "    </tr>\n",
       "  </tbody>\n",
       "</table>\n",
       "</div>"
      ],
      "text/plain": [
       "          위도          경도   정류소ID          정류소명  정류소번호  정류소순서      노선번호  \\\n",
       "0  36.140325  128.437370  GMB181   옥계이편한세상APT앞  10181      1  GMB19120   \n",
       "1  36.137931  128.433293    GMB6      우미린더스카이앞  10006      2  GMB19120   \n",
       "2   36.13714  128.429446    GMB1  4공단(현진아파트방면)  10001      3  GMB19120   \n",
       "3  36.138281  128.426156  GMB852        현진아파트앞  10852      4  GMB19120   \n",
       "4  36.138468  128.420709  GMB378         삼구아파트  10378      5  GMB19120   \n",
       "\n",
       "                       구간_이름  \n",
       "0     옥계이편한세상APT앞 - 우미린더스카이앞  \n",
       "1    우미린더스카이앞 - 4공단(현진아파트방면)  \n",
       "2      4공단(현진아파트방면) - 현진아파트앞  \n",
       "3             현진아파트앞 - 삼구아파트  \n",
       "4  삼구아파트 - 4공단입구건너(인동농협옥계지점)  "
      ]
     },
     "execution_count": 28,
     "metadata": {},
     "output_type": "execute_result"
    }
   ],
   "source": [
    "# for 반복문: 노선번호별로 구간_이름 만들고 하나의 df로 합치기\n",
    "res= []\n",
    "for num in route_nums:\n",
    "   bus = df[df.노선번호 == num].sort_values('정류소순서')\n",
    "   bus['구간_이름'] = bus.정류소명 + \" - \" + bus.정류소명.shift(-1)\n",
    "   res.append(bus)\n",
    "route_df =pd.concat(res, ignore_index=True)\n",
    "route_df.head()"
   ]
  },
  {
   "cell_type": "code",
   "execution_count": 29,
   "metadata": {},
   "outputs": [
    {
     "data": {
      "text/plain": [
       "(14406, 8)"
      ]
     },
     "execution_count": 29,
     "metadata": {},
     "output_type": "execute_result"
    }
   ],
   "source": [
    "# concat 잘 되었는지 확인: 모든 행 14,406개 행이 모두 합쳐짐\n",
    "route_df.shape"
   ]
  },
  {
   "cell_type": "code",
   "execution_count": 30,
   "metadata": {},
   "outputs": [
    {
     "data": {
      "text/plain": [
       "340"
      ]
     },
     "execution_count": 30,
     "metadata": {},
     "output_type": "execute_result"
    }
   ],
   "source": [
    "route_df.노선번호.nunique()"
   ]
  },
  {
   "cell_type": "code",
   "execution_count": null,
   "metadata": {},
   "outputs": [
    {
     "data": {
      "text/html": [
       "<div>\n",
       "<style scoped>\n",
       "    .dataframe tbody tr th:only-of-type {\n",
       "        vertical-align: middle;\n",
       "    }\n",
       "\n",
       "    .dataframe tbody tr th {\n",
       "        vertical-align: top;\n",
       "    }\n",
       "\n",
       "    .dataframe thead th {\n",
       "        text-align: right;\n",
       "    }\n",
       "</style>\n",
       "<table border=\"1\" class=\"dataframe\">\n",
       "  <thead>\n",
       "    <tr style=\"text-align: right;\">\n",
       "      <th></th>\n",
       "      <th>위도</th>\n",
       "      <th>경도</th>\n",
       "      <th>정류소ID</th>\n",
       "      <th>정류소명</th>\n",
       "      <th>정류소번호</th>\n",
       "      <th>정류소순서</th>\n",
       "      <th>노선번호</th>\n",
       "      <th>구간_이름</th>\n",
       "    </tr>\n",
       "  </thead>\n",
       "  <tbody>\n",
       "    <tr>\n",
       "      <th>40</th>\n",
       "      <td>36.128616</td>\n",
       "      <td>128.332287</td>\n",
       "      <td>GMB119</td>\n",
       "      <td>구미역 전(국민은행)</td>\n",
       "      <td>10119</td>\n",
       "      <td>41</td>\n",
       "      <td>GMB19120</td>\n",
       "      <td>구미역 전(국민은행) - 구미역(중앙시장)</td>\n",
       "    </tr>\n",
       "    <tr>\n",
       "      <th>41</th>\n",
       "      <td>36.129622</td>\n",
       "      <td>128.329834</td>\n",
       "      <td>GMB79</td>\n",
       "      <td>구미역(중앙시장)</td>\n",
       "      <td>10079</td>\n",
       "      <td>42</td>\n",
       "      <td>GMB19120</td>\n",
       "      <td>NaN</td>\n",
       "    </tr>\n",
       "    <tr>\n",
       "      <th>42</th>\n",
       "      <td>36.129635</td>\n",
       "      <td>128.329321</td>\n",
       "      <td>GMB80</td>\n",
       "      <td>구미역</td>\n",
       "      <td>10080</td>\n",
       "      <td>1</td>\n",
       "      <td>GMB19210</td>\n",
       "      <td>구미역 - 농협</td>\n",
       "    </tr>\n",
       "    <tr>\n",
       "      <th>43</th>\n",
       "      <td>36.128023</td>\n",
       "      <td>128.333200</td>\n",
       "      <td>GMB167</td>\n",
       "      <td>농협</td>\n",
       "      <td>10167</td>\n",
       "      <td>2</td>\n",
       "      <td>GMB19210</td>\n",
       "      <td>농협 - 금오산사거리</td>\n",
       "    </tr>\n",
       "    <tr>\n",
       "      <th>44</th>\n",
       "      <td>36.126888</td>\n",
       "      <td>128.335880</td>\n",
       "      <td>GMB134</td>\n",
       "      <td>금오산사거리</td>\n",
       "      <td>10134</td>\n",
       "      <td>3</td>\n",
       "      <td>GMB19210</td>\n",
       "      <td>금오산사거리 - 원평동 행정복지센터 건너</td>\n",
       "    </tr>\n",
       "  </tbody>\n",
       "</table>\n",
       "</div>"
      ],
      "text/plain": [
       "           위도          경도   정류소ID         정류소명  정류소번호  정류소순서      노선번호  \\\n",
       "40  36.128616  128.332287  GMB119  구미역 전(국민은행)  10119     41  GMB19120   \n",
       "41  36.129622  128.329834   GMB79    구미역(중앙시장)  10079     42  GMB19120   \n",
       "42  36.129635  128.329321   GMB80          구미역  10080      1  GMB19210   \n",
       "43  36.128023  128.333200  GMB167           농협  10167      2  GMB19210   \n",
       "44  36.126888  128.335880  GMB134       금오산사거리  10134      3  GMB19210   \n",
       "\n",
       "                      구간_이름  \n",
       "40  구미역 전(국민은행) - 구미역(중앙시장)  \n",
       "41                      NaN  \n",
       "42                 구미역 - 농협  \n",
       "43              농협 - 금오산사거리  \n",
       "44   금오산사거리 - 원평동 행정복지센터 건너  "
      ]
     },
     "execution_count": 124,
     "metadata": {},
     "output_type": "execute_result"
    }
   ],
   "source": [
    "# 노선번호별로 구간이 만들어졌는지 확인: 각 노선의 마지막 정류소는 구간이 NA여야함 -> 정상\n",
    "route_df.iloc[40:45]"
   ]
  },
  {
   "cell_type": "code",
   "execution_count": null,
   "metadata": {},
   "outputs": [
    {
     "data": {
      "text/plain": [
       "위도         0\n",
       "경도         0\n",
       "정류소ID      0\n",
       "정류소명       0\n",
       "정류소번호      0\n",
       "정류소순서      0\n",
       "노선번호       0\n",
       "구간_이름    340\n",
       "dtype: int64"
      ]
     },
     "execution_count": 125,
     "metadata": {},
     "output_type": "execute_result"
    }
   ],
   "source": [
    "# 구간 340개가 1개 구간 당 마지막 정류소 1개 -> 총 340개의 na값이 만들어짐\n",
    "route_df.isna().sum()"
   ]
  },
  {
   "cell_type": "code",
   "execution_count": null,
   "metadata": {},
   "outputs": [
    {
     "data": {
      "text/html": [
       "<div>\n",
       "<style scoped>\n",
       "    .dataframe tbody tr th:only-of-type {\n",
       "        vertical-align: middle;\n",
       "    }\n",
       "\n",
       "    .dataframe tbody tr th {\n",
       "        vertical-align: top;\n",
       "    }\n",
       "\n",
       "    .dataframe thead th {\n",
       "        text-align: right;\n",
       "    }\n",
       "</style>\n",
       "<table border=\"1\" class=\"dataframe\">\n",
       "  <thead>\n",
       "    <tr style=\"text-align: right;\">\n",
       "      <th></th>\n",
       "      <th>위도</th>\n",
       "      <th>경도</th>\n",
       "      <th>정류소ID</th>\n",
       "      <th>정류소명</th>\n",
       "      <th>정류소번호</th>\n",
       "      <th>정류소순서</th>\n",
       "      <th>노선번호</th>\n",
       "      <th>구간_이름</th>\n",
       "    </tr>\n",
       "  </thead>\n",
       "  <tbody>\n",
       "    <tr>\n",
       "      <th>5255</th>\n",
       "      <td>36.130489</td>\n",
       "      <td>128.307412</td>\n",
       "      <td>GMB1998</td>\n",
       "      <td>차고지</td>\n",
       "      <td>11998</td>\n",
       "      <td>1</td>\n",
       "      <td>GMB1-110</td>\n",
       "      <td>NaN</td>\n",
       "    </tr>\n",
       "    <tr>\n",
       "      <th>9894</th>\n",
       "      <td>36.141157</td>\n",
       "      <td>128.302546</td>\n",
       "      <td>GMB1999</td>\n",
       "      <td>CNG충전소(탑승불가)</td>\n",
       "      <td>11999</td>\n",
       "      <td>1</td>\n",
       "      <td>GMB66610</td>\n",
       "      <td>NaN</td>\n",
       "    </tr>\n",
       "  </tbody>\n",
       "</table>\n",
       "</div>"
      ],
      "text/plain": [
       "             위도          경도    정류소ID          정류소명  정류소번호  정류소순서      노선번호  \\\n",
       "5255  36.130489  128.307412  GMB1998           차고지  11998      1  GMB1-110   \n",
       "9894  36.141157  128.302546  GMB1999  CNG충전소(탑승불가)  11999      1  GMB66610   \n",
       "\n",
       "     구간_이름  \n",
       "5255   NaN  \n",
       "9894   NaN  "
      ]
     },
     "execution_count": 35,
     "metadata": {},
     "output_type": "execute_result"
    }
   ],
   "source": [
    "# 정류소 순서가 첫번째인데 구간이 안 만들어진 행\n",
    "route_df[(route_df.구간_이름.isna()) & (route_df.정류소순서 == 1)]"
   ]
  },
  {
   "cell_type": "code",
   "execution_count": null,
   "metadata": {},
   "outputs": [
    {
     "data": {
      "text/html": [
       "<div>\n",
       "<style scoped>\n",
       "    .dataframe tbody tr th:only-of-type {\n",
       "        vertical-align: middle;\n",
       "    }\n",
       "\n",
       "    .dataframe tbody tr th {\n",
       "        vertical-align: top;\n",
       "    }\n",
       "\n",
       "    .dataframe thead th {\n",
       "        text-align: right;\n",
       "    }\n",
       "</style>\n",
       "<table border=\"1\" class=\"dataframe\">\n",
       "  <thead>\n",
       "    <tr style=\"text-align: right;\">\n",
       "      <th></th>\n",
       "      <th>위도</th>\n",
       "      <th>경도</th>\n",
       "      <th>정류소ID</th>\n",
       "      <th>정류소명</th>\n",
       "      <th>정류소번호</th>\n",
       "      <th>정류소순서</th>\n",
       "      <th>노선번호</th>\n",
       "      <th>구간_이름</th>\n",
       "    </tr>\n",
       "  </thead>\n",
       "  <tbody>\n",
       "    <tr>\n",
       "      <th>5253</th>\n",
       "      <td>36.224832</td>\n",
       "      <td>128.310866</td>\n",
       "      <td>GMB37</td>\n",
       "      <td>고아에덴아파트앞</td>\n",
       "      <td>10037</td>\n",
       "      <td>65</td>\n",
       "      <td>GMB5210</td>\n",
       "      <td>고아에덴아파트앞 - 선산터미널종점</td>\n",
       "    </tr>\n",
       "    <tr>\n",
       "      <th>5254</th>\n",
       "      <td>36.239564</td>\n",
       "      <td>128.304290</td>\n",
       "      <td>GMB435</td>\n",
       "      <td>선산터미널종점</td>\n",
       "      <td>10435</td>\n",
       "      <td>66</td>\n",
       "      <td>GMB5210</td>\n",
       "      <td>NaN</td>\n",
       "    </tr>\n",
       "    <tr>\n",
       "      <th>5255</th>\n",
       "      <td>36.130489</td>\n",
       "      <td>128.307412</td>\n",
       "      <td>GMB1998</td>\n",
       "      <td>차고지</td>\n",
       "      <td>11998</td>\n",
       "      <td>1</td>\n",
       "      <td>GMB1-110</td>\n",
       "      <td>NaN</td>\n",
       "    </tr>\n",
       "    <tr>\n",
       "      <th>5256</th>\n",
       "      <td>35.988983</td>\n",
       "      <td>128.399696</td>\n",
       "      <td>GMB2355</td>\n",
       "      <td>왜관남부</td>\n",
       "      <td>12355</td>\n",
       "      <td>1</td>\n",
       "      <td>GMB10-130</td>\n",
       "      <td>왜관남부 - 왜관역</td>\n",
       "    </tr>\n",
       "    <tr>\n",
       "      <th>5257</th>\n",
       "      <td>35.992349</td>\n",
       "      <td>128.399163</td>\n",
       "      <td>GMB2718</td>\n",
       "      <td>왜관역</td>\n",
       "      <td>12718</td>\n",
       "      <td>2</td>\n",
       "      <td>GMB10-130</td>\n",
       "      <td>왜관역 - 왜관북부</td>\n",
       "    </tr>\n",
       "  </tbody>\n",
       "</table>\n",
       "</div>"
      ],
      "text/plain": [
       "             위도          경도    정류소ID      정류소명  정류소번호  정류소순서       노선번호  \\\n",
       "5253  36.224832  128.310866    GMB37  고아에덴아파트앞  10037     65    GMB5210   \n",
       "5254  36.239564  128.304290   GMB435   선산터미널종점  10435     66    GMB5210   \n",
       "5255  36.130489  128.307412  GMB1998       차고지  11998      1   GMB1-110   \n",
       "5256  35.988983  128.399696  GMB2355      왜관남부  12355      1  GMB10-130   \n",
       "5257  35.992349  128.399163  GMB2718       왜관역  12718      2  GMB10-130   \n",
       "\n",
       "                   구간_이름  \n",
       "5253  고아에덴아파트앞 - 선산터미널종점  \n",
       "5254                 NaN  \n",
       "5255                 NaN  \n",
       "5256          왜관남부 - 왜관역  \n",
       "5257          왜관역 - 왜관북부  "
      ]
     },
     "metadata": {},
     "output_type": "display_data"
    },
    {
     "data": {
      "text/html": [
       "<div>\n",
       "<style scoped>\n",
       "    .dataframe tbody tr th:only-of-type {\n",
       "        vertical-align: middle;\n",
       "    }\n",
       "\n",
       "    .dataframe tbody tr th {\n",
       "        vertical-align: top;\n",
       "    }\n",
       "\n",
       "    .dataframe thead th {\n",
       "        text-align: right;\n",
       "    }\n",
       "</style>\n",
       "<table border=\"1\" class=\"dataframe\">\n",
       "  <thead>\n",
       "    <tr style=\"text-align: right;\">\n",
       "      <th></th>\n",
       "      <th>위도</th>\n",
       "      <th>경도</th>\n",
       "      <th>정류소ID</th>\n",
       "      <th>정류소명</th>\n",
       "      <th>정류소번호</th>\n",
       "      <th>정류소순서</th>\n",
       "      <th>노선번호</th>\n",
       "      <th>구간_이름</th>\n",
       "    </tr>\n",
       "  </thead>\n",
       "  <tbody>\n",
       "    <tr>\n",
       "      <th>9890</th>\n",
       "      <td>36.089609</td>\n",
       "      <td>128.373154</td>\n",
       "      <td>GMB840</td>\n",
       "      <td>한염건너</td>\n",
       "      <td>10840</td>\n",
       "      <td>19</td>\n",
       "      <td>GMB6030</td>\n",
       "      <td>한염건너 - 신창메디칼앞</td>\n",
       "    </tr>\n",
       "    <tr>\n",
       "      <th>9891</th>\n",
       "      <td>36.088353</td>\n",
       "      <td>128.376846</td>\n",
       "      <td>GMB524</td>\n",
       "      <td>신창메디칼앞</td>\n",
       "      <td>10524</td>\n",
       "      <td>20</td>\n",
       "      <td>GMB6030</td>\n",
       "      <td>신창메디칼앞 - 성안합섬건너</td>\n",
       "    </tr>\n",
       "    <tr>\n",
       "      <th>9892</th>\n",
       "      <td>36.08432</td>\n",
       "      <td>128.376902</td>\n",
       "      <td>GMB446</td>\n",
       "      <td>성안합섬건너</td>\n",
       "      <td>10446</td>\n",
       "      <td>21</td>\n",
       "      <td>GMB6030</td>\n",
       "      <td>성안합섬건너 - 오태1동</td>\n",
       "    </tr>\n",
       "    <tr>\n",
       "      <th>9893</th>\n",
       "      <td>36.079687</td>\n",
       "      <td>128.375109</td>\n",
       "      <td>GMB607</td>\n",
       "      <td>오태1동</td>\n",
       "      <td>10607</td>\n",
       "      <td>22</td>\n",
       "      <td>GMB6030</td>\n",
       "      <td>NaN</td>\n",
       "    </tr>\n",
       "    <tr>\n",
       "      <th>9894</th>\n",
       "      <td>36.141157</td>\n",
       "      <td>128.302546</td>\n",
       "      <td>GMB1999</td>\n",
       "      <td>CNG충전소(탑승불가)</td>\n",
       "      <td>11999</td>\n",
       "      <td>1</td>\n",
       "      <td>GMB66610</td>\n",
       "      <td>NaN</td>\n",
       "    </tr>\n",
       "    <tr>\n",
       "      <th>9895</th>\n",
       "      <td>36.239564</td>\n",
       "      <td>128.304290</td>\n",
       "      <td>GMB435</td>\n",
       "      <td>선산터미널종점</td>\n",
       "      <td>10435</td>\n",
       "      <td>1</td>\n",
       "      <td>GMB70-130</td>\n",
       "      <td>선산터미널종점 - 황산</td>\n",
       "    </tr>\n",
       "    <tr>\n",
       "      <th>9896</th>\n",
       "      <td>36.2131</td>\n",
       "      <td>128.290178</td>\n",
       "      <td>GMB873</td>\n",
       "      <td>황산</td>\n",
       "      <td>10873</td>\n",
       "      <td>2</td>\n",
       "      <td>GMB70-130</td>\n",
       "      <td>황산 - 황산출발</td>\n",
       "    </tr>\n",
       "    <tr>\n",
       "      <th>9897</th>\n",
       "      <td>36.212931</td>\n",
       "      <td>128.290558</td>\n",
       "      <td>GMB874</td>\n",
       "      <td>황산출발</td>\n",
       "      <td>10874</td>\n",
       "      <td>3</td>\n",
       "      <td>GMB70-130</td>\n",
       "      <td>황산출발 - 선산터미널종점</td>\n",
       "    </tr>\n",
       "  </tbody>\n",
       "</table>\n",
       "</div>"
      ],
      "text/plain": [
       "             위도          경도    정류소ID          정류소명  정류소번호  정류소순서       노선번호  \\\n",
       "9890  36.089609  128.373154   GMB840          한염건너  10840     19    GMB6030   \n",
       "9891  36.088353  128.376846   GMB524        신창메디칼앞  10524     20    GMB6030   \n",
       "9892   36.08432  128.376902   GMB446        성안합섬건너  10446     21    GMB6030   \n",
       "9893  36.079687  128.375109   GMB607          오태1동  10607     22    GMB6030   \n",
       "9894  36.141157  128.302546  GMB1999  CNG충전소(탑승불가)  11999      1   GMB66610   \n",
       "9895  36.239564  128.304290   GMB435       선산터미널종점  10435      1  GMB70-130   \n",
       "9896    36.2131  128.290178   GMB873            황산  10873      2  GMB70-130   \n",
       "9897  36.212931  128.290558   GMB874          황산출발  10874      3  GMB70-130   \n",
       "\n",
       "                구간_이름  \n",
       "9890    한염건너 - 신창메디칼앞  \n",
       "9891  신창메디칼앞 - 성안합섬건너  \n",
       "9892    성안합섬건너 - 오태1동  \n",
       "9893              NaN  \n",
       "9894              NaN  \n",
       "9895     선산터미널종점 - 황산  \n",
       "9896        황산 - 황산출발  \n",
       "9897   황산출발 - 선산터미널종점  "
      ]
     },
     "metadata": {},
     "output_type": "display_data"
    }
   ],
   "source": [
    "# 이유 확인-> 정류소가 1개 있는 버스 2개: GMB1-110, GMB66610\n",
    "display(route_df.iloc[5253:5258], route_df.iloc[9890:9898])"
   ]
  },
  {
   "cell_type": "code",
   "execution_count": 26,
   "metadata": {},
   "outputs": [
    {
     "name": "stdout",
     "output_type": "stream",
     "text": [
      "(14406, 8)\n",
      "(14066, 8)\n"
     ]
    }
   ],
   "source": [
    "# 필요한 데이터는 정류소가 아닌 구간이므로 na인 구간을 삭제\n",
    "print(route_df.shape)\n",
    "route_df = route_df.dropna()\n",
    "print(route_df.shape)"
   ]
  },
  {
   "cell_type": "code",
   "execution_count": 27,
   "metadata": {},
   "outputs": [
    {
     "data": {
      "text/plain": [
       "338"
      ]
     },
     "execution_count": 27,
     "metadata": {},
     "output_type": "execute_result"
    }
   ],
   "source": [
    "route_df.노선번호.nunique()"
   ]
  },
  {
   "cell_type": "code",
   "execution_count": null,
   "metadata": {},
   "outputs": [
    {
     "data": {
      "text/html": [
       "<div>\n",
       "<style scoped>\n",
       "    .dataframe tbody tr th:only-of-type {\n",
       "        vertical-align: middle;\n",
       "    }\n",
       "\n",
       "    .dataframe tbody tr th {\n",
       "        vertical-align: top;\n",
       "    }\n",
       "\n",
       "    .dataframe thead th {\n",
       "        text-align: right;\n",
       "    }\n",
       "</style>\n",
       "<table border=\"1\" class=\"dataframe\">\n",
       "  <thead>\n",
       "    <tr style=\"text-align: right;\">\n",
       "      <th></th>\n",
       "      <th>노선번호</th>\n",
       "      <th>정류소순서</th>\n",
       "      <th>구간_이름</th>\n",
       "    </tr>\n",
       "  </thead>\n",
       "  <tbody>\n",
       "    <tr>\n",
       "      <th>0</th>\n",
       "      <td>GMB19120</td>\n",
       "      <td>1</td>\n",
       "      <td>옥계이편한세상APT앞 - 우미린더스카이앞</td>\n",
       "    </tr>\n",
       "    <tr>\n",
       "      <th>1</th>\n",
       "      <td>GMB19120</td>\n",
       "      <td>2</td>\n",
       "      <td>우미린더스카이앞 - 4공단(현진아파트방면)</td>\n",
       "    </tr>\n",
       "    <tr>\n",
       "      <th>2</th>\n",
       "      <td>GMB19120</td>\n",
       "      <td>3</td>\n",
       "      <td>4공단(현진아파트방면) - 현진아파트앞</td>\n",
       "    </tr>\n",
       "    <tr>\n",
       "      <th>3</th>\n",
       "      <td>GMB19120</td>\n",
       "      <td>4</td>\n",
       "      <td>현진아파트앞 - 삼구아파트</td>\n",
       "    </tr>\n",
       "    <tr>\n",
       "      <th>4</th>\n",
       "      <td>GMB19120</td>\n",
       "      <td>5</td>\n",
       "      <td>삼구아파트 - 4공단입구건너(인동농협옥계지점)</td>\n",
       "    </tr>\n",
       "    <tr>\n",
       "      <th>...</th>\n",
       "      <td>...</td>\n",
       "      <td>...</td>\n",
       "      <td>...</td>\n",
       "    </tr>\n",
       "    <tr>\n",
       "      <th>14400</th>\n",
       "      <td>GMB9720</td>\n",
       "      <td>25</td>\n",
       "      <td>4공단입구건너(인동농협옥계지점) - 옥계대우아파트앞</td>\n",
       "    </tr>\n",
       "    <tr>\n",
       "      <th>14401</th>\n",
       "      <td>GMB9720</td>\n",
       "      <td>26</td>\n",
       "      <td>옥계대우아파트앞 - 신나리아파트</td>\n",
       "    </tr>\n",
       "    <tr>\n",
       "      <th>14402</th>\n",
       "      <td>GMB9720</td>\n",
       "      <td>27</td>\n",
       "      <td>신나리아파트 - 옥계중학교앞</td>\n",
       "    </tr>\n",
       "    <tr>\n",
       "      <th>14403</th>\n",
       "      <td>GMB9720</td>\n",
       "      <td>28</td>\n",
       "      <td>옥계중학교앞 - 금오공대입구(금오공대종점방면)</td>\n",
       "    </tr>\n",
       "    <tr>\n",
       "      <th>14404</th>\n",
       "      <td>GMB9720</td>\n",
       "      <td>29</td>\n",
       "      <td>금오공대입구(금오공대종점방면) - 금오공대종점</td>\n",
       "    </tr>\n",
       "  </tbody>\n",
       "</table>\n",
       "<p>14066 rows × 3 columns</p>\n",
       "</div>"
      ],
      "text/plain": [
       "           노선번호  정류소순서                         구간_이름\n",
       "0      GMB19120      1        옥계이편한세상APT앞 - 우미린더스카이앞\n",
       "1      GMB19120      2       우미린더스카이앞 - 4공단(현진아파트방면)\n",
       "2      GMB19120      3         4공단(현진아파트방면) - 현진아파트앞\n",
       "3      GMB19120      4                현진아파트앞 - 삼구아파트\n",
       "4      GMB19120      5     삼구아파트 - 4공단입구건너(인동농협옥계지점)\n",
       "...         ...    ...                           ...\n",
       "14400   GMB9720     25  4공단입구건너(인동농협옥계지점) - 옥계대우아파트앞\n",
       "14401   GMB9720     26             옥계대우아파트앞 - 신나리아파트\n",
       "14402   GMB9720     27               신나리아파트 - 옥계중학교앞\n",
       "14403   GMB9720     28     옥계중학교앞 - 금오공대입구(금오공대종점방면)\n",
       "14404   GMB9720     29     금오공대입구(금오공대종점방면) - 금오공대종점\n",
       "\n",
       "[14066 rows x 3 columns]"
      ]
     },
     "execution_count": 128,
     "metadata": {},
     "output_type": "execute_result"
    }
   ],
   "source": [
    "# 필요한 컬럼만 확인\n",
    "target_columns = ['노선번호', '정류소순서', '구간_이름']\n",
    "route_df = route_df[target_columns]\n",
    "route_df"
   ]
  },
  {
   "cell_type": "code",
   "execution_count": null,
   "metadata": {},
   "outputs": [],
   "source": [
    "# 노선별_구간.csv 생성\n",
    "route_df.to_csv('노선별_구간.csv', index=False)"
   ]
  }
 ],
 "metadata": {
  "kernelspec": {
   "display_name": "Python 3",
   "language": "python",
   "name": "python3"
  },
  "language_info": {
   "codemirror_mode": {
    "name": "ipython",
    "version": 3
   },
   "file_extension": ".py",
   "mimetype": "text/x-python",
   "name": "python",
   "nbconvert_exporter": "python",
   "pygments_lexer": "ipython3",
   "version": "3.9.10"
  }
 },
 "nbformat": 4,
 "nbformat_minor": 2
}
