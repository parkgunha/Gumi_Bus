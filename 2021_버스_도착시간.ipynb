{
 "cells": [
  {
   "cell_type": "code",
   "execution_count": 1,
   "metadata": {},
   "outputs": [
    {
     "ename": "ModuleNotFoundError",
     "evalue": "No module named 'tqdm'",
     "output_type": "error",
     "traceback": [
      "\u001b[0;31m---------------------------------------------------------------------------\u001b[0m",
      "\u001b[0;31mModuleNotFoundError\u001b[0m                       Traceback (most recent call last)",
      "Cell \u001b[0;32mIn[1], line 3\u001b[0m\n\u001b[1;32m      1\u001b[0m \u001b[38;5;28;01mfrom\u001b[39;00m\u001b[38;5;250m \u001b[39m\u001b[38;5;21;01mglob\u001b[39;00m\u001b[38;5;250m \u001b[39m\u001b[38;5;28;01mimport\u001b[39;00m glob\n\u001b[0;32m----> 3\u001b[0m \u001b[38;5;28;01mfrom\u001b[39;00m\u001b[38;5;250m \u001b[39m\u001b[38;5;21;01mtqdm\u001b[39;00m\u001b[38;5;250m \u001b[39m\u001b[38;5;28;01mimport\u001b[39;00m tqdm\n\u001b[1;32m      4\u001b[0m \u001b[38;5;28;01mimport\u001b[39;00m\u001b[38;5;250m \u001b[39m\u001b[38;5;21;01mpandas\u001b[39;00m\u001b[38;5;250m \u001b[39m\u001b[38;5;28;01mas\u001b[39;00m\u001b[38;5;250m \u001b[39m\u001b[38;5;21;01mpd\u001b[39;00m\n\u001b[1;32m      5\u001b[0m \u001b[38;5;28;01mimport\u001b[39;00m\u001b[38;5;250m \u001b[39m\u001b[38;5;21;01mmatplotlib\u001b[39;00m\u001b[38;5;21;01m.\u001b[39;00m\u001b[38;5;21;01mpyplot\u001b[39;00m\u001b[38;5;250m \u001b[39m\u001b[38;5;28;01mas\u001b[39;00m\u001b[38;5;250m \u001b[39m\u001b[38;5;21;01mplt\u001b[39;00m\n",
      "\u001b[0;31mModuleNotFoundError\u001b[0m: No module named 'tqdm'"
     ]
    }
   ],
   "source": [
    "from glob import glob\n",
    "\n",
    "from tqdm import tqdm\n",
    "import pandas as pd\n",
    "import matplotlib.pyplot as plt"
   ]
  },
  {
   "cell_type": "code",
   "execution_count": null,
   "metadata": {},
   "outputs": [
    {
     "ename": "SyntaxError",
     "evalue": "invalid syntax (2765566465.py, line 1)",
     "output_type": "error",
     "traceback": [
      "\u001b[0;36m  Cell \u001b[0;32mIn[3], line 1\u001b[0;36m\u001b[0m\n\u001b[0;31m    $ pip3\u001b[0m\n\u001b[0m    ^\u001b[0m\n\u001b[0;31mSyntaxError\u001b[0m\u001b[0;31m:\u001b[0m invalid syntax\n"
     ]
    }
   ],
   "source": []
  },
  {
   "cell_type": "code",
   "execution_count": 3,
   "metadata": {},
   "outputs": [
    {
     "data": {
      "text/plain": [
       "['구미버스_이벤트_로그\\\\gm_busevent\\\\gm_busevent.csv',\n",
       " '구미버스_이벤트_로그\\\\gm_busevent (1) (2)\\\\gm_busevent.csv',\n",
       " '구미버스_이벤트_로그\\\\gm_busevent (10)\\\\gm_busevent.csv',\n",
       " '구미버스_이벤트_로그\\\\gm_busevent (11)\\\\gm_busevent.csv',\n",
       " '구미버스_이벤트_로그\\\\gm_busevent (12)\\\\gm_busevent.csv',\n",
       " '구미버스_이벤트_로그\\\\gm_busevent (13)\\\\gm_busevent.csv',\n",
       " '구미버스_이벤트_로그\\\\gm_busevent (14)\\\\gm_busevent.csv',\n",
       " '구미버스_이벤트_로그\\\\gm_busevent (15)\\\\gm_busevent.csv',\n",
       " '구미버스_이벤트_로그\\\\gm_busevent (16)\\\\gm_busevent.csv',\n",
       " '구미버스_이벤트_로그\\\\gm_busevent (17)\\\\gm_busevent.csv',\n",
       " '구미버스_이벤트_로그\\\\gm_busevent (18)\\\\gm_busevent.csv',\n",
       " '구미버스_이벤트_로그\\\\gm_busevent (19)\\\\gm_busevent.csv',\n",
       " '구미버스_이벤트_로그\\\\gm_busevent (2)\\\\gm_busevent.csv',\n",
       " '구미버스_이벤트_로그\\\\gm_busevent (20)\\\\gm_busevent.csv',\n",
       " '구미버스_이벤트_로그\\\\gm_busevent (21)\\\\gm_busevent.csv',\n",
       " '구미버스_이벤트_로그\\\\gm_busevent (22)\\\\gm_busevent.csv',\n",
       " '구미버스_이벤트_로그\\\\gm_busevent (23)\\\\gm_busevent.csv',\n",
       " '구미버스_이벤트_로그\\\\gm_busevent (24)\\\\gm_busevent.csv',\n",
       " '구미버스_이벤트_로그\\\\gm_busevent (25)\\\\gm_busevent.csv',\n",
       " '구미버스_이벤트_로그\\\\gm_busevent (26)\\\\gm_busevent.csv',\n",
       " '구미버스_이벤트_로그\\\\gm_busevent (27)\\\\gm_busevent.csv',\n",
       " '구미버스_이벤트_로그\\\\gm_busevent (28)\\\\gm_busevent.csv',\n",
       " '구미버스_이벤트_로그\\\\gm_busevent (29)\\\\gm_busevent.csv',\n",
       " '구미버스_이벤트_로그\\\\gm_busevent (3)\\\\gm_busevent.csv',\n",
       " '구미버스_이벤트_로그\\\\gm_busevent (30)\\\\gm_busevent.csv',\n",
       " '구미버스_이벤트_로그\\\\gm_busevent (31)\\\\gm_busevent.csv',\n",
       " '구미버스_이벤트_로그\\\\gm_busevent (32)\\\\gm_busevent.csv',\n",
       " '구미버스_이벤트_로그\\\\gm_busevent (33)\\\\gm_busevent.csv',\n",
       " '구미버스_이벤트_로그\\\\gm_busevent (34)\\\\gm_busevent.csv',\n",
       " '구미버스_이벤트_로그\\\\gm_busevent (35)\\\\gm_busevent.csv',\n",
       " '구미버스_이벤트_로그\\\\gm_busevent (36)\\\\gm_busevent.csv',\n",
       " '구미버스_이벤트_로그\\\\gm_busevent (37)\\\\gm_busevent.csv',\n",
       " '구미버스_이벤트_로그\\\\gm_busevent (38)\\\\gm_busevent.csv',\n",
       " '구미버스_이벤트_로그\\\\gm_busevent (39)\\\\gm_busevent.csv',\n",
       " '구미버스_이벤트_로그\\\\gm_busevent (4)\\\\gm_busevent.csv',\n",
       " '구미버스_이벤트_로그\\\\gm_busevent (5)\\\\gm_busevent.csv',\n",
       " '구미버스_이벤트_로그\\\\gm_busevent (6)\\\\gm_busevent.csv',\n",
       " '구미버스_이벤트_로그\\\\gm_busevent (7)\\\\gm_busevent.csv',\n",
       " '구미버스_이벤트_로그\\\\gm_busevent (8)\\\\gm_busevent.csv',\n",
       " '구미버스_이벤트_로그\\\\gm_busevent (9)\\\\gm_busevent.csv']"
      ]
     },
     "execution_count": 3,
     "metadata": {},
     "output_type": "execute_result"
    }
   ],
   "source": [
    "glob(\"구미버스_이벤트_로그/gm_busevent*/gm_busevent.csv\")"
   ]
  },
  {
   "cell_type": "code",
   "execution_count": 4,
   "metadata": {},
   "outputs": [],
   "source": [
    "res = []\n",
    "for path in glob(\"구미버스_이벤트_로그/gm_busevent*/gm_busevent.csv\"):\n",
    "   df = pd.read_csv(path)\n",
    "   res.append(df)"
   ]
  },
  {
   "cell_type": "code",
   "execution_count": 5,
   "metadata": {},
   "outputs": [
    {
     "name": "stdout",
     "output_type": "stream",
     "text": [
      "[      BRT_ID BRT_DIRECTION  BRT_CLASS   BRN_IN_OCCURYMDHMS  \\\n",
      "0        140            순환          0  2021-11-10 01:59:15   \n",
      "1      380-1           정방향          0  2021-11-10 03:11:07   \n",
      "2        885           정방향          0  2021-11-10 06:06:23   \n",
      "3       95-1           정방향          1  2021-11-10 06:06:25   \n",
      "4        172           역방향          0  2021-11-10 06:06:36   \n",
      "...      ...           ...        ...                  ...   \n",
      "17869     26           정방향          0  2021-11-10 09:44:48   \n",
      "17870  380-1           정방향          0  2021-11-10 11:43:30   \n",
      "17871    181           정방향          0  2021-11-10 17:38:30   \n",
      "17872  380-1           정방향          0  2021-11-10 17:52:18   \n",
      "17873    140            순환          0  2021-11-10 19:06:21   \n",
      "\n",
      "       BRN_OUT_OCCURYMDHMS      BNODE_KNAME     BNODE_X    BNODE_Y  \n",
      "0      2021-11-10 01:59:26        푸르지오캐슬B단지  128.336100  36.124709  \n",
      "1      2021-11-10 03:11:16            각산네거리  128.434978  36.154153  \n",
      "2      2021-11-10 06:07:03           금오산사거리  128.335880  36.126888  \n",
      "3      2021-11-10 06:07:07           금오산사거리  128.335880  36.126888  \n",
      "4      2021-11-10 06:06:44  원평2동산업도로(도량교방면)  128.327839  36.133168  \n",
      "...                    ...              ...         ...        ...  \n",
      "17869  2021-11-10 09:44:56      송림네거리(송림방면)  128.355047  36.163268  \n",
      "17870  2021-11-10 11:43:57        푸르지오캐슬B단지  128.336100  36.124709  \n",
      "17871  2021-11-10 17:38:43            형곡네거리  128.338763  36.116790  \n",
      "17872  2021-11-10 17:52:27       가톨릭근로자문화센타  128.337849  36.123273  \n",
      "17873  2021-11-10 19:06:28        송정동번개시장건너  128.340566  36.121261  \n",
      "\n",
      "[17874 rows x 8 columns],       BRT_ID BRT_DIRECTION  BRT_CLASS   BRN_IN_OCCURYMDHMS  \\\n",
      "0        553           역방향          0  2021-11-06 05:47:42   \n",
      "1        553           역방향          0  2021-11-06 05:48:37   \n",
      "2        553           역방향          0  2021-11-06 05:49:23   \n",
      "3        553           역방향          0  2021-11-06 05:49:39   \n",
      "4        553           역방향          0  2021-11-06 05:50:20   \n",
      "...      ...           ...        ...                  ...   \n",
      "43660     29           역방향          0  2021-11-06 16:07:32   \n",
      "43661    380           정방향          0  2021-11-06 16:07:34   \n",
      "43662    182           역방향          0  2021-11-06 16:07:37   \n",
      "43663    404            순환          1  2021-11-06 16:07:37   \n",
      "43664    101            순환          0  2021-11-06 16:07:44   \n",
      "\n",
      "       BRN_OUT_OCCURYMDHMS          BNODE_KNAME     BNODE_X    BNODE_Y  \n",
      "0      2021-11-06 05:47:55         원평2동행정복지센터건너  128.325838  36.131291  \n",
      "1      2021-11-06 05:48:44  도량2동입구(선기동교복단지건너방면)  128.321785  36.133866  \n",
      "2      2021-11-06 05:49:29            선기동교복단지건너  128.312433  36.137098  \n",
      "3      2021-11-06 05:49:46       봉곡동입구(진주울입구방면)  128.309390  36.138558  \n",
      "4      2021-11-06 05:50:25         진주울입구(장흥리방면)  128.301680  36.141319  \n",
      "...                    ...                  ...         ...        ...  \n",
      "43660  2021-11-06 16:07:46           지산동행정복지센터앞  128.345987  36.138624  \n",
      "43661  2021-11-06 16:07:54               삼성전자후문  128.418282  36.107202  \n",
      "43662  2021-11-06 16:07:43                봉죽사건너  128.357513  36.105519  \n",
      "43663  2021-11-06 16:07:42              육일씨엔에스앞  128.431013  36.148626  \n",
      "43664  2021-11-06 16:07:54             LG이노텍공장앞  128.378331  36.115442  \n",
      "\n",
      "[43665 rows x 8 columns]]\n"
     ]
    }
   ],
   "source": [
    "print(res[:2])"
   ]
  },
  {
   "cell_type": "code",
   "execution_count": 6,
   "metadata": {},
   "outputs": [],
   "source": [
    "df = pd.concat(res,ignore_index=True)"
   ]
  },
  {
   "cell_type": "code",
   "execution_count": 7,
   "metadata": {},
   "outputs": [
    {
     "data": {
      "text/plain": [
       "(1225348, 8)"
      ]
     },
     "execution_count": 7,
     "metadata": {},
     "output_type": "execute_result"
    }
   ],
   "source": [
    "df.shape"
   ]
  },
  {
   "cell_type": "code",
   "execution_count": 8,
   "metadata": {},
   "outputs": [
    {
     "name": "stdout",
     "output_type": "stream",
     "text": [
      "<class 'pandas.core.frame.DataFrame'>\n",
      "RangeIndex: 1225348 entries, 0 to 1225347\n",
      "Data columns (total 8 columns):\n",
      " #   Column               Non-Null Count    Dtype  \n",
      "---  ------               --------------    -----  \n",
      " 0   BRT_ID               1225348 non-null  object \n",
      " 1   BRT_DIRECTION        1225348 non-null  object \n",
      " 2   BRT_CLASS            1225348 non-null  int64  \n",
      " 3   BRN_IN_OCCURYMDHMS   1225348 non-null  object \n",
      " 4   BRN_OUT_OCCURYMDHMS  1225348 non-null  object \n",
      " 5   BNODE_KNAME          1213843 non-null  object \n",
      " 6   BNODE_X              1225348 non-null  float64\n",
      " 7   BNODE_Y              1225348 non-null  float64\n",
      "dtypes: float64(2), int64(1), object(5)\n",
      "memory usage: 74.8+ MB\n"
     ]
    }
   ],
   "source": [
    "df.info()"
   ]
  },
  {
   "cell_type": "code",
   "execution_count": 9,
   "metadata": {},
   "outputs": [
    {
     "data": {
      "text/plain": [
       "BRT_ID                     0\n",
       "BRT_DIRECTION              0\n",
       "BRT_CLASS                  0\n",
       "BRN_IN_OCCURYMDHMS         0\n",
       "BRN_OUT_OCCURYMDHMS        0\n",
       "BNODE_KNAME            11505\n",
       "BNODE_X                    0\n",
       "BNODE_Y                    0\n",
       "dtype: int64"
      ]
     },
     "execution_count": 9,
     "metadata": {},
     "output_type": "execute_result"
    }
   ],
   "source": [
    "df.isna().sum()"
   ]
  },
  {
   "cell_type": "code",
   "execution_count": 10,
   "metadata": {},
   "outputs": [
    {
     "data": {
      "text/plain": [
       "'2021-11-10 19:06:21'"
      ]
     },
     "metadata": {},
     "output_type": "display_data"
    },
    {
     "data": {
      "text/plain": [
       "'2021-10-02 05:35:47'"
      ]
     },
     "metadata": {},
     "output_type": "display_data"
    }
   ],
   "source": [
    "# min max로 조회한 기간(10월 2일 - 11월 10일) 데이터가 들어왔는지 확인\n",
    "display(\n",
    "   df.BRN_IN_OCCURYMDHMS.max(),\n",
    "   df.BRN_IN_OCCURYMDHMS.min())"
   ]
  },
  {
   "cell_type": "code",
   "execution_count": 12,
   "metadata": {},
   "outputs": [],
   "source": [
    "# column name change to korean\n",
    "df = df.rename(columns={\"BRT_ID\": \"버스노선_이름\", \"BRT_DIRECTION\": \"버스노선_방향\", \"BRT_CLASS\": \"버스노선_경유코드\"\n",
    "                   , \"BRN_IN_OCCURYMDHMS\": \"도착시간\", \"BRN_OUT_OCCURYMDHMS\": \"출발시간\", \"BNODE_KNAME\": \"정류장_이름\"\n",
    "                   , \"BNODE_X\": \"경도\", \"BNODE_Y\": \"위도\"}) "
   ]
  },
  {
   "cell_type": "code",
   "execution_count": 13,
   "metadata": {},
   "outputs": [
    {
     "data": {
      "text/html": [
       "<div>\n",
       "<style scoped>\n",
       "    .dataframe tbody tr th:only-of-type {\n",
       "        vertical-align: middle;\n",
       "    }\n",
       "\n",
       "    .dataframe tbody tr th {\n",
       "        vertical-align: top;\n",
       "    }\n",
       "\n",
       "    .dataframe thead th {\n",
       "        text-align: right;\n",
       "    }\n",
       "</style>\n",
       "<table border=\"1\" class=\"dataframe\">\n",
       "  <thead>\n",
       "    <tr style=\"text-align: right;\">\n",
       "      <th></th>\n",
       "      <th>버스노선_이름</th>\n",
       "      <th>버스노선_방향</th>\n",
       "      <th>버스노선_경유코드</th>\n",
       "      <th>도착시간</th>\n",
       "      <th>출발시간</th>\n",
       "      <th>정류장_이름</th>\n",
       "      <th>경도</th>\n",
       "      <th>위도</th>\n",
       "    </tr>\n",
       "  </thead>\n",
       "  <tbody>\n",
       "    <tr>\n",
       "      <th>0</th>\n",
       "      <td>140</td>\n",
       "      <td>순환</td>\n",
       "      <td>0</td>\n",
       "      <td>2021-11-10 01:59:15</td>\n",
       "      <td>2021-11-10 01:59:26</td>\n",
       "      <td>푸르지오캐슬B단지</td>\n",
       "      <td>128.336100</td>\n",
       "      <td>36.124709</td>\n",
       "    </tr>\n",
       "    <tr>\n",
       "      <th>1</th>\n",
       "      <td>380-1</td>\n",
       "      <td>정방향</td>\n",
       "      <td>0</td>\n",
       "      <td>2021-11-10 03:11:07</td>\n",
       "      <td>2021-11-10 03:11:16</td>\n",
       "      <td>각산네거리</td>\n",
       "      <td>128.434978</td>\n",
       "      <td>36.154153</td>\n",
       "    </tr>\n",
       "  </tbody>\n",
       "</table>\n",
       "</div>"
      ],
      "text/plain": [
       "  버스노선_이름 버스노선_방향  버스노선_경유코드                 도착시간                 출발시간  \\\n",
       "0     140      순환          0  2021-11-10 01:59:15  2021-11-10 01:59:26   \n",
       "1   380-1     정방향          0  2021-11-10 03:11:07  2021-11-10 03:11:16   \n",
       "\n",
       "      정류장_이름          경도         위도  \n",
       "0  푸르지오캐슬B단지  128.336100  36.124709  \n",
       "1      각산네거리  128.434978  36.154153  "
      ]
     },
     "execution_count": 13,
     "metadata": {},
     "output_type": "execute_result"
    }
   ],
   "source": [
    "df.head(2)"
   ]
  },
  {
   "cell_type": "code",
   "execution_count": null,
   "metadata": {},
   "outputs": [
    {
     "data": {
      "text/plain": [
       "BRT_ID                     0\n",
       "BRT_DIRECTION              0\n",
       "BRT_CLASS                  0\n",
       "BRN_IN_OCCURYMDHMS         0\n",
       "BRN_OUT_OCCURYMDHMS        0\n",
       "BNODE_KNAME            11505\n",
       "BNODE_X                    0\n",
       "BNODE_Y                    0\n",
       "dtype: int64"
      ]
     },
     "metadata": {},
     "output_type": "display_data"
    }
   ],
   "source": [
    "# null 확인\n",
    "df.isna().sum()"
   ]
  },
  {
   "cell_type": "code",
   "execution_count": 32,
   "metadata": {},
   "outputs": [
    {
     "data": {
      "text/html": [
       "<div>\n",
       "<style scoped>\n",
       "    .dataframe tbody tr th:only-of-type {\n",
       "        vertical-align: middle;\n",
       "    }\n",
       "\n",
       "    .dataframe tbody tr th {\n",
       "        vertical-align: top;\n",
       "    }\n",
       "\n",
       "    .dataframe thead th {\n",
       "        text-align: right;\n",
       "    }\n",
       "</style>\n",
       "<table border=\"1\" class=\"dataframe\">\n",
       "  <thead>\n",
       "    <tr style=\"text-align: right;\">\n",
       "      <th></th>\n",
       "      <th>버스노선_이름</th>\n",
       "      <th>버스노선_방향</th>\n",
       "      <th>버스노선_경유코드</th>\n",
       "      <th>도착시간</th>\n",
       "      <th>출발시간</th>\n",
       "      <th>정류장_이름</th>\n",
       "      <th>경도</th>\n",
       "      <th>위도</th>\n",
       "    </tr>\n",
       "  </thead>\n",
       "  <tbody>\n",
       "  </tbody>\n",
       "</table>\n",
       "</div>"
      ],
      "text/plain": [
       "Empty DataFrame\n",
       "Columns: [버스노선_이름, 버스노선_방향, 버스노선_경유코드, 도착시간, 출발시간, 정류장_이름, 경도, 위도]\n",
       "Index: []"
      ]
     },
     "execution_count": 32,
     "metadata": {},
     "output_type": "execute_result"
    }
   ],
   "source": [
    "df[df.정류장_이름.isna()].head()"
   ]
  },
  {
   "cell_type": "code",
   "execution_count": 14,
   "metadata": {},
   "outputs": [
    {
     "data": {
      "text/plain": [
       "경도          위도       \n",
       "128.434978  36.154153    1493\n",
       "Name: count, dtype: int64"
      ]
     },
     "execution_count": 14,
     "metadata": {},
     "output_type": "execute_result"
    }
   ],
   "source": [
    "df[(df.정류장_이름.isna()) & (df.버스노선_이름 == '5000')][['경도','위도']].value_counts()"
   ]
  },
  {
   "cell_type": "code",
   "execution_count": 15,
   "metadata": {},
   "outputs": [
    {
     "data": {
      "text/plain": [
       "(1213843, 8)"
      ]
     },
     "execution_count": 15,
     "metadata": {},
     "output_type": "execute_result"
    }
   ],
   "source": [
    "df = df.dropna(axis=0)\n",
    "df.shape"
   ]
  },
  {
   "cell_type": "code",
   "execution_count": 16,
   "metadata": {},
   "outputs": [
    {
     "data": {
      "text/html": [
       "<div>\n",
       "<style scoped>\n",
       "    .dataframe tbody tr th:only-of-type {\n",
       "        vertical-align: middle;\n",
       "    }\n",
       "\n",
       "    .dataframe tbody tr th {\n",
       "        vertical-align: top;\n",
       "    }\n",
       "\n",
       "    .dataframe thead th {\n",
       "        text-align: right;\n",
       "    }\n",
       "</style>\n",
       "<table border=\"1\" class=\"dataframe\">\n",
       "  <thead>\n",
       "    <tr style=\"text-align: right;\">\n",
       "      <th></th>\n",
       "      <th>버스노선_이름</th>\n",
       "      <th>버스노선_방향</th>\n",
       "      <th>버스노선_경유코드</th>\n",
       "      <th>도착시간</th>\n",
       "      <th>출발시간</th>\n",
       "      <th>정류장_이름</th>\n",
       "      <th>경도</th>\n",
       "      <th>위도</th>\n",
       "    </tr>\n",
       "  </thead>\n",
       "  <tbody>\n",
       "    <tr>\n",
       "      <th>3867</th>\n",
       "      <td>910</td>\n",
       "      <td>정방향</td>\n",
       "      <td>0</td>\n",
       "      <td>2021-11-10 07:08:04</td>\n",
       "      <td>2021-11-10 07:10:18</td>\n",
       "      <td>구미역</td>\n",
       "      <td>128.329321</td>\n",
       "      <td>36.129635</td>\n",
       "    </tr>\n",
       "    <tr>\n",
       "      <th>4153</th>\n",
       "      <td>910</td>\n",
       "      <td>정방향</td>\n",
       "      <td>0</td>\n",
       "      <td>2021-11-10 07:10:46</td>\n",
       "      <td>2021-11-10 07:11:13</td>\n",
       "      <td>농협</td>\n",
       "      <td>128.333200</td>\n",
       "      <td>36.128023</td>\n",
       "    </tr>\n",
       "    <tr>\n",
       "      <th>4245</th>\n",
       "      <td>910</td>\n",
       "      <td>정방향</td>\n",
       "      <td>0</td>\n",
       "      <td>2021-11-10 07:11:45</td>\n",
       "      <td>2021-11-10 07:13:43</td>\n",
       "      <td>금오산사거리</td>\n",
       "      <td>128.335880</td>\n",
       "      <td>36.126888</td>\n",
       "    </tr>\n",
       "    <tr>\n",
       "      <th>4457</th>\n",
       "      <td>910</td>\n",
       "      <td>정방향</td>\n",
       "      <td>0</td>\n",
       "      <td>2021-11-10 07:13:57</td>\n",
       "      <td>2021-11-10 07:14:04</td>\n",
       "      <td>원평동 행정복지센터 건너</td>\n",
       "      <td>128.337874</td>\n",
       "      <td>36.126044</td>\n",
       "    </tr>\n",
       "    <tr>\n",
       "      <th>4473</th>\n",
       "      <td>910</td>\n",
       "      <td>정방향</td>\n",
       "      <td>0</td>\n",
       "      <td>2021-11-10 07:14:09</td>\n",
       "      <td>2021-11-10 07:14:19</td>\n",
       "      <td>금오시장 건너</td>\n",
       "      <td>128.339623</td>\n",
       "      <td>36.125278</td>\n",
       "    </tr>\n",
       "    <tr>\n",
       "      <th>...</th>\n",
       "      <td>...</td>\n",
       "      <td>...</td>\n",
       "      <td>...</td>\n",
       "      <td>...</td>\n",
       "      <td>...</td>\n",
       "      <td>...</td>\n",
       "      <td>...</td>\n",
       "      <td>...</td>\n",
       "    </tr>\n",
       "    <tr>\n",
       "      <th>1214392</th>\n",
       "      <td>910</td>\n",
       "      <td>역방향</td>\n",
       "      <td>0</td>\n",
       "      <td>2021-10-17 08:26:45</td>\n",
       "      <td>2021-10-17 08:26:53</td>\n",
       "      <td>송원고가밑(구미역방면)</td>\n",
       "      <td>128.343969</td>\n",
       "      <td>36.123412</td>\n",
       "    </tr>\n",
       "    <tr>\n",
       "      <th>1214422</th>\n",
       "      <td>910</td>\n",
       "      <td>역방향</td>\n",
       "      <td>0</td>\n",
       "      <td>2021-10-17 08:27:13</td>\n",
       "      <td>2021-10-17 08:27:19</td>\n",
       "      <td>금오시장 입구</td>\n",
       "      <td>128.340973</td>\n",
       "      <td>36.124741</td>\n",
       "    </tr>\n",
       "    <tr>\n",
       "      <th>1214440</th>\n",
       "      <td>910</td>\n",
       "      <td>역방향</td>\n",
       "      <td>0</td>\n",
       "      <td>2021-10-17 08:27:26</td>\n",
       "      <td>2021-10-17 08:27:49</td>\n",
       "      <td>원평동 행정복지 센터 앞</td>\n",
       "      <td>128.338893</td>\n",
       "      <td>36.125819</td>\n",
       "    </tr>\n",
       "    <tr>\n",
       "      <th>1214481</th>\n",
       "      <td>910</td>\n",
       "      <td>역방향</td>\n",
       "      <td>0</td>\n",
       "      <td>2021-10-17 08:28:04</td>\n",
       "      <td>2021-10-17 08:28:28</td>\n",
       "      <td>대구은행앞</td>\n",
       "      <td>128.335663</td>\n",
       "      <td>36.127183</td>\n",
       "    </tr>\n",
       "    <tr>\n",
       "      <th>1214567</th>\n",
       "      <td>910</td>\n",
       "      <td>역방향</td>\n",
       "      <td>0</td>\n",
       "      <td>2021-10-17 08:29:24</td>\n",
       "      <td>2021-10-17 08:29:35</td>\n",
       "      <td>구미역(중앙시장)</td>\n",
       "      <td>128.329834</td>\n",
       "      <td>36.129622</td>\n",
       "    </tr>\n",
       "  </tbody>\n",
       "</table>\n",
       "<p>4506 rows × 8 columns</p>\n",
       "</div>"
      ],
      "text/plain": [
       "        버스노선_이름 버스노선_방향  버스노선_경유코드                 도착시간                 출발시간  \\\n",
       "3867        910     정방향          0  2021-11-10 07:08:04  2021-11-10 07:10:18   \n",
       "4153        910     정방향          0  2021-11-10 07:10:46  2021-11-10 07:11:13   \n",
       "4245        910     정방향          0  2021-11-10 07:11:45  2021-11-10 07:13:43   \n",
       "4457        910     정방향          0  2021-11-10 07:13:57  2021-11-10 07:14:04   \n",
       "4473        910     정방향          0  2021-11-10 07:14:09  2021-11-10 07:14:19   \n",
       "...         ...     ...        ...                  ...                  ...   \n",
       "1214392     910     역방향          0  2021-10-17 08:26:45  2021-10-17 08:26:53   \n",
       "1214422     910     역방향          0  2021-10-17 08:27:13  2021-10-17 08:27:19   \n",
       "1214440     910     역방향          0  2021-10-17 08:27:26  2021-10-17 08:27:49   \n",
       "1214481     910     역방향          0  2021-10-17 08:28:04  2021-10-17 08:28:28   \n",
       "1214567     910     역방향          0  2021-10-17 08:29:24  2021-10-17 08:29:35   \n",
       "\n",
       "                정류장_이름          경도         위도  \n",
       "3867               구미역  128.329321  36.129635  \n",
       "4153                농협  128.333200  36.128023  \n",
       "4245            금오산사거리  128.335880  36.126888  \n",
       "4457     원평동 행정복지센터 건너  128.337874  36.126044  \n",
       "4473           금오시장 건너  128.339623  36.125278  \n",
       "...                ...         ...        ...  \n",
       "1214392   송원고가밑(구미역방면)  128.343969  36.123412  \n",
       "1214422        금오시장 입구  128.340973  36.124741  \n",
       "1214440  원평동 행정복지 센터 앞  128.338893  36.125819  \n",
       "1214481          대구은행앞  128.335663  36.127183  \n",
       "1214567      구미역(중앙시장)  128.329834  36.129622  \n",
       "\n",
       "[4506 rows x 8 columns]"
      ]
     },
     "execution_count": 16,
     "metadata": {},
     "output_type": "execute_result"
    }
   ],
   "source": [
    "# 910번 데이터 확인 -> O\n",
    "df[df.버스노선_이름 == '910']"
   ]
  },
  {
   "cell_type": "code",
   "execution_count": 17,
   "metadata": {},
   "outputs": [
    {
     "data": {
      "text/plain": [
       "버스노선_경유코드\n",
       "0    1005225\n",
       "1      78747\n",
       "2      61597\n",
       "3      28861\n",
       "4      20744\n",
       "5       8689\n",
       "6       6356\n",
       "7       1783\n",
       "9       1492\n",
       "8        349\n",
       "Name: count, dtype: int64"
      ]
     },
     "execution_count": 17,
     "metadata": {},
     "output_type": "execute_result"
    }
   ],
   "source": [
    "# 버스노선_경유코드: 경유노선 구분 의미 파악\n",
    "df.버스노선_경유코드.value_counts()"
   ]
  },
  {
   "cell_type": "code",
   "execution_count": 18,
   "metadata": {},
   "outputs": [
    {
     "data": {
      "text/plain": [
       "버스노선_이름\n",
       "340-4    3179\n",
       "11       1825\n",
       "410-1    1384\n",
       "411-6    1190\n",
       "360-3    1111\n",
       "Name: count, dtype: int64"
      ]
     },
     "execution_count": 18,
     "metadata": {},
     "output_type": "execute_result"
    }
   ],
   "source": [
    "# 같은 버스인데도 경유코드가 다른 경우가 있음. 의미는 잘..\n",
    "df[df.버스노선_경유코드 == 5].버스노선_이름.value_counts()"
   ]
  },
  {
   "cell_type": "code",
   "execution_count": 19,
   "metadata": {},
   "outputs": [
    {
     "data": {
      "text/plain": [
       "버스노선_방향\n",
       "정방향    478013\n",
       "역방향    460350\n",
       "순환     275480\n",
       "Name: count, dtype: int64"
      ]
     },
     "execution_count": 19,
     "metadata": {},
     "output_type": "execute_result"
    }
   ],
   "source": [
    "# 버스노선 방향은 정방향과 역방향, 순환이 있음\n",
    "df.버스노선_방향.value_counts()"
   ]
  },
  {
   "cell_type": "code",
   "execution_count": 20,
   "metadata": {},
   "outputs": [],
   "source": [
    "# 도착시간과 출발시간을 날짜 data로 변환 -> 데이터 효율 올리고 날짜 함수(dt.month)를 사용하기 위해\n",
    "df.도착시간 = pd.to_datetime(df.도착시간)\n",
    "df.출발시간 = pd.to_datetime(df.출발시간)"
   ]
  },
  {
   "cell_type": "markdown",
   "metadata": {},
   "source": [
    "### ***910번 구간_걸린시간 구하기***"
   ]
  },
  {
   "cell_type": "code",
   "execution_count": 21,
   "metadata": {},
   "outputs": [
    {
     "data": {
      "text/html": [
       "<div>\n",
       "<style scoped>\n",
       "    .dataframe tbody tr th:only-of-type {\n",
       "        vertical-align: middle;\n",
       "    }\n",
       "\n",
       "    .dataframe tbody tr th {\n",
       "        vertical-align: top;\n",
       "    }\n",
       "\n",
       "    .dataframe thead th {\n",
       "        text-align: right;\n",
       "    }\n",
       "</style>\n",
       "<table border=\"1\" class=\"dataframe\">\n",
       "  <thead>\n",
       "    <tr style=\"text-align: right;\">\n",
       "      <th></th>\n",
       "      <th>버스노선_이름</th>\n",
       "      <th>버스노선_방향</th>\n",
       "      <th>버스노선_경유코드</th>\n",
       "      <th>도착시간</th>\n",
       "      <th>출발시간</th>\n",
       "      <th>정류장_이름</th>\n",
       "      <th>경도</th>\n",
       "      <th>위도</th>\n",
       "    </tr>\n",
       "  </thead>\n",
       "  <tbody>\n",
       "    <tr>\n",
       "      <th>3867</th>\n",
       "      <td>910</td>\n",
       "      <td>정방향</td>\n",
       "      <td>0</td>\n",
       "      <td>2021-11-10 07:08:04</td>\n",
       "      <td>2021-11-10 07:10:18</td>\n",
       "      <td>구미역</td>\n",
       "      <td>128.329321</td>\n",
       "      <td>36.129635</td>\n",
       "    </tr>\n",
       "    <tr>\n",
       "      <th>4153</th>\n",
       "      <td>910</td>\n",
       "      <td>정방향</td>\n",
       "      <td>0</td>\n",
       "      <td>2021-11-10 07:10:46</td>\n",
       "      <td>2021-11-10 07:11:13</td>\n",
       "      <td>농협</td>\n",
       "      <td>128.333200</td>\n",
       "      <td>36.128023</td>\n",
       "    </tr>\n",
       "    <tr>\n",
       "      <th>4245</th>\n",
       "      <td>910</td>\n",
       "      <td>정방향</td>\n",
       "      <td>0</td>\n",
       "      <td>2021-11-10 07:11:45</td>\n",
       "      <td>2021-11-10 07:13:43</td>\n",
       "      <td>금오산사거리</td>\n",
       "      <td>128.335880</td>\n",
       "      <td>36.126888</td>\n",
       "    </tr>\n",
       "    <tr>\n",
       "      <th>4457</th>\n",
       "      <td>910</td>\n",
       "      <td>정방향</td>\n",
       "      <td>0</td>\n",
       "      <td>2021-11-10 07:13:57</td>\n",
       "      <td>2021-11-10 07:14:04</td>\n",
       "      <td>원평동 행정복지센터 건너</td>\n",
       "      <td>128.337874</td>\n",
       "      <td>36.126044</td>\n",
       "    </tr>\n",
       "    <tr>\n",
       "      <th>4473</th>\n",
       "      <td>910</td>\n",
       "      <td>정방향</td>\n",
       "      <td>0</td>\n",
       "      <td>2021-11-10 07:14:09</td>\n",
       "      <td>2021-11-10 07:14:19</td>\n",
       "      <td>금오시장 건너</td>\n",
       "      <td>128.339623</td>\n",
       "      <td>36.125278</td>\n",
       "    </tr>\n",
       "    <tr>\n",
       "      <th>...</th>\n",
       "      <td>...</td>\n",
       "      <td>...</td>\n",
       "      <td>...</td>\n",
       "      <td>...</td>\n",
       "      <td>...</td>\n",
       "      <td>...</td>\n",
       "      <td>...</td>\n",
       "      <td>...</td>\n",
       "    </tr>\n",
       "    <tr>\n",
       "      <th>1210142</th>\n",
       "      <td>910</td>\n",
       "      <td>정방향</td>\n",
       "      <td>0</td>\n",
       "      <td>2021-10-17 07:36:03</td>\n",
       "      <td>2021-10-17 07:37:22</td>\n",
       "      <td>골드클래스앞</td>\n",
       "      <td>128.428267</td>\n",
       "      <td>36.157383</td>\n",
       "    </tr>\n",
       "    <tr>\n",
       "      <th>1210332</th>\n",
       "      <td>910</td>\n",
       "      <td>정방향</td>\n",
       "      <td>0</td>\n",
       "      <td>2021-10-17 07:38:04</td>\n",
       "      <td>2021-10-17 07:38:17</td>\n",
       "      <td>우미린센트럴파크 후문</td>\n",
       "      <td>128.431160</td>\n",
       "      <td>36.161066</td>\n",
       "    </tr>\n",
       "    <tr>\n",
       "      <th>1210391</th>\n",
       "      <td>910</td>\n",
       "      <td>정방향</td>\n",
       "      <td>0</td>\n",
       "      <td>2021-10-17 07:38:47</td>\n",
       "      <td>2021-10-17 07:38:56</td>\n",
       "      <td>우미린풀하우스건너</td>\n",
       "      <td>128.436179</td>\n",
       "      <td>36.161001</td>\n",
       "    </tr>\n",
       "    <tr>\n",
       "      <th>1210428</th>\n",
       "      <td>910</td>\n",
       "      <td>정방향</td>\n",
       "      <td>0</td>\n",
       "      <td>2021-10-17 07:39:11</td>\n",
       "      <td>2021-10-17 07:39:26</td>\n",
       "      <td>인덕중학교건너</td>\n",
       "      <td>128.438741</td>\n",
       "      <td>36.161121</td>\n",
       "    </tr>\n",
       "    <tr>\n",
       "      <th>1210542</th>\n",
       "      <td>910</td>\n",
       "      <td>정방향</td>\n",
       "      <td>0</td>\n",
       "      <td>2021-10-17 07:40:21</td>\n",
       "      <td>2021-10-17 07:40:47</td>\n",
       "      <td>인덕중흥S클래스건너</td>\n",
       "      <td>128.442420</td>\n",
       "      <td>36.163866</td>\n",
       "    </tr>\n",
       "  </tbody>\n",
       "</table>\n",
       "<p>2268 rows × 8 columns</p>\n",
       "</div>"
      ],
      "text/plain": [
       "        버스노선_이름 버스노선_방향  버스노선_경유코드                도착시간                출발시간  \\\n",
       "3867        910     정방향          0 2021-11-10 07:08:04 2021-11-10 07:10:18   \n",
       "4153        910     정방향          0 2021-11-10 07:10:46 2021-11-10 07:11:13   \n",
       "4245        910     정방향          0 2021-11-10 07:11:45 2021-11-10 07:13:43   \n",
       "4457        910     정방향          0 2021-11-10 07:13:57 2021-11-10 07:14:04   \n",
       "4473        910     정방향          0 2021-11-10 07:14:09 2021-11-10 07:14:19   \n",
       "...         ...     ...        ...                 ...                 ...   \n",
       "1210142     910     정방향          0 2021-10-17 07:36:03 2021-10-17 07:37:22   \n",
       "1210332     910     정방향          0 2021-10-17 07:38:04 2021-10-17 07:38:17   \n",
       "1210391     910     정방향          0 2021-10-17 07:38:47 2021-10-17 07:38:56   \n",
       "1210428     910     정방향          0 2021-10-17 07:39:11 2021-10-17 07:39:26   \n",
       "1210542     910     정방향          0 2021-10-17 07:40:21 2021-10-17 07:40:47   \n",
       "\n",
       "                정류장_이름          경도         위도  \n",
       "3867               구미역  128.329321  36.129635  \n",
       "4153                농협  128.333200  36.128023  \n",
       "4245            금오산사거리  128.335880  36.126888  \n",
       "4457     원평동 행정복지센터 건너  128.337874  36.126044  \n",
       "4473           금오시장 건너  128.339623  36.125278  \n",
       "...                ...         ...        ...  \n",
       "1210142         골드클래스앞  128.428267  36.157383  \n",
       "1210332    우미린센트럴파크 후문  128.431160  36.161066  \n",
       "1210391      우미린풀하우스건너  128.436179  36.161001  \n",
       "1210428        인덕중학교건너  128.438741  36.161121  \n",
       "1210542     인덕중흥S클래스건너  128.442420  36.163866  \n",
       "\n",
       "[2268 rows x 8 columns]"
      ]
     },
     "execution_count": 21,
     "metadata": {},
     "output_type": "execute_result"
    }
   ],
   "source": [
    "# 정방향, 역방향, 순환의 의미\n",
    "# 910번의 정방향: 구미역 -> 옥계\n",
    "df[(df.버스노선_이름 == '910') & (df.버스노선_방향 == '정방향')]"
   ]
  },
  {
   "cell_type": "code",
   "execution_count": 22,
   "metadata": {},
   "outputs": [
    {
     "data": {
      "text/html": [
       "<div>\n",
       "<style scoped>\n",
       "    .dataframe tbody tr th:only-of-type {\n",
       "        vertical-align: middle;\n",
       "    }\n",
       "\n",
       "    .dataframe tbody tr th {\n",
       "        vertical-align: top;\n",
       "    }\n",
       "\n",
       "    .dataframe thead th {\n",
       "        text-align: right;\n",
       "    }\n",
       "</style>\n",
       "<table border=\"1\" class=\"dataframe\">\n",
       "  <thead>\n",
       "    <tr style=\"text-align: right;\">\n",
       "      <th></th>\n",
       "      <th>버스노선_이름</th>\n",
       "      <th>버스노선_방향</th>\n",
       "      <th>버스노선_경유코드</th>\n",
       "      <th>도착시간</th>\n",
       "      <th>출발시간</th>\n",
       "      <th>정류장_이름</th>\n",
       "      <th>경도</th>\n",
       "      <th>위도</th>\n",
       "    </tr>\n",
       "  </thead>\n",
       "  <tbody>\n",
       "    <tr>\n",
       "      <th>8547</th>\n",
       "      <td>910</td>\n",
       "      <td>역방향</td>\n",
       "      <td>0</td>\n",
       "      <td>2021-11-10 07:57:14</td>\n",
       "      <td>2021-11-10 07:57:31</td>\n",
       "      <td>인덕중흥S클래스앞</td>\n",
       "      <td>128.442235</td>\n",
       "      <td>36.164035</td>\n",
       "    </tr>\n",
       "    <tr>\n",
       "      <th>8681</th>\n",
       "      <td>910</td>\n",
       "      <td>역방향</td>\n",
       "      <td>0</td>\n",
       "      <td>2021-11-10 07:58:50</td>\n",
       "      <td>2021-11-10 07:59:10</td>\n",
       "      <td>중흥S클래스에코시티</td>\n",
       "      <td>128.438975</td>\n",
       "      <td>36.161346</td>\n",
       "    </tr>\n",
       "    <tr>\n",
       "      <th>8805</th>\n",
       "      <td>910</td>\n",
       "      <td>역방향</td>\n",
       "      <td>0</td>\n",
       "      <td>2021-11-10 08:00:23</td>\n",
       "      <td>2021-11-10 08:00:53</td>\n",
       "      <td>우미린풀하우스정문</td>\n",
       "      <td>128.436067</td>\n",
       "      <td>36.161346</td>\n",
       "    </tr>\n",
       "    <tr>\n",
       "      <th>8893</th>\n",
       "      <td>910</td>\n",
       "      <td>역방향</td>\n",
       "      <td>0</td>\n",
       "      <td>2021-11-10 08:01:16</td>\n",
       "      <td>2021-11-10 08:01:28</td>\n",
       "      <td>우미린센트럴파크 후문건너</td>\n",
       "      <td>128.432100</td>\n",
       "      <td>36.161337</td>\n",
       "    </tr>\n",
       "    <tr>\n",
       "      <th>9110</th>\n",
       "      <td>910</td>\n",
       "      <td>역방향</td>\n",
       "      <td>0</td>\n",
       "      <td>2021-11-10 08:03:41</td>\n",
       "      <td>2021-11-10 08:04:04</td>\n",
       "      <td>골드클래스건너</td>\n",
       "      <td>128.428001</td>\n",
       "      <td>36.157399</td>\n",
       "    </tr>\n",
       "    <tr>\n",
       "      <th>...</th>\n",
       "      <td>...</td>\n",
       "      <td>...</td>\n",
       "      <td>...</td>\n",
       "      <td>...</td>\n",
       "      <td>...</td>\n",
       "      <td>...</td>\n",
       "      <td>...</td>\n",
       "      <td>...</td>\n",
       "    </tr>\n",
       "    <tr>\n",
       "      <th>1214392</th>\n",
       "      <td>910</td>\n",
       "      <td>역방향</td>\n",
       "      <td>0</td>\n",
       "      <td>2021-10-17 08:26:45</td>\n",
       "      <td>2021-10-17 08:26:53</td>\n",
       "      <td>송원고가밑(구미역방면)</td>\n",
       "      <td>128.343969</td>\n",
       "      <td>36.123412</td>\n",
       "    </tr>\n",
       "    <tr>\n",
       "      <th>1214422</th>\n",
       "      <td>910</td>\n",
       "      <td>역방향</td>\n",
       "      <td>0</td>\n",
       "      <td>2021-10-17 08:27:13</td>\n",
       "      <td>2021-10-17 08:27:19</td>\n",
       "      <td>금오시장 입구</td>\n",
       "      <td>128.340973</td>\n",
       "      <td>36.124741</td>\n",
       "    </tr>\n",
       "    <tr>\n",
       "      <th>1214440</th>\n",
       "      <td>910</td>\n",
       "      <td>역방향</td>\n",
       "      <td>0</td>\n",
       "      <td>2021-10-17 08:27:26</td>\n",
       "      <td>2021-10-17 08:27:49</td>\n",
       "      <td>원평동 행정복지 센터 앞</td>\n",
       "      <td>128.338893</td>\n",
       "      <td>36.125819</td>\n",
       "    </tr>\n",
       "    <tr>\n",
       "      <th>1214481</th>\n",
       "      <td>910</td>\n",
       "      <td>역방향</td>\n",
       "      <td>0</td>\n",
       "      <td>2021-10-17 08:28:04</td>\n",
       "      <td>2021-10-17 08:28:28</td>\n",
       "      <td>대구은행앞</td>\n",
       "      <td>128.335663</td>\n",
       "      <td>36.127183</td>\n",
       "    </tr>\n",
       "    <tr>\n",
       "      <th>1214567</th>\n",
       "      <td>910</td>\n",
       "      <td>역방향</td>\n",
       "      <td>0</td>\n",
       "      <td>2021-10-17 08:29:24</td>\n",
       "      <td>2021-10-17 08:29:35</td>\n",
       "      <td>구미역(중앙시장)</td>\n",
       "      <td>128.329834</td>\n",
       "      <td>36.129622</td>\n",
       "    </tr>\n",
       "  </tbody>\n",
       "</table>\n",
       "<p>2238 rows × 8 columns</p>\n",
       "</div>"
      ],
      "text/plain": [
       "        버스노선_이름 버스노선_방향  버스노선_경유코드                도착시간                출발시간  \\\n",
       "8547        910     역방향          0 2021-11-10 07:57:14 2021-11-10 07:57:31   \n",
       "8681        910     역방향          0 2021-11-10 07:58:50 2021-11-10 07:59:10   \n",
       "8805        910     역방향          0 2021-11-10 08:00:23 2021-11-10 08:00:53   \n",
       "8893        910     역방향          0 2021-11-10 08:01:16 2021-11-10 08:01:28   \n",
       "9110        910     역방향          0 2021-11-10 08:03:41 2021-11-10 08:04:04   \n",
       "...         ...     ...        ...                 ...                 ...   \n",
       "1214392     910     역방향          0 2021-10-17 08:26:45 2021-10-17 08:26:53   \n",
       "1214422     910     역방향          0 2021-10-17 08:27:13 2021-10-17 08:27:19   \n",
       "1214440     910     역방향          0 2021-10-17 08:27:26 2021-10-17 08:27:49   \n",
       "1214481     910     역방향          0 2021-10-17 08:28:04 2021-10-17 08:28:28   \n",
       "1214567     910     역방향          0 2021-10-17 08:29:24 2021-10-17 08:29:35   \n",
       "\n",
       "                정류장_이름          경도         위도  \n",
       "8547         인덕중흥S클래스앞  128.442235  36.164035  \n",
       "8681        중흥S클래스에코시티  128.438975  36.161346  \n",
       "8805         우미린풀하우스정문  128.436067  36.161346  \n",
       "8893     우미린센트럴파크 후문건너  128.432100  36.161337  \n",
       "9110           골드클래스건너  128.428001  36.157399  \n",
       "...                ...         ...        ...  \n",
       "1214392   송원고가밑(구미역방면)  128.343969  36.123412  \n",
       "1214422        금오시장 입구  128.340973  36.124741  \n",
       "1214440  원평동 행정복지 센터 앞  128.338893  36.125819  \n",
       "1214481          대구은행앞  128.335663  36.127183  \n",
       "1214567      구미역(중앙시장)  128.329834  36.129622  \n",
       "\n",
       "[2238 rows x 8 columns]"
      ]
     },
     "execution_count": 22,
     "metadata": {},
     "output_type": "execute_result"
    }
   ],
   "source": [
    "# 910번의 역방향: 옥계 -> 구미역\n",
    "df[(df.버스노선_이름 == '910') & (df.버스노선_방향 == '역방향')]"
   ]
  },
  {
   "cell_type": "code",
   "execution_count": 23,
   "metadata": {},
   "outputs": [
    {
     "data": {
      "text/plain": [
       "Timestamp('2021-10-12 09:54:04')"
      ]
     },
     "metadata": {},
     "output_type": "display_data"
    },
    {
     "data": {
      "text/plain": [
       "Timestamp('2021-11-10 09:40:22')"
      ]
     },
     "metadata": {},
     "output_type": "display_data"
    }
   ],
   "source": [
    "# 910번 버스 다른 날짜 데이터 확인\n",
    "display(df[df.버스노선_이름 == '910']['도착시간'].min()\n",
    ",df[df.버스노선_이름 == '910']['도착시간'].max())\n"
   ]
  },
  {
   "cell_type": "code",
   "execution_count": 125,
   "metadata": {},
   "outputs": [],
   "source": [
    "# 910번 버스의 구간_이름과 구간_걸린시간 구하기\n",
    "bus910 = df[(df.버스노선_이름 == '910')].sort_values(['도착시간', '버스노선_이름', '버스노선_방향'], ascending=(1,1,1)).reset_index(drop=True)\n",
    "bus910['구간_이름'] = bus910.정류장_이름 + \" - \" + bus910.정류장_이름.shift(-1)\n",
    "bus910['구간_걸린시간'] = bus910.도착시간.shift(-1) - bus910.도착시간"
   ]
  },
  {
   "cell_type": "code",
   "execution_count": 126,
   "metadata": {},
   "outputs": [
    {
     "data": {
      "text/html": [
       "<div>\n",
       "<style scoped>\n",
       "    .dataframe tbody tr th:only-of-type {\n",
       "        vertical-align: middle;\n",
       "    }\n",
       "\n",
       "    .dataframe tbody tr th {\n",
       "        vertical-align: top;\n",
       "    }\n",
       "\n",
       "    .dataframe thead th {\n",
       "        text-align: right;\n",
       "    }\n",
       "</style>\n",
       "<table border=\"1\" class=\"dataframe\">\n",
       "  <thead>\n",
       "    <tr style=\"text-align: right;\">\n",
       "      <th></th>\n",
       "      <th>버스노선_이름</th>\n",
       "      <th>버스노선_방향</th>\n",
       "      <th>버스노선_경유코드</th>\n",
       "      <th>도착시간</th>\n",
       "      <th>출발시간</th>\n",
       "      <th>정류장_이름</th>\n",
       "      <th>이름_방향</th>\n",
       "      <th>구간_이름</th>\n",
       "      <th>구간_걸린시간</th>\n",
       "    </tr>\n",
       "  </thead>\n",
       "  <tbody>\n",
       "    <tr>\n",
       "      <th>0</th>\n",
       "      <td>910</td>\n",
       "      <td>정방향</td>\n",
       "      <td>0</td>\n",
       "      <td>2021-10-12 09:54:04</td>\n",
       "      <td>2021-10-12 09:54:30</td>\n",
       "      <td>양호동빈수골(금오공대입구방면)</td>\n",
       "      <td>910_정방향</td>\n",
       "      <td>양호동빈수골(금오공대입구방면) - 옥계중학교건너</td>\n",
       "      <td>0 days 00:02:33</td>\n",
       "    </tr>\n",
       "    <tr>\n",
       "      <th>1</th>\n",
       "      <td>910</td>\n",
       "      <td>정방향</td>\n",
       "      <td>0</td>\n",
       "      <td>2021-10-12 09:56:37</td>\n",
       "      <td>2021-10-12 09:56:46</td>\n",
       "      <td>옥계중학교건너</td>\n",
       "      <td>910_정방향</td>\n",
       "      <td>옥계중학교건너 - 옥계대우아파트건너</td>\n",
       "      <td>0 days 00:00:28</td>\n",
       "    </tr>\n",
       "    <tr>\n",
       "      <th>2</th>\n",
       "      <td>910</td>\n",
       "      <td>정방향</td>\n",
       "      <td>0</td>\n",
       "      <td>2021-10-12 09:57:05</td>\n",
       "      <td>2021-10-12 09:57:31</td>\n",
       "      <td>옥계대우아파트건너</td>\n",
       "      <td>910_정방향</td>\n",
       "      <td>옥계대우아파트건너 - 4공단입구(옥계방면)</td>\n",
       "      <td>0 days 00:01:50</td>\n",
       "    </tr>\n",
       "    <tr>\n",
       "      <th>3</th>\n",
       "      <td>910</td>\n",
       "      <td>정방향</td>\n",
       "      <td>0</td>\n",
       "      <td>2021-10-12 09:58:55</td>\n",
       "      <td>2021-10-12 09:59:55</td>\n",
       "      <td>4공단입구(옥계방면)</td>\n",
       "      <td>910_정방향</td>\n",
       "      <td>4공단입구(옥계방면) - 옥계부영아파트건너</td>\n",
       "      <td>0 days 00:01:21</td>\n",
       "    </tr>\n",
       "    <tr>\n",
       "      <th>4</th>\n",
       "      <td>910</td>\n",
       "      <td>정방향</td>\n",
       "      <td>0</td>\n",
       "      <td>2021-10-12 10:00:16</td>\n",
       "      <td>2021-10-12 10:00:46</td>\n",
       "      <td>옥계부영아파트건너</td>\n",
       "      <td>910_정방향</td>\n",
       "      <td>옥계부영아파트건너 - 옥계성당</td>\n",
       "      <td>0 days 00:01:44</td>\n",
       "    </tr>\n",
       "  </tbody>\n",
       "</table>\n",
       "</div>"
      ],
      "text/plain": [
       "  버스노선_이름 버스노선_방향  버스노선_경유코드                도착시간                출발시간  \\\n",
       "0     910     정방향          0 2021-10-12 09:54:04 2021-10-12 09:54:30   \n",
       "1     910     정방향          0 2021-10-12 09:56:37 2021-10-12 09:56:46   \n",
       "2     910     정방향          0 2021-10-12 09:57:05 2021-10-12 09:57:31   \n",
       "3     910     정방향          0 2021-10-12 09:58:55 2021-10-12 09:59:55   \n",
       "4     910     정방향          0 2021-10-12 10:00:16 2021-10-12 10:00:46   \n",
       "\n",
       "             정류장_이름    이름_방향                       구간_이름         구간_걸린시간  \n",
       "0  양호동빈수골(금오공대입구방면)  910_정방향  양호동빈수골(금오공대입구방면) - 옥계중학교건너 0 days 00:02:33  \n",
       "1           옥계중학교건너  910_정방향         옥계중학교건너 - 옥계대우아파트건너 0 days 00:00:28  \n",
       "2         옥계대우아파트건너  910_정방향     옥계대우아파트건너 - 4공단입구(옥계방면) 0 days 00:01:50  \n",
       "3       4공단입구(옥계방면)  910_정방향     4공단입구(옥계방면) - 옥계부영아파트건너 0 days 00:01:21  \n",
       "4         옥계부영아파트건너  910_정방향            옥계부영아파트건너 - 옥계성당 0 days 00:01:44  "
      ]
     },
     "execution_count": 126,
     "metadata": {},
     "output_type": "execute_result"
    }
   ],
   "source": [
    "# bus910 확인\n",
    "bus910.head()"
   ]
  },
  {
   "cell_type": "code",
   "execution_count": null,
   "metadata": {},
   "outputs": [
    {
     "name": "stdout",
     "output_type": "stream",
     "text": [
      "float64\n",
      "구간_걸린시간\n",
      "2800.383333     1\n",
      "2276.450000     1\n",
      "1532.166667     1\n",
      "1415.633333     1\n",
      "1394.816667     1\n",
      "               ..\n",
      "1.083333       36\n",
      "1.066667       25\n",
      "1.050000       20\n",
      "1.033333       25\n",
      "1.016667       21\n",
      "Name: count, Length: 392, dtype: int64\n"
     ]
    },
    {
     "data": {
      "text/plain": [
       "<Axes: xlabel='구간_걸린시간', ylabel='Count'>"
      ]
     },
     "execution_count": 138,
     "metadata": {},
     "output_type": "execute_result"
    },
    {
     "data": {
      "image/png": "[encoded data removed]",
      "text/plain": [
       "<Figure size 800x400 with 1 Axes>"
      ]
     },
     "metadata": {},
     "output_type": "display_data"
    }
   ],
   "source": [
    "import seaborn as sns\n",
    "\n",
    "# 한글 폰트 적용\n",
    "import matplotlib.font_manager as fm\n",
    "plt.rcParams['font.family'] ='Malgun Gothic'\n",
    "plt.rcParams['axes.unicode_minus'] =False\n",
    "\n",
    "# 구간_걸린시간 값 확인\n",
    "total_second = bus910.구간_걸린시간.dt.total_seconds() / 60\n",
    "print(total_second.dtype)\n",
    "filtered_s = total_second[(total_second > 1)]\n",
    "print(filtered_s.value_counts().sort_index(ascending=0))\n",
    "print(f\"\")\n",
    "# 사용자 정의 색상 팔레트 (그라데이션 적용)\n",
    "color = \"#F0BD27\"\n",
    "\n",
    "# 시각화\n",
    "plt.figure(figsize=(8, 4))\n",
    "sns.histplot(filtered_s, kde=True, bins=100, color=color)\n"
   ]
  },
  {
   "cell_type": "code",
   "execution_count": null,
   "metadata": {},
   "outputs": [
    {
     "data": {
      "text/html": [
       "<div>\n",
       "<style scoped>\n",
       "    .dataframe tbody tr th:only-of-type {\n",
       "        vertical-align: middle;\n",
       "    }\n",
       "\n",
       "    .dataframe tbody tr th {\n",
       "        vertical-align: top;\n",
       "    }\n",
       "\n",
       "    .dataframe thead th {\n",
       "        text-align: right;\n",
       "    }\n",
       "</style>\n",
       "<table border=\"1\" class=\"dataframe\">\n",
       "  <thead>\n",
       "    <tr style=\"text-align: right;\">\n",
       "      <th></th>\n",
       "      <th>버스노선_이름</th>\n",
       "      <th>버스노선_방향</th>\n",
       "      <th>버스노선_경유코드</th>\n",
       "      <th>도착시간</th>\n",
       "      <th>출발시간</th>\n",
       "      <th>정류장_이름</th>\n",
       "      <th>이름_방향</th>\n",
       "      <th>구간_이름</th>\n",
       "      <th>구간_걸린시간</th>\n",
       "      <th>걸린시간_분</th>\n",
       "    </tr>\n",
       "  </thead>\n",
       "  <tbody>\n",
       "    <tr>\n",
       "      <th>671</th>\n",
       "      <td>910</td>\n",
       "      <td>역방향</td>\n",
       "      <td>0</td>\n",
       "      <td>2021-10-17 08:29:24</td>\n",
       "      <td>2021-10-17 08:29:35</td>\n",
       "      <td>구미역(중앙시장)</td>\n",
       "      <td>910_역방향</td>\n",
       "      <td>구미역(중앙시장) - 구미역</td>\n",
       "      <td>1 days 22:40:23</td>\n",
       "      <td>2800.383333</td>\n",
       "    </tr>\n",
       "    <tr>\n",
       "      <th>3999</th>\n",
       "      <td>910</td>\n",
       "      <td>정방향</td>\n",
       "      <td>0</td>\n",
       "      <td>2021-11-02 20:10:41</td>\n",
       "      <td>2021-11-02 20:10:49</td>\n",
       "      <td>옥계성당</td>\n",
       "      <td>910_정방향</td>\n",
       "      <td>옥계성당 - 골드클래스앞</td>\n",
       "      <td>1 days 13:56:27</td>\n",
       "      <td>2276.450000</td>\n",
       "    </tr>\n",
       "    <tr>\n",
       "      <th>226</th>\n",
       "      <td>910</td>\n",
       "      <td>역방향</td>\n",
       "      <td>0</td>\n",
       "      <td>2021-10-14 08:47:22</td>\n",
       "      <td>2021-10-14 08:47:57</td>\n",
       "      <td>구미역 전(국민은행)</td>\n",
       "      <td>910_역방향</td>\n",
       "      <td>구미역 전(국민은행) - 인덕중흥S클래스앞</td>\n",
       "      <td>1 days 01:32:10</td>\n",
       "      <td>1532.166667</td>\n",
       "    </tr>\n",
       "  </tbody>\n",
       "</table>\n",
       "</div>"
      ],
      "text/plain": [
       "     버스노선_이름 버스노선_방향  버스노선_경유코드                도착시간                출발시간  \\\n",
       "671      910     역방향          0 2021-10-17 08:29:24 2021-10-17 08:29:35   \n",
       "3999     910     정방향          0 2021-11-02 20:10:41 2021-11-02 20:10:49   \n",
       "226      910     역방향          0 2021-10-14 08:47:22 2021-10-14 08:47:57   \n",
       "\n",
       "           정류장_이름    이름_방향                    구간_이름         구간_걸린시간  \\\n",
       "671     구미역(중앙시장)  910_역방향          구미역(중앙시장) - 구미역 1 days 22:40:23   \n",
       "3999         옥계성당  910_정방향            옥계성당 - 골드클래스앞 1 days 13:56:27   \n",
       "226   구미역 전(국민은행)  910_역방향  구미역 전(국민은행) - 인덕중흥S클래스앞 1 days 01:32:10   \n",
       "\n",
       "           걸린시간_분  \n",
       "671   2800.383333  \n",
       "3999  2276.450000  \n",
       "226   1532.166667  "
      ]
     },
     "execution_count": 129,
     "metadata": {},
     "output_type": "execute_result"
    }
   ],
   "source": [
    "# 값 확인\n",
    "bus910['걸린시간_분'] = bus910.구간_걸린시간.dt.total_seconds() / 60\n",
    "bus910[bus910.걸린시간_분 > 5].sort_values('걸린시간_분', ascending=0).head(3)"
   ]
  },
  {
   "cell_type": "code",
   "execution_count": 132,
   "metadata": {},
   "outputs": [
    {
     "data": {
      "text/html": [
       "<div>\n",
       "<style scoped>\n",
       "    .dataframe tbody tr th:only-of-type {\n",
       "        vertical-align: middle;\n",
       "    }\n",
       "\n",
       "    .dataframe tbody tr th {\n",
       "        vertical-align: top;\n",
       "    }\n",
       "\n",
       "    .dataframe thead th {\n",
       "        text-align: right;\n",
       "    }\n",
       "</style>\n",
       "<table border=\"1\" class=\"dataframe\">\n",
       "  <thead>\n",
       "    <tr style=\"text-align: right;\">\n",
       "      <th></th>\n",
       "      <th>버스노선_이름</th>\n",
       "      <th>버스노선_방향</th>\n",
       "      <th>버스노선_경유코드</th>\n",
       "      <th>도착시간</th>\n",
       "      <th>출발시간</th>\n",
       "      <th>정류장_이름</th>\n",
       "      <th>이름_방향</th>\n",
       "      <th>구간_이름</th>\n",
       "      <th>구간_걸린시간</th>\n",
       "      <th>걸린시간_분</th>\n",
       "    </tr>\n",
       "  </thead>\n",
       "  <tbody>\n",
       "    <tr>\n",
       "      <th>3998</th>\n",
       "      <td>910</td>\n",
       "      <td>정방향</td>\n",
       "      <td>0</td>\n",
       "      <td>2021-11-02 20:09:28</td>\n",
       "      <td>2021-11-02 20:09:36</td>\n",
       "      <td>옥계부영아파트건너</td>\n",
       "      <td>910_정방향</td>\n",
       "      <td>옥계부영아파트건너 - 옥계성당</td>\n",
       "      <td>0 days 00:01:13</td>\n",
       "      <td>1.216667</td>\n",
       "    </tr>\n",
       "    <tr>\n",
       "      <th>3999</th>\n",
       "      <td>910</td>\n",
       "      <td>정방향</td>\n",
       "      <td>0</td>\n",
       "      <td>2021-11-02 20:10:41</td>\n",
       "      <td>2021-11-02 20:10:49</td>\n",
       "      <td>옥계성당</td>\n",
       "      <td>910_정방향</td>\n",
       "      <td>옥계성당 - 골드클래스앞</td>\n",
       "      <td>1 days 13:56:27</td>\n",
       "      <td>2276.450000</td>\n",
       "    </tr>\n",
       "    <tr>\n",
       "      <th>4000</th>\n",
       "      <td>910</td>\n",
       "      <td>정방향</td>\n",
       "      <td>0</td>\n",
       "      <td>2021-11-04 10:07:08</td>\n",
       "      <td>2021-11-04 10:07:12</td>\n",
       "      <td>골드클래스앞</td>\n",
       "      <td>910_정방향</td>\n",
       "      <td>골드클래스앞 - 쌍용예가더파크아파트건너</td>\n",
       "      <td>0 days 00:00:20</td>\n",
       "      <td>0.333333</td>\n",
       "    </tr>\n",
       "    <tr>\n",
       "      <th>4001</th>\n",
       "      <td>910</td>\n",
       "      <td>정방향</td>\n",
       "      <td>0</td>\n",
       "      <td>2021-11-04 10:07:28</td>\n",
       "      <td>2021-11-04 10:07:37</td>\n",
       "      <td>쌍용예가더파크아파트건너</td>\n",
       "      <td>910_정방향</td>\n",
       "      <td>쌍용예가더파크아파트건너 - 우미린센트럴파크 후문</td>\n",
       "      <td>0 days 00:00:33</td>\n",
       "      <td>0.550000</td>\n",
       "    </tr>\n",
       "  </tbody>\n",
       "</table>\n",
       "</div>"
      ],
      "text/plain": [
       "     버스노선_이름 버스노선_방향  버스노선_경유코드                도착시간                출발시간  \\\n",
       "3998     910     정방향          0 2021-11-02 20:09:28 2021-11-02 20:09:36   \n",
       "3999     910     정방향          0 2021-11-02 20:10:41 2021-11-02 20:10:49   \n",
       "4000     910     정방향          0 2021-11-04 10:07:08 2021-11-04 10:07:12   \n",
       "4001     910     정방향          0 2021-11-04 10:07:28 2021-11-04 10:07:37   \n",
       "\n",
       "            정류장_이름    이름_방향                       구간_이름         구간_걸린시간  \\\n",
       "3998     옥계부영아파트건너  910_정방향            옥계부영아파트건너 - 옥계성당 0 days 00:01:13   \n",
       "3999          옥계성당  910_정방향               옥계성당 - 골드클래스앞 1 days 13:56:27   \n",
       "4000        골드클래스앞  910_정방향       골드클래스앞 - 쌍용예가더파크아파트건너 0 days 00:00:20   \n",
       "4001  쌍용예가더파크아파트건너  910_정방향  쌍용예가더파크아파트건너 - 우미린센트럴파크 후문 0 days 00:00:33   \n",
       "\n",
       "           걸린시간_분  \n",
       "3998     1.216667  \n",
       "3999  2276.450000  \n",
       "4000     0.333333  \n",
       "4001     0.550000  "
      ]
     },
     "execution_count": 132,
     "metadata": {},
     "output_type": "execute_result"
    }
   ],
   "source": [
    "bus910.iloc[3998:4002]"
   ]
  },
  {
   "cell_type": "code",
   "execution_count": null,
   "metadata": {},
   "outputs": [],
   "source": [
    "# 구간 데이터 불러오기: 구간과 구간_걸린시간 데이터를 합치기\n",
    "bus910_route = pd.read_excel(\"C:/Users/a/OneDrive/바탕 화면/개인/02. 데이터분석_Bootcamp/014. Gumi_Bus/910번 버스 구간별 거리.xlsx\", sheet_name='Sheet1'\n",
    "              , engine= 'openpyxl')"
   ]
  },
  {
   "cell_type": "code",
   "execution_count": 28,
   "metadata": {},
   "outputs": [
    {
     "name": "stdout",
     "output_type": "stream",
     "text": [
      "걸린시간이 없는 구간 리스트:\n",
      " ['오성예식장앞 - 구미IC네거리(구미경찰서방면)' '구미IC네거리(구미경찰서방면) - 구미경찰서건너'\n",
      " '우미린센트럴파크 후문 - 산동농협경제사업소앞' '산동농협경제사업소앞 - 산동보건지소앞' '산동보건지소앞 - 인덕리(확장단지방면)'\n",
      " '인덕리(확장단지방면) - 인덕중흥S클래스앞' '구미경찰서 - 구미IC네거리(구미종합터미널건너방면)'\n",
      " '구미IC네거리(구미종합터미널건너방면) - 구미종합터미널건너']\n",
      "걸린시간 값이 없는 구간의 수:\n",
      " 8\n"
     ]
    }
   ],
   "source": [
    "# 910번 구간과 걸린시간을 매핑\n",
    "bus910_route_time = pd.merge(bus910_route, bus910, on= '구간_이름', how= 'left')\n",
    "\n",
    "# 걸린시간이 na값인 구간의 이름을 출력\n",
    "print(f\"걸린시간이 없는 구간 리스트:\\n {bus910_route_time[bus910_route_time.구간_걸린시간.isna()].구간_이름.values}\")\n",
    "print(f\"걸린시간 값이 없는 구간의 수:\\n {len(bus910_route_time[bus910_route_time.구간_걸린시간.isna()])}\")"
   ]
  },
  {
   "cell_type": "code",
   "execution_count": 29,
   "metadata": {},
   "outputs": [
    {
     "data": {
      "image/png": "[encoded data removed]",
      "text/plain": [
       "<Figure size 640x480 with 1 Axes>"
      ]
     },
     "metadata": {},
     "output_type": "display_data"
    },
    {
     "data": {
      "image/png": "[encoded data removed]",
      "text/plain": [
       "<Figure size 640x480 with 1 Axes>"
      ]
     },
     "metadata": {},
     "output_type": "display_data"
    }
   ],
   "source": [
    "# 구간별 걸린시간의 수 구하기\n",
    "time_count = bus910_route_time.groupby(\"구간_이름\")[\"구간_걸린시간\"].count()\n",
    "plt.bar(range(len(time_count)), time_count.values)\n",
    "plt.show()\n",
    "\n",
    "# 걸린시간이 없는 구간, 있는 구간의 수를 막대 그래프로 그리기\n",
    "plt.bar(['na', 'not-na'], [(time_count == 0).sum(), (time_count != 0).sum()])\n",
    "plt.show()\n"
   ]
  },
  {
   "cell_type": "markdown",
   "metadata": {},
   "source": [
    "### ***버스번호 변경 확인***"
   ]
  },
  {
   "cell_type": "code",
   "execution_count": null,
   "metadata": {},
   "outputs": [
    {
     "data": {
      "text/html": [
       "<div>\n",
       "<style scoped>\n",
       "    .dataframe tbody tr th:only-of-type {\n",
       "        vertical-align: middle;\n",
       "    }\n",
       "\n",
       "    .dataframe tbody tr th {\n",
       "        vertical-align: top;\n",
       "    }\n",
       "\n",
       "    .dataframe thead th {\n",
       "        text-align: right;\n",
       "    }\n",
       "</style>\n",
       "<table border=\"1\" class=\"dataframe\">\n",
       "  <thead>\n",
       "    <tr style=\"text-align: right;\">\n",
       "      <th></th>\n",
       "      <th>버스노선_이름</th>\n",
       "      <th>버스노선_방향</th>\n",
       "      <th>버스노선_경유코드</th>\n",
       "      <th>도착시간</th>\n",
       "      <th>출발시간</th>\n",
       "      <th>정류장_이름</th>\n",
       "    </tr>\n",
       "  </thead>\n",
       "  <tbody>\n",
       "    <tr>\n",
       "      <th>0</th>\n",
       "      <td>140</td>\n",
       "      <td>순환</td>\n",
       "      <td>0</td>\n",
       "      <td>2021-11-10 01:59:15</td>\n",
       "      <td>2021-11-10 01:59:26</td>\n",
       "      <td>푸르지오캐슬B단지</td>\n",
       "    </tr>\n",
       "    <tr>\n",
       "      <th>1</th>\n",
       "      <td>380-1</td>\n",
       "      <td>정방향</td>\n",
       "      <td>0</td>\n",
       "      <td>2021-11-10 03:11:07</td>\n",
       "      <td>2021-11-10 03:11:16</td>\n",
       "      <td>각산네거리</td>\n",
       "    </tr>\n",
       "    <tr>\n",
       "      <th>2</th>\n",
       "      <td>885</td>\n",
       "      <td>정방향</td>\n",
       "      <td>0</td>\n",
       "      <td>2021-11-10 06:06:23</td>\n",
       "      <td>2021-11-10 06:07:03</td>\n",
       "      <td>금오산사거리</td>\n",
       "    </tr>\n",
       "  </tbody>\n",
       "</table>\n",
       "</div>"
      ],
      "text/plain": [
       "  버스노선_이름 버스노선_방향  버스노선_경유코드                도착시간                출발시간  \\\n",
       "0     140      순환          0 2021-11-10 01:59:15 2021-11-10 01:59:26   \n",
       "1   380-1     정방향          0 2021-11-10 03:11:07 2021-11-10 03:11:16   \n",
       "2     885     정방향          0 2021-11-10 06:06:23 2021-11-10 06:07:03   \n",
       "\n",
       "      정류장_이름  \n",
       "0  푸르지오캐슬B단지  \n",
       "1      각산네거리  \n",
       "2     금오산사거리  "
      ]
     },
     "metadata": {},
     "output_type": "display_data"
    }
   ],
   "source": [
    "# 필요한 데이터만 고르기\n",
    "target_columns = ['버스노선_이름', '버스노선_방향', '버스노선_경유코드', '도착시간', '출발시간', '정류장_이름']\n",
    "df = df[target_columns]\n",
    "df.head(3)"
   ]
  },
  {
   "cell_type": "code",
   "execution_count": null,
   "metadata": {},
   "outputs": [
    {
     "data": {
      "text/plain": [
       "305"
      ]
     },
     "metadata": {},
     "output_type": "display_data"
    }
   ],
   "source": [
    "# 버스노선_이름, 버스노선_방향 같으면 같은 버스? \n",
    "# 노선ID (버스 구별자) 만들기\n",
    "\n",
    "len(df.groupby(['버스노선_이름', '버스노선_방향']))"
   ]
  },
  {
   "cell_type": "code",
   "execution_count": 69,
   "metadata": {},
   "outputs": [
    {
     "data": {
      "text/html": [
       "<div>\n",
       "<style scoped>\n",
       "    .dataframe tbody tr th:only-of-type {\n",
       "        vertical-align: middle;\n",
       "    }\n",
       "\n",
       "    .dataframe tbody tr th {\n",
       "        vertical-align: top;\n",
       "    }\n",
       "\n",
       "    .dataframe thead th {\n",
       "        text-align: right;\n",
       "    }\n",
       "</style>\n",
       "<table border=\"1\" class=\"dataframe\">\n",
       "  <thead>\n",
       "    <tr style=\"text-align: right;\">\n",
       "      <th></th>\n",
       "      <th>버스노선_이름</th>\n",
       "      <th>버스노선_방향</th>\n",
       "      <th>버스노선_경유코드</th>\n",
       "      <th>도착시간</th>\n",
       "      <th>출발시간</th>\n",
       "      <th>정류장_이름</th>\n",
       "      <th>이름_방향</th>\n",
       "    </tr>\n",
       "  </thead>\n",
       "  <tbody>\n",
       "    <tr>\n",
       "      <th>0</th>\n",
       "      <td>140</td>\n",
       "      <td>순환</td>\n",
       "      <td>0</td>\n",
       "      <td>2021-11-10 01:59:15</td>\n",
       "      <td>2021-11-10 01:59:26</td>\n",
       "      <td>푸르지오캐슬B단지</td>\n",
       "      <td>140_순환</td>\n",
       "    </tr>\n",
       "    <tr>\n",
       "      <th>1</th>\n",
       "      <td>380-1</td>\n",
       "      <td>정방향</td>\n",
       "      <td>0</td>\n",
       "      <td>2021-11-10 03:11:07</td>\n",
       "      <td>2021-11-10 03:11:16</td>\n",
       "      <td>각산네거리</td>\n",
       "      <td>380-1_정방향</td>\n",
       "    </tr>\n",
       "    <tr>\n",
       "      <th>2</th>\n",
       "      <td>885</td>\n",
       "      <td>정방향</td>\n",
       "      <td>0</td>\n",
       "      <td>2021-11-10 06:06:23</td>\n",
       "      <td>2021-11-10 06:07:03</td>\n",
       "      <td>금오산사거리</td>\n",
       "      <td>885_정방향</td>\n",
       "    </tr>\n",
       "  </tbody>\n",
       "</table>\n",
       "</div>"
      ],
      "text/plain": [
       "  버스노선_이름 버스노선_방향  버스노선_경유코드                도착시간                출발시간  \\\n",
       "0     140      순환          0 2021-11-10 01:59:15 2021-11-10 01:59:26   \n",
       "1   380-1     정방향          0 2021-11-10 03:11:07 2021-11-10 03:11:16   \n",
       "2     885     정방향          0 2021-11-10 06:06:23 2021-11-10 06:07:03   \n",
       "\n",
       "      정류장_이름      이름_방향  \n",
       "0  푸르지오캐슬B단지     140_순환  \n",
       "1      각산네거리  380-1_정방향  \n",
       "2     금오산사거리    885_정방향  "
      ]
     },
     "execution_count": 69,
     "metadata": {},
     "output_type": "execute_result"
    }
   ],
   "source": [
    "df['이름_방향'] = df.버스노선_이름 + '_' + df.버스노선_방향\n",
    "df.head(3)"
   ]
  },
  {
   "cell_type": "code",
   "execution_count": null,
   "metadata": {},
   "outputs": [
    {
     "data": {
      "text/plain": [
       "305"
      ]
     },
     "metadata": {},
     "output_type": "display_data"
    }
   ],
   "source": [
    "# 고유한 노선 수: 305개\n",
    "df.이름_방향.nunique()"
   ]
  },
  {
   "cell_type": "code",
   "execution_count": null,
   "metadata": {},
   "outputs": [
    {
     "data": {
      "text/plain": [
       "array(['140_순환', '380-1_정방향', '885_정방향', ..., '554_정방향', '554_정방향',\n",
       "       '554_정방향'], dtype=object)"
      ]
     },
     "metadata": {},
     "output_type": "display_data"
    }
   ],
   "source": [
    "# 노선ID로 바꿀 버스번호_방향들\n",
    "df.이름_방향.values"
   ]
  },
  {
   "cell_type": "code",
   "execution_count": null,
   "metadata": {},
   "outputs": [
    {
     "data": {
      "text/plain": [
       "array(['140', '380-1', '885', '95-1', '172', '12', '890', '92', '74',\n",
       "       '55', '740', '195', '181', '11', '340', '180', '140-2', '190-3',\n",
       "       '411-6', '171-4', '24', '26-2', '360', '410-7', '340-4', '185',\n",
       "       '881', '110', '5000', '10', '171', '140-3', '187-1', '380', '90',\n",
       "       '73-3', '187', '29', '891', '175', '74-2', '340-5', '410-3', '57',\n",
       "       '162-1', '72-3', '192', '340-3', '53', '140-6', '20', '910-1',\n",
       "       '885-1', '11-1', '93', '120', '411-4', '170', '140-1', '182-2',\n",
       "       '94', '51', '193', '884-2', '411-5', '196', '21', '884', '78',\n",
       "       '111', '553', '161', '52', '555-1', '404', '24-1', '260', '174-1',\n",
       "       '72-6', '160', '20-1', '22', '185-2', '78-3', '730', '97', '27',\n",
       "       '26', '184', '11-5', '360-2', '28-1', '80', '71', '83', '11-3',\n",
       "       '5200', '182-1', '883', '70-3', '460', '162', '360-3', '380-2',\n",
       "       '70-2', '188', '380-3', '340-1', '11-4', '910', '91', '95-2',\n",
       "       '361', '183', '26-1', '303', '20-3', '60', '360-1', '170-2', '410',\n",
       "       '404-1', '303-1', '411-1', '171-3', '78-2', '410-6', '101-1',\n",
       "       '5100', '190-2', '881-1', '90-2', '891-2', '186', '95', '666',\n",
       "       '101', '70', '85', '74-3', '340-7', '340-2', '70-4', '84', '411-3',\n",
       "       '140-7', '72-1', '53-1', '74-1', '10-2', '80-1', '883-1', '191',\n",
       "       '410-2', '73-2', '73', '171-1', '900', '10-1', '190', '92-2',\n",
       "       '411-2', '891-1', '182', '777', '52-1', '23', '174', '710', '71-1',\n",
       "       '92-1', '884-1', '411', '11-6', '882', '557', '1-1', '72-2', '173',\n",
       "       '70-1', '74-4', '51-1', '194', '25', '96', '72-7', '554', '28',\n",
       "       '174-2', '20-2', '461', '410-1', '60-1', '72', '72-5', '410-5',\n",
       "       '410-4', '72-4', '86', '171-2', '78-1', '73-1', '11-2', '78-4',\n",
       "       '193-2', '190-1', '411-7'], dtype=object)"
      ]
     },
     "metadata": {},
     "output_type": "display_data"
    }
   ],
   "source": [
    "# 현재 없는 버스번호?\n",
    "# 버스번호 고유값 확인\n",
    "df.버스노선_이름.unique()"
   ]
  },
  {
   "cell_type": "code",
   "execution_count": null,
   "metadata": {},
   "outputs": [
    {
     "data": {
      "text/html": [
       "<div>\n",
       "<style scoped>\n",
       "    .dataframe tbody tr th:only-of-type {\n",
       "        vertical-align: middle;\n",
       "    }\n",
       "\n",
       "    .dataframe tbody tr th {\n",
       "        vertical-align: top;\n",
       "    }\n",
       "\n",
       "    .dataframe thead th {\n",
       "        text-align: right;\n",
       "    }\n",
       "</style>\n",
       "<table border=\"1\" class=\"dataframe\">\n",
       "  <thead>\n",
       "    <tr style=\"text-align: right;\">\n",
       "      <th></th>\n",
       "      <th>종점</th>\n",
       "      <th>막차시간</th>\n",
       "      <th>노선ID</th>\n",
       "      <th>노선번호</th>\n",
       "      <th>노선유형</th>\n",
       "      <th>기점</th>\n",
       "      <th>첫차시간</th>\n",
       "    </tr>\n",
       "  </thead>\n",
       "  <tbody>\n",
       "    <tr>\n",
       "      <th>0</th>\n",
       "      <td>구미역(중앙시장)</td>\n",
       "      <td>2146</td>\n",
       "      <td>GMB19120</td>\n",
       "      <td>191</td>\n",
       "      <td>일반버스</td>\n",
       "      <td>옥계이편한세상APT앞</td>\n",
       "      <td>908</td>\n",
       "    </tr>\n",
       "    <tr>\n",
       "      <th>1</th>\n",
       "      <td>해평버스정류장</td>\n",
       "      <td>2150</td>\n",
       "      <td>GMB19210</td>\n",
       "      <td>192</td>\n",
       "      <td>좌석버스</td>\n",
       "      <td>구미역</td>\n",
       "      <td>835</td>\n",
       "    </tr>\n",
       "    <tr>\n",
       "      <th>2</th>\n",
       "      <td>구미역(중앙시장)</td>\n",
       "      <td>2253</td>\n",
       "      <td>GMB19220</td>\n",
       "      <td>192</td>\n",
       "      <td>좌석버스</td>\n",
       "      <td>해평버스정류장</td>\n",
       "      <td>625</td>\n",
       "    </tr>\n",
       "    <tr>\n",
       "      <th>3</th>\n",
       "      <td>장천버스터미널 종점</td>\n",
       "      <td>1853</td>\n",
       "      <td>GMB193-210</td>\n",
       "      <td>193-2</td>\n",
       "      <td>일반버스</td>\n",
       "      <td>구미역</td>\n",
       "      <td>1853</td>\n",
       "    </tr>\n",
       "    <tr>\n",
       "      <th>4</th>\n",
       "      <td>구미역(중앙시장)</td>\n",
       "      <td>2000</td>\n",
       "      <td>GMB193-220</td>\n",
       "      <td>193-2</td>\n",
       "      <td>일반버스</td>\n",
       "      <td>장천버스터미널 종점</td>\n",
       "      <td>2000</td>\n",
       "    </tr>\n",
       "    <tr>\n",
       "      <th>...</th>\n",
       "      <td>...</td>\n",
       "      <td>...</td>\n",
       "      <td>...</td>\n",
       "      <td>...</td>\n",
       "      <td>...</td>\n",
       "      <td>...</td>\n",
       "      <td>...</td>\n",
       "    </tr>\n",
       "    <tr>\n",
       "      <th>335</th>\n",
       "      <td>사곡역</td>\n",
       "      <td>2148</td>\n",
       "      <td>GMB96020</td>\n",
       "      <td>960</td>\n",
       "      <td>좌석버스</td>\n",
       "      <td>경운대학교(구미운전면허센터)</td>\n",
       "      <td>728</td>\n",
       "    </tr>\n",
       "    <tr>\n",
       "      <th>336</th>\n",
       "      <td>산동농공단지입구</td>\n",
       "      <td>1050</td>\n",
       "      <td>GMB9631</td>\n",
       "      <td>96</td>\n",
       "      <td>좌석버스</td>\n",
       "      <td>산동농공단지입구</td>\n",
       "      <td>1050</td>\n",
       "    </tr>\n",
       "    <tr>\n",
       "      <th>337</th>\n",
       "      <td>산동농공단지입구</td>\n",
       "      <td>1750</td>\n",
       "      <td>GMB9632</td>\n",
       "      <td>96</td>\n",
       "      <td>좌석버스</td>\n",
       "      <td>산동농공단지입구</td>\n",
       "      <td>1750</td>\n",
       "    </tr>\n",
       "    <tr>\n",
       "      <th>338</th>\n",
       "      <td>장천버스터미널 종점</td>\n",
       "      <td>1600</td>\n",
       "      <td>GMB9710</td>\n",
       "      <td>97</td>\n",
       "      <td>일반버스</td>\n",
       "      <td>금오공대입구(옥계중학교방면)</td>\n",
       "      <td>645</td>\n",
       "    </tr>\n",
       "    <tr>\n",
       "      <th>339</th>\n",
       "      <td>금오공대종점</td>\n",
       "      <td>1630</td>\n",
       "      <td>GMB9720</td>\n",
       "      <td>97</td>\n",
       "      <td>일반버스</td>\n",
       "      <td>장천버스터미널 종점</td>\n",
       "      <td>718</td>\n",
       "    </tr>\n",
       "  </tbody>\n",
       "</table>\n",
       "<p>340 rows × 7 columns</p>\n",
       "</div>"
      ],
      "text/plain": [
       "             종점  막차시간        노선ID   노선번호  노선유형               기점  첫차시간\n",
       "0     구미역(중앙시장)  2146    GMB19120    191  일반버스      옥계이편한세상APT앞   908\n",
       "1       해평버스정류장  2150    GMB19210    192  좌석버스              구미역   835\n",
       "2     구미역(중앙시장)  2253    GMB19220    192  좌석버스          해평버스정류장   625\n",
       "3    장천버스터미널 종점  1853  GMB193-210  193-2  일반버스              구미역  1853\n",
       "4     구미역(중앙시장)  2000  GMB193-220  193-2  일반버스       장천버스터미널 종점  2000\n",
       "..          ...   ...         ...    ...   ...              ...   ...\n",
       "335         사곡역  2148    GMB96020    960  좌석버스  경운대학교(구미운전면허센터)   728\n",
       "336    산동농공단지입구  1050     GMB9631     96  좌석버스         산동농공단지입구  1050\n",
       "337    산동농공단지입구  1750     GMB9632     96  좌석버스         산동농공단지입구  1750\n",
       "338  장천버스터미널 종점  1600     GMB9710     97  일반버스  금오공대입구(옥계중학교방면)   645\n",
       "339      금오공대종점  1630     GMB9720     97  일반버스       장천버스터미널 종점   718\n",
       "\n",
       "[340 rows x 7 columns]"
      ]
     },
     "metadata": {},
     "output_type": "display_data"
    }
   ],
   "source": [
    "# 현재 구미시 버스번호 고유값 조회\n",
    "route_list = pd.read_csv('노선번호.csv')\n",
    "route_list"
   ]
  },
  {
   "cell_type": "code",
   "execution_count": null,
   "metadata": {},
   "outputs": [
    {
     "name": "stdout",
     "output_type": "stream",
     "text": [
      "207\n",
      "10\n"
     ]
    }
   ],
   "source": [
    "# 버스번호 업데이트 확인: 10개의 버스번호가 변경됨\n",
    "\n",
    "past_bus = set(df.버스노선_이름.unique())\n",
    "print(len(past_bus))\n",
    "now_bus = set(route_list.노선번호.unique())\n",
    "changed_bus = past_bus - now_bus\n",
    "print(len(changed_bus))"
   ]
  },
  {
   "cell_type": "markdown",
   "metadata": {},
   "source": [
    "### ***다른 노선도 910번처럼 노선과 걸린시간 구하기***"
   ]
  },
  {
   "cell_type": "code",
   "execution_count": 70,
   "metadata": {},
   "outputs": [
    {
     "data": {
      "text/html": [
       "<div>\n",
       "<style scoped>\n",
       "    .dataframe tbody tr th:only-of-type {\n",
       "        vertical-align: middle;\n",
       "    }\n",
       "\n",
       "    .dataframe tbody tr th {\n",
       "        vertical-align: top;\n",
       "    }\n",
       "\n",
       "    .dataframe thead th {\n",
       "        text-align: right;\n",
       "    }\n",
       "</style>\n",
       "<table border=\"1\" class=\"dataframe\">\n",
       "  <thead>\n",
       "    <tr style=\"text-align: right;\">\n",
       "      <th></th>\n",
       "      <th>버스노선_이름</th>\n",
       "      <th>버스노선_방향</th>\n",
       "      <th>버스노선_경유코드</th>\n",
       "      <th>도착시간</th>\n",
       "      <th>출발시간</th>\n",
       "      <th>정류장_이름</th>\n",
       "      <th>이름_방향</th>\n",
       "    </tr>\n",
       "  </thead>\n",
       "  <tbody>\n",
       "    <tr>\n",
       "      <th>0</th>\n",
       "      <td>140</td>\n",
       "      <td>순환</td>\n",
       "      <td>0</td>\n",
       "      <td>2021-11-10 01:59:15</td>\n",
       "      <td>2021-11-10 01:59:26</td>\n",
       "      <td>푸르지오캐슬B단지</td>\n",
       "      <td>140_순환</td>\n",
       "    </tr>\n",
       "    <tr>\n",
       "      <th>1</th>\n",
       "      <td>380-1</td>\n",
       "      <td>정방향</td>\n",
       "      <td>0</td>\n",
       "      <td>2021-11-10 03:11:07</td>\n",
       "      <td>2021-11-10 03:11:16</td>\n",
       "      <td>각산네거리</td>\n",
       "      <td>380-1_정방향</td>\n",
       "    </tr>\n",
       "    <tr>\n",
       "      <th>2</th>\n",
       "      <td>885</td>\n",
       "      <td>정방향</td>\n",
       "      <td>0</td>\n",
       "      <td>2021-11-10 06:06:23</td>\n",
       "      <td>2021-11-10 06:07:03</td>\n",
       "      <td>금오산사거리</td>\n",
       "      <td>885_정방향</td>\n",
       "    </tr>\n",
       "  </tbody>\n",
       "</table>\n",
       "</div>"
      ],
      "text/plain": [
       "  버스노선_이름 버스노선_방향  버스노선_경유코드                도착시간                출발시간  \\\n",
       "0     140      순환          0 2021-11-10 01:59:15 2021-11-10 01:59:26   \n",
       "1   380-1     정방향          0 2021-11-10 03:11:07 2021-11-10 03:11:16   \n",
       "2     885     정방향          0 2021-11-10 06:06:23 2021-11-10 06:07:03   \n",
       "\n",
       "      정류장_이름      이름_방향  \n",
       "0  푸르지오캐슬B단지     140_순환  \n",
       "1      각산네거리  380-1_정방향  \n",
       "2     금오산사거리    885_정방향  "
      ]
     },
     "execution_count": 70,
     "metadata": {},
     "output_type": "execute_result"
    }
   ],
   "source": [
    "df.head(3)"
   ]
  },
  {
   "cell_type": "code",
   "execution_count": null,
   "metadata": {},
   "outputs": [
    {
     "data": {
      "text/plain": [
       "array(['140_순환', '380-1_정방향', '885_정방향', '95-1_정방향', '172_역방향', '12_정방향',\n",
       "       '890_정방향', '92_정방향', '74_정방향', '55_정방향', '740_정방향', '195_정방향',\n",
       "       '181_정방향', '11_정방향', '340_순환', '180_정방향', '140-2_순환', '190-3_정방향',\n",
       "       '411-6_순환', '171-4_정방향', '24_정방향', '26-2_순환', '360_정방향',\n",
       "       '410-7_정방향', '340-4_순환', '185_정방향', '881_정방향', '110_정방향',\n",
       "       '5000_역방향', '10_역방향', '171_정방향', '140-3_순환', '187-1_순환', '380_정방향',\n",
       "       '90_정방향', '5000_정방향', '73-3_정방향', '187_순환', '29_정방향', '891_정방향',\n",
       "       '11_역방향', '175_정방향', '74-2_정방향', '340-5_정방향', '410-3_순환', '57_정방향',\n",
       "       '162-1_정방향', '72-3_순환', '192_역방향', '340-3_순환', '53_역방향',\n",
       "       '140-6_순환', '20_순환', '910-1_정방향', '885-1_정방향', '11-1_순환', '93_정방향',\n",
       "       '10_정방향', '120_정방향', '411-4_순환', '170_정방향', '90_역방향', '74_역방향',\n",
       "       '140-1_순환', '182-2_정방향', '94_정방향', '51_순환', '193_정방향', '884-2_정방향',\n",
       "       '411-5_순환', '196_정방향', '21_순환', '884_역방향', '78_순환', '111_역방향',\n",
       "       '553_역방향', '161_정방향', '52_정방향', '555-1_정방향', '404_순환', '29_역방향',\n",
       "       '52_역방향', '24-1_정방향', '111_정방향', '260_정방향', '174-1_역방향', '72-6_순환',\n",
       "       '160_정방향', '20-1_순환', '22_순환', '185-2_역방향', '78-3_정방향', '730_순환',\n",
       "       '171_역방향', '97_정방향', '24_순환', '27_정방향', '26_정방향', '184_정방향',\n",
       "       '11-5_순환', '12_역방향', '175_역방향', '360-2_역방향', '170_역방향', '181_역방향',\n",
       "       '28-1_정방향', '80_정방향', '93_역방향', '71_순환', '83_순환', '11-3_순환',\n",
       "       '5200_정방향', '182-1_정방향', '180_역방향', '883_정방향', '70-3_순환', '460_순환',\n",
       "       '94_역방향', '162_역방향', '360-3_역방향', '92_역방향', '260_역방향', '380-2_정방향',\n",
       "       '70-2_순환', '891_역방향', '188_순환', '380-3_역방향', '340-1_순환', '11-4_순환',\n",
       "       '910_정방향', '91_정방향', '95-2_정방향', '361_정방향', '55_역방향', '881_역방향',\n",
       "       '183_정방향', '26-1_역방향', '910-1_역방향', '380-1_역방향', '303_순환',\n",
       "       '120_역방향', '20-3_순환', '60_순환', '360-1_역방향', '890_역방향', '885_역방향',\n",
       "       '170-2_정방향', '95-1_역방향', '97_역방향', '27_역방향', '410_순환', '404-1_순환',\n",
       "       '73-3_역방향', '303-1_순환', '160_역방향', '411-1_순환', '171-3_정방향',\n",
       "       '80_역방향', '78-2_역방향', '185_역방향', '360_역방향', '196_역방향', '410-6_순환',\n",
       "       '101-1_정방향', '5100_정방향', '190-2_정방향', '881-1_정방향', '193_역방향',\n",
       "       '57_역방향', '110_역방향', '90-2_순환', '891-2_역방향', '186_정방향', '95_역방향',\n",
       "       '666_정방향', '195_역방향', '101_순환', '70_순환', '555-1_역방향', '380_역방향',\n",
       "       '85_순환', '74-3_역방향', '161_역방향', '340-7_정방향', '340-2_순환',\n",
       "       '26-1_정방향', '70-4_순환', '361_역방향', '84_순환', '411-3_순환', '140-7_순환',\n",
       "       '360-2_정방향', '910_역방향', '72-1_순환', '53-1_정방향', '91_역방향', '883_역방향',\n",
       "       '74-1_정방향', '184_역방향', '10-2_순환', '80-1_순환', '185-2_정방향',\n",
       "       '883-1_정방향', '191_정방향', '410-2_순환', '5200_역방향', '73-2_순환',\n",
       "       '78_역방향', '170-2_역방향', '73_순환', '171-1_역방향', '26_역방향', '192_정방향',\n",
       "       '53_정방향', '186_역방향', '900_정방향', '10-1_순환', '360-1_정방향', '190_역방향',\n",
       "       '92-2_정방향', '411-2_순환', '891-1_정방향', '182_역방향', '171-3_역방향',\n",
       "       '74-1_역방향', '190_정방향', '5100_역방향', '777_정방향', '553_정방향',\n",
       "       '52-1_정방향', '23_순환', '174_역방향', '710_순환', '92-2_역방향', '191_역방향',\n",
       "       '71-1_순환', '92-1_역방향', '884-1_역방향', '884_정방향', '411_순환', '900_역방향',\n",
       "       '11-6_순환', '183_역방향', '891-1_역방향', '882_정방향', '557_정방향', '882_역방향',\n",
       "       '410_정방향', '1-1_정방향', '557_역방향', '71-1_역방향', '72-2_순환', '162_정방향',\n",
       "       '52-1_역방향', '173_정방향', '190-3_역방향', '174_정방향', '70-1_순환',\n",
       "       '74-4_순환', '95_정방향', '51-1_역방향', '194_정방향', '101-1_역방향', '25_역방향',\n",
       "       '96_순환', '182-2_역방향', '883-1_역방향', '194_역방향', '72-7_순환', '554_역방향',\n",
       "       '53-1_역방향', '173_역방향', '182_정방향', '554_정방향', '28_순환', '174-2_정방향',\n",
       "       '884-1_정방향', '20-2_순환', '461_순환', '172_정방향', '51-1_정방향',\n",
       "       '410-1_순환', '60-1_순환', '72_순환', '92-1_정방향', '72-5_순환', '410-5_순환',\n",
       "       '410-4_순환', '72-4_순환', '86_순환', '171-2_역방향', '171-2_정방향',\n",
       "       '78-1_정방향', '73-1_순환', '740_역방향', '11-2_순환', '78-4_역방향',\n",
       "       '193-2_정방향', '190-1_정방향', '193-2_역방향', '411-7_순환', '380-2_역방향',\n",
       "       '340_정방향', '340-7_순환', '95-2_역방향'], dtype=object)"
      ]
     },
     "execution_count": 73,
     "metadata": {},
     "output_type": "execute_result"
    }
   ],
   "source": [
    "# 이름_방향으로 데이터프레임 구분\n",
    "# 도착시간별로도 끊어야 할 듯? 시간 차이가 10분 이상 지나는 것은 이상치 -> 도착시간과 도착시간 차이가 10분 이하인 행들만 하나의 데이터 프레임으로 만들기\n",
    "res=[]\n",
    "for route in unique_route:\n",
    "   route_log = df[df.이름_방향 == route].sort_values('도착시간')\n",
    "   route_log['구간_이름'] = route_log.정류장_이름 + \" - \" + route_log.정류장_이름.shift(-1)\n",
    "   route_log['구간_걸린시간'] = route_log.도착시간.shift(-1) - route_log.도착시간\n",
    "   res.route_log\n"
   ]
  },
  {
   "cell_type": "code",
   "execution_count": null,
   "metadata": {},
   "outputs": [],
   "source": [
    "# 910번 버스의 구간_이름과 구간_걸린시간 구하기\n",
    "bus910 = df[(df.버스노선_이름 == '910')].sort_values(by='도착시간').reset_index(drop=True)\n",
    "bus910['구간_이름'] = bus910.정류장_이름 + \" - \" + bus910.정류장_이름.shift(-1)\n",
    "bus910['구간_걸린시간'] = bus910.도착시간.shift(-1) - bus910.도착시간"
   ]
  }
 ],
 "metadata": {
  "kernelspec": {
   "display_name": "Python 3",
   "language": "python",
   "name": "python3"
  },
  "language_info": {
   "codemirror_mode": {
    "name": "ipython",
    "version": 3
   },
   "file_extension": ".py",
   "mimetype": "text/x-python",
   "name": "python",
   "nbconvert_exporter": "python",
   "pygments_lexer": "ipython3",
   "version": "3.9.10"
  }
 },
 "nbformat": 4,
 "nbformat_minor": 2
}
