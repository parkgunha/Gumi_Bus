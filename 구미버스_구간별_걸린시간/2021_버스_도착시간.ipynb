{
 "cells": [
  {
   "cell_type": "markdown",
   "metadata": {},
   "source": [
    "### ***도착시간 로그 데이터 하나로 합치기***"
   ]
  },
  {
   "cell_type": "code",
   "execution_count": 1,
   "metadata": {},
   "outputs": [],
   "source": [
    "from glob import glob\n",
    "\n",
    "from tqdm import tqdm\n",
    "import pandas as pd\n",
    "import matplotlib.pyplot as plt"
   ]
  },
  {
   "cell_type": "code",
   "execution_count": 2,
   "metadata": {},
   "outputs": [
    {
     "data": {
      "text/plain": [
       "[]"
      ]
     },
     "execution_count": 2,
     "metadata": {},
     "output_type": "execute_result"
    }
   ],
   "source": [
    "glob(\"../구미버스_이벤트_로그/gm_busevent*/gm_busevent.csv\")"
   ]
  },
  {
   "cell_type": "code",
   "execution_count": 3,
   "metadata": {},
   "outputs": [],
   "source": [
    "res = []\n",
    "for path in glob(\"구미버스_이벤트_로그/gm_busevent*/gm_busevent.csv\"):\n",
    "   df = pd.read_csv(path)\n",
    "   res.append(df)"
   ]
  },
  {
   "cell_type": "code",
   "execution_count": 4,
   "metadata": {},
   "outputs": [
    {
     "name": "stdout",
     "output_type": "stream",
     "text": [
      "[      BRT_ID BRT_DIRECTION  BRT_CLASS   BRN_IN_OCCURYMDHMS  \\\n",
      "0        140            순환          0  2021-11-10 01:59:15   \n",
      "1      380-1           정방향          0  2021-11-10 03:11:07   \n",
      "2        885           정방향          0  2021-11-10 06:06:23   \n",
      "3       95-1           정방향          1  2021-11-10 06:06:25   \n",
      "4        172           역방향          0  2021-11-10 06:06:36   \n",
      "...      ...           ...        ...                  ...   \n",
      "17869     26           정방향          0  2021-11-10 09:44:48   \n",
      "17870  380-1           정방향          0  2021-11-10 11:43:30   \n",
      "17871    181           정방향          0  2021-11-10 17:38:30   \n",
      "17872  380-1           정방향          0  2021-11-10 17:52:18   \n",
      "17873    140            순환          0  2021-11-10 19:06:21   \n",
      "\n",
      "       BRN_OUT_OCCURYMDHMS      BNODE_KNAME     BNODE_X    BNODE_Y  \n",
      "0      2021-11-10 01:59:26        푸르지오캐슬B단지  128.336100  36.124709  \n",
      "1      2021-11-10 03:11:16            각산네거리  128.434978  36.154153  \n",
      "2      2021-11-10 06:07:03           금오산사거리  128.335880  36.126888  \n",
      "3      2021-11-10 06:07:07           금오산사거리  128.335880  36.126888  \n",
      "4      2021-11-10 06:06:44  원평2동산업도로(도량교방면)  128.327839  36.133168  \n",
      "...                    ...              ...         ...        ...  \n",
      "17869  2021-11-10 09:44:56      송림네거리(송림방면)  128.355047  36.163268  \n",
      "17870  2021-11-10 11:43:57        푸르지오캐슬B단지  128.336100  36.124709  \n",
      "17871  2021-11-10 17:38:43            형곡네거리  128.338763  36.116790  \n",
      "17872  2021-11-10 17:52:27       가톨릭근로자문화센타  128.337849  36.123273  \n",
      "17873  2021-11-10 19:06:28        송정동번개시장건너  128.340566  36.121261  \n",
      "\n",
      "[17874 rows x 8 columns],       BRT_ID BRT_DIRECTION  BRT_CLASS   BRN_IN_OCCURYMDHMS  \\\n",
      "0        553           역방향          0  2021-11-06 05:47:42   \n",
      "1        553           역방향          0  2021-11-06 05:48:37   \n",
      "2        553           역방향          0  2021-11-06 05:49:23   \n",
      "3        553           역방향          0  2021-11-06 05:49:39   \n",
      "4        553           역방향          0  2021-11-06 05:50:20   \n",
      "...      ...           ...        ...                  ...   \n",
      "43660     29           역방향          0  2021-11-06 16:07:32   \n",
      "43661    380           정방향          0  2021-11-06 16:07:34   \n",
      "43662    182           역방향          0  2021-11-06 16:07:37   \n",
      "43663    404            순환          1  2021-11-06 16:07:37   \n",
      "43664    101            순환          0  2021-11-06 16:07:44   \n",
      "\n",
      "       BRN_OUT_OCCURYMDHMS          BNODE_KNAME     BNODE_X    BNODE_Y  \n",
      "0      2021-11-06 05:47:55         원평2동행정복지센터건너  128.325838  36.131291  \n",
      "1      2021-11-06 05:48:44  도량2동입구(선기동교복단지건너방면)  128.321785  36.133866  \n",
      "2      2021-11-06 05:49:29            선기동교복단지건너  128.312433  36.137098  \n",
      "3      2021-11-06 05:49:46       봉곡동입구(진주울입구방면)  128.309390  36.138558  \n",
      "4      2021-11-06 05:50:25         진주울입구(장흥리방면)  128.301680  36.141319  \n",
      "...                    ...                  ...         ...        ...  \n",
      "43660  2021-11-06 16:07:46           지산동행정복지센터앞  128.345987  36.138624  \n",
      "43661  2021-11-06 16:07:54               삼성전자후문  128.418282  36.107202  \n",
      "43662  2021-11-06 16:07:43                봉죽사건너  128.357513  36.105519  \n",
      "43663  2021-11-06 16:07:42              육일씨엔에스앞  128.431013  36.148626  \n",
      "43664  2021-11-06 16:07:54             LG이노텍공장앞  128.378331  36.115442  \n",
      "\n",
      "[43665 rows x 8 columns]]\n"
     ]
    }
   ],
   "source": [
    "print(res[:2])"
   ]
  },
  {
   "cell_type": "code",
   "execution_count": 5,
   "metadata": {},
   "outputs": [],
   "source": [
    "df = pd.concat(res,ignore_index=True)"
   ]
  },
  {
   "cell_type": "code",
   "execution_count": 6,
   "metadata": {},
   "outputs": [
    {
     "data": {
      "text/plain": [
       "(1225348, 8)"
      ]
     },
     "execution_count": 6,
     "metadata": {},
     "output_type": "execute_result"
    }
   ],
   "source": [
    "df.shape"
   ]
  },
  {
   "cell_type": "code",
   "execution_count": 7,
   "metadata": {},
   "outputs": [
    {
     "name": "stdout",
     "output_type": "stream",
     "text": [
      "<class 'pandas.core.frame.DataFrame'>\n",
      "RangeIndex: 1225348 entries, 0 to 1225347\n",
      "Data columns (total 8 columns):\n",
      " #   Column               Non-Null Count    Dtype  \n",
      "---  ------               --------------    -----  \n",
      " 0   BRT_ID               1225348 non-null  object \n",
      " 1   BRT_DIRECTION        1225348 non-null  object \n",
      " 2   BRT_CLASS            1225348 non-null  int64  \n",
      " 3   BRN_IN_OCCURYMDHMS   1225348 non-null  object \n",
      " 4   BRN_OUT_OCCURYMDHMS  1225348 non-null  object \n",
      " 5   BNODE_KNAME          1213843 non-null  object \n",
      " 6   BNODE_X              1225348 non-null  float64\n",
      " 7   BNODE_Y              1225348 non-null  float64\n",
      "dtypes: float64(2), int64(1), object(5)\n",
      "memory usage: 74.8+ MB\n"
     ]
    }
   ],
   "source": [
    "df.info()"
   ]
  },
  {
   "cell_type": "code",
   "execution_count": 8,
   "metadata": {},
   "outputs": [
    {
     "data": {
      "text/plain": [
       "BRT_ID                     0\n",
       "BRT_DIRECTION              0\n",
       "BRT_CLASS                  0\n",
       "BRN_IN_OCCURYMDHMS         0\n",
       "BRN_OUT_OCCURYMDHMS        0\n",
       "BNODE_KNAME            11505\n",
       "BNODE_X                    0\n",
       "BNODE_Y                    0\n",
       "dtype: int64"
      ]
     },
     "execution_count": 8,
     "metadata": {},
     "output_type": "execute_result"
    }
   ],
   "source": [
    "df.isna().sum()"
   ]
  },
  {
   "cell_type": "code",
   "execution_count": 9,
   "metadata": {},
   "outputs": [
    {
     "data": {
      "text/plain": [
       "'2021-11-10 19:06:21'"
      ]
     },
     "metadata": {},
     "output_type": "display_data"
    },
    {
     "data": {
      "text/plain": [
       "'2021-10-02 05:35:47'"
      ]
     },
     "metadata": {},
     "output_type": "display_data"
    }
   ],
   "source": [
    "# min max로 조회한 기간(10월 2일 - 11월 10일) 데이터가 들어왔는지 확인\n",
    "display(\n",
    "   df.BRN_IN_OCCURYMDHMS.max(),\n",
    "   df.BRN_IN_OCCURYMDHMS.min())"
   ]
  },
  {
   "cell_type": "code",
   "execution_count": 10,
   "metadata": {},
   "outputs": [],
   "source": [
    "# column name change to korean\n",
    "df = df.rename(columns={\"BRT_ID\": \"버스노선_이름\", \"BRT_DIRECTION\": \"버스노선_방향\", \"BRT_CLASS\": \"버스노선_경유코드\"\n",
    "                   , \"BRN_IN_OCCURYMDHMS\": \"도착시간\", \"BRN_OUT_OCCURYMDHMS\": \"출발시간\", \"BNODE_KNAME\": \"정류장_이름\"\n",
    "                   , \"BNODE_X\": \"경도\", \"BNODE_Y\": \"위도\"}) "
   ]
  },
  {
   "cell_type": "code",
   "execution_count": 11,
   "metadata": {},
   "outputs": [
    {
     "data": {
      "text/html": [
       "<div>\n",
       "<style scoped>\n",
       "    .dataframe tbody tr th:only-of-type {\n",
       "        vertical-align: middle;\n",
       "    }\n",
       "\n",
       "    .dataframe tbody tr th {\n",
       "        vertical-align: top;\n",
       "    }\n",
       "\n",
       "    .dataframe thead th {\n",
       "        text-align: right;\n",
       "    }\n",
       "</style>\n",
       "<table border=\"1\" class=\"dataframe\">\n",
       "  <thead>\n",
       "    <tr style=\"text-align: right;\">\n",
       "      <th></th>\n",
       "      <th>버스노선_이름</th>\n",
       "      <th>버스노선_방향</th>\n",
       "      <th>버스노선_경유코드</th>\n",
       "      <th>도착시간</th>\n",
       "      <th>출발시간</th>\n",
       "      <th>정류장_이름</th>\n",
       "      <th>경도</th>\n",
       "      <th>위도</th>\n",
       "    </tr>\n",
       "  </thead>\n",
       "  <tbody>\n",
       "    <tr>\n",
       "      <th>0</th>\n",
       "      <td>140</td>\n",
       "      <td>순환</td>\n",
       "      <td>0</td>\n",
       "      <td>2021-11-10 01:59:15</td>\n",
       "      <td>2021-11-10 01:59:26</td>\n",
       "      <td>푸르지오캐슬B단지</td>\n",
       "      <td>128.336100</td>\n",
       "      <td>36.124709</td>\n",
       "    </tr>\n",
       "    <tr>\n",
       "      <th>1</th>\n",
       "      <td>380-1</td>\n",
       "      <td>정방향</td>\n",
       "      <td>0</td>\n",
       "      <td>2021-11-10 03:11:07</td>\n",
       "      <td>2021-11-10 03:11:16</td>\n",
       "      <td>각산네거리</td>\n",
       "      <td>128.434978</td>\n",
       "      <td>36.154153</td>\n",
       "    </tr>\n",
       "  </tbody>\n",
       "</table>\n",
       "</div>"
      ],
      "text/plain": [
       "  버스노선_이름 버스노선_방향  버스노선_경유코드                 도착시간                 출발시간  \\\n",
       "0     140      순환          0  2021-11-10 01:59:15  2021-11-10 01:59:26   \n",
       "1   380-1     정방향          0  2021-11-10 03:11:07  2021-11-10 03:11:16   \n",
       "\n",
       "      정류장_이름          경도         위도  \n",
       "0  푸르지오캐슬B단지  128.336100  36.124709  \n",
       "1      각산네거리  128.434978  36.154153  "
      ]
     },
     "execution_count": 11,
     "metadata": {},
     "output_type": "execute_result"
    }
   ],
   "source": [
    "df.head(2)"
   ]
  },
  {
   "cell_type": "code",
   "execution_count": 12,
   "metadata": {},
   "outputs": [
    {
     "data": {
      "text/plain": [
       "버스노선_이름          0\n",
       "버스노선_방향          0\n",
       "버스노선_경유코드        0\n",
       "도착시간             0\n",
       "출발시간             0\n",
       "정류장_이름       11505\n",
       "경도               0\n",
       "위도               0\n",
       "dtype: int64"
      ]
     },
     "execution_count": 12,
     "metadata": {},
     "output_type": "execute_result"
    }
   ],
   "source": [
    "# null 확인\n",
    "df.isna().sum()"
   ]
  },
  {
   "cell_type": "code",
   "execution_count": 13,
   "metadata": {},
   "outputs": [
    {
     "data": {
      "text/html": [
       "<div>\n",
       "<style scoped>\n",
       "    .dataframe tbody tr th:only-of-type {\n",
       "        vertical-align: middle;\n",
       "    }\n",
       "\n",
       "    .dataframe tbody tr th {\n",
       "        vertical-align: top;\n",
       "    }\n",
       "\n",
       "    .dataframe thead th {\n",
       "        text-align: right;\n",
       "    }\n",
       "</style>\n",
       "<table border=\"1\" class=\"dataframe\">\n",
       "  <thead>\n",
       "    <tr style=\"text-align: right;\">\n",
       "      <th></th>\n",
       "      <th>버스노선_이름</th>\n",
       "      <th>버스노선_방향</th>\n",
       "      <th>버스노선_경유코드</th>\n",
       "      <th>도착시간</th>\n",
       "      <th>출발시간</th>\n",
       "      <th>정류장_이름</th>\n",
       "      <th>경도</th>\n",
       "      <th>위도</th>\n",
       "    </tr>\n",
       "  </thead>\n",
       "  <tbody>\n",
       "    <tr>\n",
       "      <th>257</th>\n",
       "      <td>5000</td>\n",
       "      <td>역방향</td>\n",
       "      <td>0</td>\n",
       "      <td>2021-11-10 06:16:15</td>\n",
       "      <td>2021-11-10 06:16:15</td>\n",
       "      <td>NaN</td>\n",
       "      <td>128.434978</td>\n",
       "      <td>36.154153</td>\n",
       "    </tr>\n",
       "    <tr>\n",
       "      <th>265</th>\n",
       "      <td>5000</td>\n",
       "      <td>역방향</td>\n",
       "      <td>0</td>\n",
       "      <td>2021-11-10 06:16:28</td>\n",
       "      <td>2021-11-10 06:16:35</td>\n",
       "      <td>NaN</td>\n",
       "      <td>128.434978</td>\n",
       "      <td>36.154153</td>\n",
       "    </tr>\n",
       "    <tr>\n",
       "      <th>270</th>\n",
       "      <td>5000</td>\n",
       "      <td>역방향</td>\n",
       "      <td>0</td>\n",
       "      <td>2021-11-10 06:16:41</td>\n",
       "      <td>2021-11-10 06:16:46</td>\n",
       "      <td>NaN</td>\n",
       "      <td>128.434978</td>\n",
       "      <td>36.154153</td>\n",
       "    </tr>\n",
       "    <tr>\n",
       "      <th>423</th>\n",
       "      <td>411-6</td>\n",
       "      <td>순환</td>\n",
       "      <td>5</td>\n",
       "      <td>2021-11-10 06:20:21</td>\n",
       "      <td>2021-11-10 06:20:32</td>\n",
       "      <td>NaN</td>\n",
       "      <td>128.434978</td>\n",
       "      <td>36.154153</td>\n",
       "    </tr>\n",
       "    <tr>\n",
       "      <th>608</th>\n",
       "      <td>74</td>\n",
       "      <td>정방향</td>\n",
       "      <td>0</td>\n",
       "      <td>2021-11-10 06:24:29</td>\n",
       "      <td>2021-11-10 06:24:40</td>\n",
       "      <td>NaN</td>\n",
       "      <td>128.434978</td>\n",
       "      <td>36.154153</td>\n",
       "    </tr>\n",
       "  </tbody>\n",
       "</table>\n",
       "</div>"
      ],
      "text/plain": [
       "    버스노선_이름 버스노선_방향  버스노선_경유코드                 도착시간                 출발시간  \\\n",
       "257    5000     역방향          0  2021-11-10 06:16:15  2021-11-10 06:16:15   \n",
       "265    5000     역방향          0  2021-11-10 06:16:28  2021-11-10 06:16:35   \n",
       "270    5000     역방향          0  2021-11-10 06:16:41  2021-11-10 06:16:46   \n",
       "423   411-6      순환          5  2021-11-10 06:20:21  2021-11-10 06:20:32   \n",
       "608      74     정방향          0  2021-11-10 06:24:29  2021-11-10 06:24:40   \n",
       "\n",
       "    정류장_이름          경도         위도  \n",
       "257    NaN  128.434978  36.154153  \n",
       "265    NaN  128.434978  36.154153  \n",
       "270    NaN  128.434978  36.154153  \n",
       "423    NaN  128.434978  36.154153  \n",
       "608    NaN  128.434978  36.154153  "
      ]
     },
     "execution_count": 13,
     "metadata": {},
     "output_type": "execute_result"
    }
   ],
   "source": [
    "df[df.정류장_이름.isna()].head()"
   ]
  },
  {
   "cell_type": "code",
   "execution_count": 14,
   "metadata": {},
   "outputs": [
    {
     "data": {
      "text/plain": [
       "경도          위도       \n",
       "128.434978  36.154153    1493\n",
       "Name: count, dtype: int64"
      ]
     },
     "execution_count": 14,
     "metadata": {},
     "output_type": "execute_result"
    }
   ],
   "source": [
    "df[(df.정류장_이름.isna()) & (df.버스노선_이름 == '5000')][['경도','위도']].value_counts()"
   ]
  },
  {
   "cell_type": "code",
   "execution_count": 15,
   "metadata": {},
   "outputs": [
    {
     "data": {
      "text/plain": [
       "(1213843, 8)"
      ]
     },
     "execution_count": 15,
     "metadata": {},
     "output_type": "execute_result"
    }
   ],
   "source": [
    "df = df.dropna(axis=0)\n",
    "df.shape"
   ]
  },
  {
   "cell_type": "code",
   "execution_count": null,
   "metadata": {},
   "outputs": [],
   "source": [
    "# 2021_timelog.csv로 내보내기\n",
    "# df.to_csv(\"2021_timelog.csv\", index=False)"
   ]
  },
  {
   "cell_type": "markdown",
   "metadata": {},
   "source": [
    "### ***도착시간 데이터 EDA***"
   ]
  },
  {
   "cell_type": "code",
   "execution_count": 3,
   "metadata": {},
   "outputs": [
    {
     "data": {
      "text/html": [
       "<div>\n",
       "<style scoped>\n",
       "    .dataframe tbody tr th:only-of-type {\n",
       "        vertical-align: middle;\n",
       "    }\n",
       "\n",
       "    .dataframe tbody tr th {\n",
       "        vertical-align: top;\n",
       "    }\n",
       "\n",
       "    .dataframe thead th {\n",
       "        text-align: right;\n",
       "    }\n",
       "</style>\n",
       "<table border=\"1\" class=\"dataframe\">\n",
       "  <thead>\n",
       "    <tr style=\"text-align: right;\">\n",
       "      <th></th>\n",
       "      <th>버스노선_이름</th>\n",
       "      <th>버스노선_방향</th>\n",
       "      <th>버스노선_경유코드</th>\n",
       "      <th>도착시간</th>\n",
       "      <th>출발시간</th>\n",
       "      <th>정류장_이름</th>\n",
       "      <th>경도</th>\n",
       "      <th>위도</th>\n",
       "    </tr>\n",
       "  </thead>\n",
       "  <tbody>\n",
       "    <tr>\n",
       "      <th>0</th>\n",
       "      <td>140</td>\n",
       "      <td>순환</td>\n",
       "      <td>0</td>\n",
       "      <td>2021-11-10 01:59:15</td>\n",
       "      <td>2021-11-10 01:59:26</td>\n",
       "      <td>푸르지오캐슬B단지</td>\n",
       "      <td>128.336100</td>\n",
       "      <td>36.124709</td>\n",
       "    </tr>\n",
       "    <tr>\n",
       "      <th>1</th>\n",
       "      <td>380-1</td>\n",
       "      <td>정방향</td>\n",
       "      <td>0</td>\n",
       "      <td>2021-11-10 03:11:07</td>\n",
       "      <td>2021-11-10 03:11:16</td>\n",
       "      <td>각산네거리</td>\n",
       "      <td>128.434978</td>\n",
       "      <td>36.154153</td>\n",
       "    </tr>\n",
       "    <tr>\n",
       "      <th>2</th>\n",
       "      <td>885</td>\n",
       "      <td>정방향</td>\n",
       "      <td>0</td>\n",
       "      <td>2021-11-10 06:06:23</td>\n",
       "      <td>2021-11-10 06:07:03</td>\n",
       "      <td>금오산사거리</td>\n",
       "      <td>128.335880</td>\n",
       "      <td>36.126888</td>\n",
       "    </tr>\n",
       "  </tbody>\n",
       "</table>\n",
       "</div>"
      ],
      "text/plain": [
       "  버스노선_이름 버스노선_방향  버스노선_경유코드                 도착시간                 출발시간  \\\n",
       "0     140      순환          0  2021-11-10 01:59:15  2021-11-10 01:59:26   \n",
       "1   380-1     정방향          0  2021-11-10 03:11:07  2021-11-10 03:11:16   \n",
       "2     885     정방향          0  2021-11-10 06:06:23  2021-11-10 06:07:03   \n",
       "\n",
       "      정류장_이름          경도         위도  \n",
       "0  푸르지오캐슬B단지  128.336100  36.124709  \n",
       "1      각산네거리  128.434978  36.154153  \n",
       "2     금오산사거리  128.335880  36.126888  "
      ]
     },
     "execution_count": 3,
     "metadata": {},
     "output_type": "execute_result"
    }
   ],
   "source": [
    "# 2021_timelog.csv df로 읽기\n",
    "import pandas as pd\n",
    "import matplotlib.pyplot as plt\n",
    "\n",
    "df = pd.read_csv(\"2021_timelog.csv\")\n",
    "df.head(3)"
   ]
  },
  {
   "cell_type": "code",
   "execution_count": 4,
   "metadata": {},
   "outputs": [
    {
     "data": {
      "text/html": [
       "<div>\n",
       "<style scoped>\n",
       "    .dataframe tbody tr th:only-of-type {\n",
       "        vertical-align: middle;\n",
       "    }\n",
       "\n",
       "    .dataframe tbody tr th {\n",
       "        vertical-align: top;\n",
       "    }\n",
       "\n",
       "    .dataframe thead th {\n",
       "        text-align: right;\n",
       "    }\n",
       "</style>\n",
       "<table border=\"1\" class=\"dataframe\">\n",
       "  <thead>\n",
       "    <tr style=\"text-align: right;\">\n",
       "      <th></th>\n",
       "      <th>버스노선_이름</th>\n",
       "      <th>버스노선_방향</th>\n",
       "      <th>버스노선_경유코드</th>\n",
       "      <th>도착시간</th>\n",
       "      <th>출발시간</th>\n",
       "      <th>정류장_이름</th>\n",
       "      <th>경도</th>\n",
       "      <th>위도</th>\n",
       "    </tr>\n",
       "  </thead>\n",
       "  <tbody>\n",
       "    <tr>\n",
       "      <th>3826</th>\n",
       "      <td>910</td>\n",
       "      <td>정방향</td>\n",
       "      <td>0</td>\n",
       "      <td>2021-11-10 07:08:04</td>\n",
       "      <td>2021-11-10 07:10:18</td>\n",
       "      <td>구미역</td>\n",
       "      <td>128.329321</td>\n",
       "      <td>36.129635</td>\n",
       "    </tr>\n",
       "    <tr>\n",
       "      <th>4112</th>\n",
       "      <td>910</td>\n",
       "      <td>정방향</td>\n",
       "      <td>0</td>\n",
       "      <td>2021-11-10 07:10:46</td>\n",
       "      <td>2021-11-10 07:11:13</td>\n",
       "      <td>농협</td>\n",
       "      <td>128.333200</td>\n",
       "      <td>36.128023</td>\n",
       "    </tr>\n",
       "    <tr>\n",
       "      <th>4203</th>\n",
       "      <td>910</td>\n",
       "      <td>정방향</td>\n",
       "      <td>0</td>\n",
       "      <td>2021-11-10 07:11:45</td>\n",
       "      <td>2021-11-10 07:13:43</td>\n",
       "      <td>금오산사거리</td>\n",
       "      <td>128.335880</td>\n",
       "      <td>36.126888</td>\n",
       "    </tr>\n",
       "    <tr>\n",
       "      <th>4412</th>\n",
       "      <td>910</td>\n",
       "      <td>정방향</td>\n",
       "      <td>0</td>\n",
       "      <td>2021-11-10 07:13:57</td>\n",
       "      <td>2021-11-10 07:14:04</td>\n",
       "      <td>원평동 행정복지센터 건너</td>\n",
       "      <td>128.337874</td>\n",
       "      <td>36.126044</td>\n",
       "    </tr>\n",
       "    <tr>\n",
       "      <th>4428</th>\n",
       "      <td>910</td>\n",
       "      <td>정방향</td>\n",
       "      <td>0</td>\n",
       "      <td>2021-11-10 07:14:09</td>\n",
       "      <td>2021-11-10 07:14:19</td>\n",
       "      <td>금오시장 건너</td>\n",
       "      <td>128.339623</td>\n",
       "      <td>36.125278</td>\n",
       "    </tr>\n",
       "    <tr>\n",
       "      <th>...</th>\n",
       "      <td>...</td>\n",
       "      <td>...</td>\n",
       "      <td>...</td>\n",
       "      <td>...</td>\n",
       "      <td>...</td>\n",
       "      <td>...</td>\n",
       "      <td>...</td>\n",
       "      <td>...</td>\n",
       "    </tr>\n",
       "    <tr>\n",
       "      <th>1203046</th>\n",
       "      <td>910</td>\n",
       "      <td>역방향</td>\n",
       "      <td>0</td>\n",
       "      <td>2021-10-17 08:26:45</td>\n",
       "      <td>2021-10-17 08:26:53</td>\n",
       "      <td>송원고가밑(구미역방면)</td>\n",
       "      <td>128.343969</td>\n",
       "      <td>36.123412</td>\n",
       "    </tr>\n",
       "    <tr>\n",
       "      <th>1203076</th>\n",
       "      <td>910</td>\n",
       "      <td>역방향</td>\n",
       "      <td>0</td>\n",
       "      <td>2021-10-17 08:27:13</td>\n",
       "      <td>2021-10-17 08:27:19</td>\n",
       "      <td>금오시장 입구</td>\n",
       "      <td>128.340973</td>\n",
       "      <td>36.124741</td>\n",
       "    </tr>\n",
       "    <tr>\n",
       "      <th>1203093</th>\n",
       "      <td>910</td>\n",
       "      <td>역방향</td>\n",
       "      <td>0</td>\n",
       "      <td>2021-10-17 08:27:26</td>\n",
       "      <td>2021-10-17 08:27:49</td>\n",
       "      <td>원평동 행정복지 센터 앞</td>\n",
       "      <td>128.338893</td>\n",
       "      <td>36.125819</td>\n",
       "    </tr>\n",
       "    <tr>\n",
       "      <th>1203134</th>\n",
       "      <td>910</td>\n",
       "      <td>역방향</td>\n",
       "      <td>0</td>\n",
       "      <td>2021-10-17 08:28:04</td>\n",
       "      <td>2021-10-17 08:28:28</td>\n",
       "      <td>대구은행앞</td>\n",
       "      <td>128.335663</td>\n",
       "      <td>36.127183</td>\n",
       "    </tr>\n",
       "    <tr>\n",
       "      <th>1203220</th>\n",
       "      <td>910</td>\n",
       "      <td>역방향</td>\n",
       "      <td>0</td>\n",
       "      <td>2021-10-17 08:29:24</td>\n",
       "      <td>2021-10-17 08:29:35</td>\n",
       "      <td>구미역(중앙시장)</td>\n",
       "      <td>128.329834</td>\n",
       "      <td>36.129622</td>\n",
       "    </tr>\n",
       "  </tbody>\n",
       "</table>\n",
       "<p>4506 rows × 8 columns</p>\n",
       "</div>"
      ],
      "text/plain": [
       "        버스노선_이름 버스노선_방향  버스노선_경유코드                 도착시간                 출발시간  \\\n",
       "3826        910     정방향          0  2021-11-10 07:08:04  2021-11-10 07:10:18   \n",
       "4112        910     정방향          0  2021-11-10 07:10:46  2021-11-10 07:11:13   \n",
       "4203        910     정방향          0  2021-11-10 07:11:45  2021-11-10 07:13:43   \n",
       "4412        910     정방향          0  2021-11-10 07:13:57  2021-11-10 07:14:04   \n",
       "4428        910     정방향          0  2021-11-10 07:14:09  2021-11-10 07:14:19   \n",
       "...         ...     ...        ...                  ...                  ...   \n",
       "1203046     910     역방향          0  2021-10-17 08:26:45  2021-10-17 08:26:53   \n",
       "1203076     910     역방향          0  2021-10-17 08:27:13  2021-10-17 08:27:19   \n",
       "1203093     910     역방향          0  2021-10-17 08:27:26  2021-10-17 08:27:49   \n",
       "1203134     910     역방향          0  2021-10-17 08:28:04  2021-10-17 08:28:28   \n",
       "1203220     910     역방향          0  2021-10-17 08:29:24  2021-10-17 08:29:35   \n",
       "\n",
       "                정류장_이름          경도         위도  \n",
       "3826               구미역  128.329321  36.129635  \n",
       "4112                농협  128.333200  36.128023  \n",
       "4203            금오산사거리  128.335880  36.126888  \n",
       "4412     원평동 행정복지센터 건너  128.337874  36.126044  \n",
       "4428           금오시장 건너  128.339623  36.125278  \n",
       "...                ...         ...        ...  \n",
       "1203046   송원고가밑(구미역방면)  128.343969  36.123412  \n",
       "1203076        금오시장 입구  128.340973  36.124741  \n",
       "1203093  원평동 행정복지 센터 앞  128.338893  36.125819  \n",
       "1203134          대구은행앞  128.335663  36.127183  \n",
       "1203220      구미역(중앙시장)  128.329834  36.129622  \n",
       "\n",
       "[4506 rows x 8 columns]"
      ]
     },
     "execution_count": 4,
     "metadata": {},
     "output_type": "execute_result"
    }
   ],
   "source": [
    "# 910번 데이터 확인 -> O\n",
    "df[df.버스노선_이름 == '910']"
   ]
  },
  {
   "cell_type": "code",
   "execution_count": 5,
   "metadata": {},
   "outputs": [
    {
     "data": {
      "text/plain": [
       "버스노선_경유코드\n",
       "0    1005225\n",
       "1      78747\n",
       "2      61597\n",
       "3      28861\n",
       "4      20744\n",
       "5       8689\n",
       "6       6356\n",
       "7       1783\n",
       "9       1492\n",
       "8        349\n",
       "Name: count, dtype: int64"
      ]
     },
     "execution_count": 5,
     "metadata": {},
     "output_type": "execute_result"
    }
   ],
   "source": [
    "# 버스노선_경유코드: 경유노선 구분 의미 파악\n",
    "df.버스노선_경유코드.value_counts()"
   ]
  },
  {
   "cell_type": "code",
   "execution_count": 6,
   "metadata": {},
   "outputs": [
    {
     "data": {
      "text/plain": [
       "버스노선_이름\n",
       "340-4    3179\n",
       "11       1825\n",
       "410-1    1384\n",
       "411-6    1190\n",
       "360-3    1111\n",
       "Name: count, dtype: int64"
      ]
     },
     "execution_count": 6,
     "metadata": {},
     "output_type": "execute_result"
    }
   ],
   "source": [
    "# 같은 버스인데도 경유코드가 다른 경우가 있음. 의미는 잘..\n",
    "df[df.버스노선_경유코드 == 5].버스노선_이름.value_counts()"
   ]
  },
  {
   "cell_type": "code",
   "execution_count": 7,
   "metadata": {},
   "outputs": [
    {
     "data": {
      "text/plain": [
       "버스노선_방향\n",
       "정방향    478013\n",
       "역방향    460350\n",
       "순환     275480\n",
       "Name: count, dtype: int64"
      ]
     },
     "execution_count": 7,
     "metadata": {},
     "output_type": "execute_result"
    }
   ],
   "source": [
    "# 버스노선 방향은 정방향과 역방향, 순환이 있음\n",
    "df.버스노선_방향.value_counts()"
   ]
  },
  {
   "cell_type": "code",
   "execution_count": 8,
   "metadata": {},
   "outputs": [],
   "source": [
    "# 도착시간과 출발시간을 날짜 data로 변환 -> 데이터 효율 올리고 날짜 함수(dt.month)를 사용하기 위해\n",
    "df.도착시간 = pd.to_datetime(df.도착시간)\n",
    "df.출발시간 = pd.to_datetime(df.출발시간)"
   ]
  },
  {
   "cell_type": "markdown",
   "metadata": {},
   "source": [
    "### ***910번 구간_걸린시간 구하기***"
   ]
  },
  {
   "cell_type": "code",
   "execution_count": 9,
   "metadata": {},
   "outputs": [
    {
     "data": {
      "text/html": [
       "<div>\n",
       "<style scoped>\n",
       "    .dataframe tbody tr th:only-of-type {\n",
       "        vertical-align: middle;\n",
       "    }\n",
       "\n",
       "    .dataframe tbody tr th {\n",
       "        vertical-align: top;\n",
       "    }\n",
       "\n",
       "    .dataframe thead th {\n",
       "        text-align: right;\n",
       "    }\n",
       "</style>\n",
       "<table border=\"1\" class=\"dataframe\">\n",
       "  <thead>\n",
       "    <tr style=\"text-align: right;\">\n",
       "      <th></th>\n",
       "      <th>버스노선_이름</th>\n",
       "      <th>버스노선_방향</th>\n",
       "      <th>버스노선_경유코드</th>\n",
       "      <th>도착시간</th>\n",
       "      <th>출발시간</th>\n",
       "      <th>정류장_이름</th>\n",
       "      <th>경도</th>\n",
       "      <th>위도</th>\n",
       "    </tr>\n",
       "  </thead>\n",
       "  <tbody>\n",
       "    <tr>\n",
       "      <th>3826</th>\n",
       "      <td>910</td>\n",
       "      <td>정방향</td>\n",
       "      <td>0</td>\n",
       "      <td>2021-11-10 07:08:04</td>\n",
       "      <td>2021-11-10 07:10:18</td>\n",
       "      <td>구미역</td>\n",
       "      <td>128.329321</td>\n",
       "      <td>36.129635</td>\n",
       "    </tr>\n",
       "    <tr>\n",
       "      <th>4112</th>\n",
       "      <td>910</td>\n",
       "      <td>정방향</td>\n",
       "      <td>0</td>\n",
       "      <td>2021-11-10 07:10:46</td>\n",
       "      <td>2021-11-10 07:11:13</td>\n",
       "      <td>농협</td>\n",
       "      <td>128.333200</td>\n",
       "      <td>36.128023</td>\n",
       "    </tr>\n",
       "    <tr>\n",
       "      <th>4203</th>\n",
       "      <td>910</td>\n",
       "      <td>정방향</td>\n",
       "      <td>0</td>\n",
       "      <td>2021-11-10 07:11:45</td>\n",
       "      <td>2021-11-10 07:13:43</td>\n",
       "      <td>금오산사거리</td>\n",
       "      <td>128.335880</td>\n",
       "      <td>36.126888</td>\n",
       "    </tr>\n",
       "    <tr>\n",
       "      <th>4412</th>\n",
       "      <td>910</td>\n",
       "      <td>정방향</td>\n",
       "      <td>0</td>\n",
       "      <td>2021-11-10 07:13:57</td>\n",
       "      <td>2021-11-10 07:14:04</td>\n",
       "      <td>원평동 행정복지센터 건너</td>\n",
       "      <td>128.337874</td>\n",
       "      <td>36.126044</td>\n",
       "    </tr>\n",
       "    <tr>\n",
       "      <th>4428</th>\n",
       "      <td>910</td>\n",
       "      <td>정방향</td>\n",
       "      <td>0</td>\n",
       "      <td>2021-11-10 07:14:09</td>\n",
       "      <td>2021-11-10 07:14:19</td>\n",
       "      <td>금오시장 건너</td>\n",
       "      <td>128.339623</td>\n",
       "      <td>36.125278</td>\n",
       "    </tr>\n",
       "    <tr>\n",
       "      <th>...</th>\n",
       "      <td>...</td>\n",
       "      <td>...</td>\n",
       "      <td>...</td>\n",
       "      <td>...</td>\n",
       "      <td>...</td>\n",
       "      <td>...</td>\n",
       "      <td>...</td>\n",
       "      <td>...</td>\n",
       "    </tr>\n",
       "    <tr>\n",
       "      <th>1198824</th>\n",
       "      <td>910</td>\n",
       "      <td>정방향</td>\n",
       "      <td>0</td>\n",
       "      <td>2021-10-17 07:36:03</td>\n",
       "      <td>2021-10-17 07:37:22</td>\n",
       "      <td>골드클래스앞</td>\n",
       "      <td>128.428267</td>\n",
       "      <td>36.157383</td>\n",
       "    </tr>\n",
       "    <tr>\n",
       "      <th>1199011</th>\n",
       "      <td>910</td>\n",
       "      <td>정방향</td>\n",
       "      <td>0</td>\n",
       "      <td>2021-10-17 07:38:04</td>\n",
       "      <td>2021-10-17 07:38:17</td>\n",
       "      <td>우미린센트럴파크 후문</td>\n",
       "      <td>128.431160</td>\n",
       "      <td>36.161066</td>\n",
       "    </tr>\n",
       "    <tr>\n",
       "      <th>1199070</th>\n",
       "      <td>910</td>\n",
       "      <td>정방향</td>\n",
       "      <td>0</td>\n",
       "      <td>2021-10-17 07:38:47</td>\n",
       "      <td>2021-10-17 07:38:56</td>\n",
       "      <td>우미린풀하우스건너</td>\n",
       "      <td>128.436179</td>\n",
       "      <td>36.161001</td>\n",
       "    </tr>\n",
       "    <tr>\n",
       "      <th>1199104</th>\n",
       "      <td>910</td>\n",
       "      <td>정방향</td>\n",
       "      <td>0</td>\n",
       "      <td>2021-10-17 07:39:11</td>\n",
       "      <td>2021-10-17 07:39:26</td>\n",
       "      <td>인덕중학교건너</td>\n",
       "      <td>128.438741</td>\n",
       "      <td>36.161121</td>\n",
       "    </tr>\n",
       "    <tr>\n",
       "      <th>1199217</th>\n",
       "      <td>910</td>\n",
       "      <td>정방향</td>\n",
       "      <td>0</td>\n",
       "      <td>2021-10-17 07:40:21</td>\n",
       "      <td>2021-10-17 07:40:47</td>\n",
       "      <td>인덕중흥S클래스건너</td>\n",
       "      <td>128.442420</td>\n",
       "      <td>36.163866</td>\n",
       "    </tr>\n",
       "  </tbody>\n",
       "</table>\n",
       "<p>2268 rows × 8 columns</p>\n",
       "</div>"
      ],
      "text/plain": [
       "        버스노선_이름 버스노선_방향  버스노선_경유코드                도착시간                출발시간  \\\n",
       "3826        910     정방향          0 2021-11-10 07:08:04 2021-11-10 07:10:18   \n",
       "4112        910     정방향          0 2021-11-10 07:10:46 2021-11-10 07:11:13   \n",
       "4203        910     정방향          0 2021-11-10 07:11:45 2021-11-10 07:13:43   \n",
       "4412        910     정방향          0 2021-11-10 07:13:57 2021-11-10 07:14:04   \n",
       "4428        910     정방향          0 2021-11-10 07:14:09 2021-11-10 07:14:19   \n",
       "...         ...     ...        ...                 ...                 ...   \n",
       "1198824     910     정방향          0 2021-10-17 07:36:03 2021-10-17 07:37:22   \n",
       "1199011     910     정방향          0 2021-10-17 07:38:04 2021-10-17 07:38:17   \n",
       "1199070     910     정방향          0 2021-10-17 07:38:47 2021-10-17 07:38:56   \n",
       "1199104     910     정방향          0 2021-10-17 07:39:11 2021-10-17 07:39:26   \n",
       "1199217     910     정방향          0 2021-10-17 07:40:21 2021-10-17 07:40:47   \n",
       "\n",
       "                정류장_이름          경도         위도  \n",
       "3826               구미역  128.329321  36.129635  \n",
       "4112                농협  128.333200  36.128023  \n",
       "4203            금오산사거리  128.335880  36.126888  \n",
       "4412     원평동 행정복지센터 건너  128.337874  36.126044  \n",
       "4428           금오시장 건너  128.339623  36.125278  \n",
       "...                ...         ...        ...  \n",
       "1198824         골드클래스앞  128.428267  36.157383  \n",
       "1199011    우미린센트럴파크 후문  128.431160  36.161066  \n",
       "1199070      우미린풀하우스건너  128.436179  36.161001  \n",
       "1199104        인덕중학교건너  128.438741  36.161121  \n",
       "1199217     인덕중흥S클래스건너  128.442420  36.163866  \n",
       "\n",
       "[2268 rows x 8 columns]"
      ]
     },
     "execution_count": 9,
     "metadata": {},
     "output_type": "execute_result"
    }
   ],
   "source": [
    "# 정방향, 역방향, 순환의 의미\n",
    "# 910번의 정방향: 구미역 -> 옥계\n",
    "df[(df.버스노선_이름 == '910') & (df.버스노선_방향 == '정방향')]"
   ]
  },
  {
   "cell_type": "code",
   "execution_count": 10,
   "metadata": {},
   "outputs": [
    {
     "data": {
      "text/html": [
       "<div>\n",
       "<style scoped>\n",
       "    .dataframe tbody tr th:only-of-type {\n",
       "        vertical-align: middle;\n",
       "    }\n",
       "\n",
       "    .dataframe tbody tr th {\n",
       "        vertical-align: top;\n",
       "    }\n",
       "\n",
       "    .dataframe thead th {\n",
       "        text-align: right;\n",
       "    }\n",
       "</style>\n",
       "<table border=\"1\" class=\"dataframe\">\n",
       "  <thead>\n",
       "    <tr style=\"text-align: right;\">\n",
       "      <th></th>\n",
       "      <th>버스노선_이름</th>\n",
       "      <th>버스노선_방향</th>\n",
       "      <th>버스노선_경유코드</th>\n",
       "      <th>도착시간</th>\n",
       "      <th>출발시간</th>\n",
       "      <th>정류장_이름</th>\n",
       "      <th>경도</th>\n",
       "      <th>위도</th>\n",
       "    </tr>\n",
       "  </thead>\n",
       "  <tbody>\n",
       "    <tr>\n",
       "      <th>8462</th>\n",
       "      <td>910</td>\n",
       "      <td>역방향</td>\n",
       "      <td>0</td>\n",
       "      <td>2021-11-10 07:57:14</td>\n",
       "      <td>2021-11-10 07:57:31</td>\n",
       "      <td>인덕중흥S클래스앞</td>\n",
       "      <td>128.442235</td>\n",
       "      <td>36.164035</td>\n",
       "    </tr>\n",
       "    <tr>\n",
       "      <th>8596</th>\n",
       "      <td>910</td>\n",
       "      <td>역방향</td>\n",
       "      <td>0</td>\n",
       "      <td>2021-11-10 07:58:50</td>\n",
       "      <td>2021-11-10 07:59:10</td>\n",
       "      <td>중흥S클래스에코시티</td>\n",
       "      <td>128.438975</td>\n",
       "      <td>36.161346</td>\n",
       "    </tr>\n",
       "    <tr>\n",
       "      <th>8719</th>\n",
       "      <td>910</td>\n",
       "      <td>역방향</td>\n",
       "      <td>0</td>\n",
       "      <td>2021-11-10 08:00:23</td>\n",
       "      <td>2021-11-10 08:00:53</td>\n",
       "      <td>우미린풀하우스정문</td>\n",
       "      <td>128.436067</td>\n",
       "      <td>36.161346</td>\n",
       "    </tr>\n",
       "    <tr>\n",
       "      <th>8807</th>\n",
       "      <td>910</td>\n",
       "      <td>역방향</td>\n",
       "      <td>0</td>\n",
       "      <td>2021-11-10 08:01:16</td>\n",
       "      <td>2021-11-10 08:01:28</td>\n",
       "      <td>우미린센트럴파크 후문건너</td>\n",
       "      <td>128.432100</td>\n",
       "      <td>36.161337</td>\n",
       "    </tr>\n",
       "    <tr>\n",
       "      <th>9020</th>\n",
       "      <td>910</td>\n",
       "      <td>역방향</td>\n",
       "      <td>0</td>\n",
       "      <td>2021-11-10 08:03:41</td>\n",
       "      <td>2021-11-10 08:04:04</td>\n",
       "      <td>골드클래스건너</td>\n",
       "      <td>128.428001</td>\n",
       "      <td>36.157399</td>\n",
       "    </tr>\n",
       "    <tr>\n",
       "      <th>...</th>\n",
       "      <td>...</td>\n",
       "      <td>...</td>\n",
       "      <td>...</td>\n",
       "      <td>...</td>\n",
       "      <td>...</td>\n",
       "      <td>...</td>\n",
       "      <td>...</td>\n",
       "      <td>...</td>\n",
       "    </tr>\n",
       "    <tr>\n",
       "      <th>1203046</th>\n",
       "      <td>910</td>\n",
       "      <td>역방향</td>\n",
       "      <td>0</td>\n",
       "      <td>2021-10-17 08:26:45</td>\n",
       "      <td>2021-10-17 08:26:53</td>\n",
       "      <td>송원고가밑(구미역방면)</td>\n",
       "      <td>128.343969</td>\n",
       "      <td>36.123412</td>\n",
       "    </tr>\n",
       "    <tr>\n",
       "      <th>1203076</th>\n",
       "      <td>910</td>\n",
       "      <td>역방향</td>\n",
       "      <td>0</td>\n",
       "      <td>2021-10-17 08:27:13</td>\n",
       "      <td>2021-10-17 08:27:19</td>\n",
       "      <td>금오시장 입구</td>\n",
       "      <td>128.340973</td>\n",
       "      <td>36.124741</td>\n",
       "    </tr>\n",
       "    <tr>\n",
       "      <th>1203093</th>\n",
       "      <td>910</td>\n",
       "      <td>역방향</td>\n",
       "      <td>0</td>\n",
       "      <td>2021-10-17 08:27:26</td>\n",
       "      <td>2021-10-17 08:27:49</td>\n",
       "      <td>원평동 행정복지 센터 앞</td>\n",
       "      <td>128.338893</td>\n",
       "      <td>36.125819</td>\n",
       "    </tr>\n",
       "    <tr>\n",
       "      <th>1203134</th>\n",
       "      <td>910</td>\n",
       "      <td>역방향</td>\n",
       "      <td>0</td>\n",
       "      <td>2021-10-17 08:28:04</td>\n",
       "      <td>2021-10-17 08:28:28</td>\n",
       "      <td>대구은행앞</td>\n",
       "      <td>128.335663</td>\n",
       "      <td>36.127183</td>\n",
       "    </tr>\n",
       "    <tr>\n",
       "      <th>1203220</th>\n",
       "      <td>910</td>\n",
       "      <td>역방향</td>\n",
       "      <td>0</td>\n",
       "      <td>2021-10-17 08:29:24</td>\n",
       "      <td>2021-10-17 08:29:35</td>\n",
       "      <td>구미역(중앙시장)</td>\n",
       "      <td>128.329834</td>\n",
       "      <td>36.129622</td>\n",
       "    </tr>\n",
       "  </tbody>\n",
       "</table>\n",
       "<p>2238 rows × 8 columns</p>\n",
       "</div>"
      ],
      "text/plain": [
       "        버스노선_이름 버스노선_방향  버스노선_경유코드                도착시간                출발시간  \\\n",
       "8462        910     역방향          0 2021-11-10 07:57:14 2021-11-10 07:57:31   \n",
       "8596        910     역방향          0 2021-11-10 07:58:50 2021-11-10 07:59:10   \n",
       "8719        910     역방향          0 2021-11-10 08:00:23 2021-11-10 08:00:53   \n",
       "8807        910     역방향          0 2021-11-10 08:01:16 2021-11-10 08:01:28   \n",
       "9020        910     역방향          0 2021-11-10 08:03:41 2021-11-10 08:04:04   \n",
       "...         ...     ...        ...                 ...                 ...   \n",
       "1203046     910     역방향          0 2021-10-17 08:26:45 2021-10-17 08:26:53   \n",
       "1203076     910     역방향          0 2021-10-17 08:27:13 2021-10-17 08:27:19   \n",
       "1203093     910     역방향          0 2021-10-17 08:27:26 2021-10-17 08:27:49   \n",
       "1203134     910     역방향          0 2021-10-17 08:28:04 2021-10-17 08:28:28   \n",
       "1203220     910     역방향          0 2021-10-17 08:29:24 2021-10-17 08:29:35   \n",
       "\n",
       "                정류장_이름          경도         위도  \n",
       "8462         인덕중흥S클래스앞  128.442235  36.164035  \n",
       "8596        중흥S클래스에코시티  128.438975  36.161346  \n",
       "8719         우미린풀하우스정문  128.436067  36.161346  \n",
       "8807     우미린센트럴파크 후문건너  128.432100  36.161337  \n",
       "9020           골드클래스건너  128.428001  36.157399  \n",
       "...                ...         ...        ...  \n",
       "1203046   송원고가밑(구미역방면)  128.343969  36.123412  \n",
       "1203076        금오시장 입구  128.340973  36.124741  \n",
       "1203093  원평동 행정복지 센터 앞  128.338893  36.125819  \n",
       "1203134          대구은행앞  128.335663  36.127183  \n",
       "1203220      구미역(중앙시장)  128.329834  36.129622  \n",
       "\n",
       "[2238 rows x 8 columns]"
      ]
     },
     "execution_count": 10,
     "metadata": {},
     "output_type": "execute_result"
    }
   ],
   "source": [
    "# 910번의 역방향: 옥계 -> 구미역\n",
    "df[(df.버스노선_이름 == '910') & (df.버스노선_방향 == '역방향')]"
   ]
  },
  {
   "cell_type": "code",
   "execution_count": 11,
   "metadata": {},
   "outputs": [
    {
     "data": {
      "text/plain": [
       "Timestamp('2021-10-12 09:54:04')"
      ]
     },
     "metadata": {},
     "output_type": "display_data"
    },
    {
     "data": {
      "text/plain": [
       "Timestamp('2021-11-10 09:40:22')"
      ]
     },
     "metadata": {},
     "output_type": "display_data"
    }
   ],
   "source": [
    "# 910번 버스 다른 날짜 데이터 확인\n",
    "display(df[df.버스노선_이름 == '910']['도착시간'].min()\n",
    ",df[df.버스노선_이름 == '910']['도착시간'].max())\n"
   ]
  },
  {
   "cell_type": "code",
   "execution_count": 12,
   "metadata": {},
   "outputs": [],
   "source": [
    "# 910번 버스의 구간_이름과 구간_걸린시간 구하기\n",
    "bus910 = df[(df.버스노선_이름 == '910')].sort_values(['도착시간', '버스노선_이름', '버스노선_방향'], ascending=(1,1,1)).reset_index(drop=True)\n",
    "bus910['구간_이름'] = bus910.정류장_이름 + \" - \" + bus910.정류장_이름.shift(-1)\n",
    "bus910['구간_걸린시간'] = bus910.도착시간.shift(-1) - bus910.도착시간"
   ]
  },
  {
   "cell_type": "code",
   "execution_count": 13,
   "metadata": {},
   "outputs": [
    {
     "data": {
      "text/html": [
       "<div>\n",
       "<style scoped>\n",
       "    .dataframe tbody tr th:only-of-type {\n",
       "        vertical-align: middle;\n",
       "    }\n",
       "\n",
       "    .dataframe tbody tr th {\n",
       "        vertical-align: top;\n",
       "    }\n",
       "\n",
       "    .dataframe thead th {\n",
       "        text-align: right;\n",
       "    }\n",
       "</style>\n",
       "<table border=\"1\" class=\"dataframe\">\n",
       "  <thead>\n",
       "    <tr style=\"text-align: right;\">\n",
       "      <th></th>\n",
       "      <th>버스노선_이름</th>\n",
       "      <th>버스노선_방향</th>\n",
       "      <th>버스노선_경유코드</th>\n",
       "      <th>도착시간</th>\n",
       "      <th>출발시간</th>\n",
       "      <th>정류장_이름</th>\n",
       "      <th>경도</th>\n",
       "      <th>위도</th>\n",
       "      <th>구간_이름</th>\n",
       "      <th>구간_걸린시간</th>\n",
       "    </tr>\n",
       "  </thead>\n",
       "  <tbody>\n",
       "    <tr>\n",
       "      <th>0</th>\n",
       "      <td>910</td>\n",
       "      <td>정방향</td>\n",
       "      <td>0</td>\n",
       "      <td>2021-10-12 09:54:04</td>\n",
       "      <td>2021-10-12 09:54:30</td>\n",
       "      <td>양호동빈수골(금오공대입구방면)</td>\n",
       "      <td>128.391727</td>\n",
       "      <td>36.129077</td>\n",
       "      <td>양호동빈수골(금오공대입구방면) - 옥계중학교건너</td>\n",
       "      <td>0 days 00:02:33</td>\n",
       "    </tr>\n",
       "    <tr>\n",
       "      <th>1</th>\n",
       "      <td>910</td>\n",
       "      <td>정방향</td>\n",
       "      <td>0</td>\n",
       "      <td>2021-10-12 09:56:37</td>\n",
       "      <td>2021-10-12 09:56:46</td>\n",
       "      <td>옥계중학교건너</td>\n",
       "      <td>128.411420</td>\n",
       "      <td>36.136406</td>\n",
       "      <td>옥계중학교건너 - 옥계대우아파트건너</td>\n",
       "      <td>0 days 00:00:28</td>\n",
       "    </tr>\n",
       "    <tr>\n",
       "      <th>2</th>\n",
       "      <td>910</td>\n",
       "      <td>정방향</td>\n",
       "      <td>0</td>\n",
       "      <td>2021-10-12 09:57:05</td>\n",
       "      <td>2021-10-12 09:57:31</td>\n",
       "      <td>옥계대우아파트건너</td>\n",
       "      <td>128.415010</td>\n",
       "      <td>36.136929</td>\n",
       "      <td>옥계대우아파트건너 - 4공단입구(옥계방면)</td>\n",
       "      <td>0 days 00:01:50</td>\n",
       "    </tr>\n",
       "    <tr>\n",
       "      <th>3</th>\n",
       "      <td>910</td>\n",
       "      <td>정방향</td>\n",
       "      <td>0</td>\n",
       "      <td>2021-10-12 09:58:55</td>\n",
       "      <td>2021-10-12 09:59:55</td>\n",
       "      <td>4공단입구(옥계방면)</td>\n",
       "      <td>128.417766</td>\n",
       "      <td>36.137739</td>\n",
       "      <td>4공단입구(옥계방면) - 옥계부영아파트건너</td>\n",
       "      <td>0 days 00:01:21</td>\n",
       "    </tr>\n",
       "    <tr>\n",
       "      <th>4</th>\n",
       "      <td>910</td>\n",
       "      <td>정방향</td>\n",
       "      <td>0</td>\n",
       "      <td>2021-10-12 10:00:16</td>\n",
       "      <td>2021-10-12 10:00:46</td>\n",
       "      <td>옥계부영아파트건너</td>\n",
       "      <td>128.418102</td>\n",
       "      <td>36.140893</td>\n",
       "      <td>옥계부영아파트건너 - 옥계성당</td>\n",
       "      <td>0 days 00:01:44</td>\n",
       "    </tr>\n",
       "  </tbody>\n",
       "</table>\n",
       "</div>"
      ],
      "text/plain": [
       "  버스노선_이름 버스노선_방향  버스노선_경유코드                도착시간                출발시간  \\\n",
       "0     910     정방향          0 2021-10-12 09:54:04 2021-10-12 09:54:30   \n",
       "1     910     정방향          0 2021-10-12 09:56:37 2021-10-12 09:56:46   \n",
       "2     910     정방향          0 2021-10-12 09:57:05 2021-10-12 09:57:31   \n",
       "3     910     정방향          0 2021-10-12 09:58:55 2021-10-12 09:59:55   \n",
       "4     910     정방향          0 2021-10-12 10:00:16 2021-10-12 10:00:46   \n",
       "\n",
       "             정류장_이름          경도         위도                       구간_이름  \\\n",
       "0  양호동빈수골(금오공대입구방면)  128.391727  36.129077  양호동빈수골(금오공대입구방면) - 옥계중학교건너   \n",
       "1           옥계중학교건너  128.411420  36.136406         옥계중학교건너 - 옥계대우아파트건너   \n",
       "2         옥계대우아파트건너  128.415010  36.136929     옥계대우아파트건너 - 4공단입구(옥계방면)   \n",
       "3       4공단입구(옥계방면)  128.417766  36.137739     4공단입구(옥계방면) - 옥계부영아파트건너   \n",
       "4         옥계부영아파트건너  128.418102  36.140893            옥계부영아파트건너 - 옥계성당   \n",
       "\n",
       "          구간_걸린시간  \n",
       "0 0 days 00:02:33  \n",
       "1 0 days 00:00:28  \n",
       "2 0 days 00:01:50  \n",
       "3 0 days 00:01:21  \n",
       "4 0 days 00:01:44  "
      ]
     },
     "execution_count": 13,
     "metadata": {},
     "output_type": "execute_result"
    }
   ],
   "source": [
    "# bus910 확인\n",
    "bus910.head()"
   ]
  },
  {
   "cell_type": "code",
   "execution_count": 14,
   "metadata": {},
   "outputs": [
    {
     "name": "stdout",
     "output_type": "stream",
     "text": [
      "float64\n",
      "구간_걸린시간\n",
      "2800.383333     1\n",
      "2276.450000     1\n",
      "1532.166667     1\n",
      "1415.633333     1\n",
      "1394.816667     1\n",
      "               ..\n",
      "1.083333       36\n",
      "1.066667       25\n",
      "1.050000       20\n",
      "1.033333       25\n",
      "1.016667       21\n",
      "Name: count, Length: 392, dtype: int64\n",
      "\n"
     ]
    },
    {
     "data": {
      "text/plain": [
       "<Axes: xlabel='구간_걸린시간', ylabel='Count'>"
      ]
     },
     "execution_count": 14,
     "metadata": {},
     "output_type": "execute_result"
    },
    {
     "data": {
      "image/png": "[encoded data removed]",
      "text/plain": [
       "<Figure size 800x400 with 1 Axes>"
      ]
     },
     "metadata": {},
     "output_type": "display_data"
    }
   ],
   "source": [
    "import seaborn as sns\n",
    "\n",
    "# 한글 폰트 적용\n",
    "import matplotlib.font_manager as fm\n",
    "plt.rcParams['font.family'] ='Malgun Gothic'\n",
    "plt.rcParams['axes.unicode_minus'] =False\n",
    "\n",
    "# 구간_걸린시간 값 확인\n",
    "total_second = bus910.구간_걸린시간.dt.total_seconds() / 60\n",
    "print(total_second.dtype)\n",
    "filtered_s = total_second[(total_second > 1)]\n",
    "print(filtered_s.value_counts().sort_index(ascending=0))\n",
    "print(f\"\")\n",
    "# 사용자 정의 색상 팔레트 (그라데이션 적용)\n",
    "color = \"#F0BD27\"\n",
    "\n",
    "# 시각화\n",
    "plt.figure(figsize=(8, 4))\n",
    "sns.histplot(filtered_s, kde=True, bins=100, color=color)\n"
   ]
  },
  {
   "cell_type": "code",
   "execution_count": 15,
   "metadata": {},
   "outputs": [
    {
     "data": {
      "text/html": [
       "<div>\n",
       "<style scoped>\n",
       "    .dataframe tbody tr th:only-of-type {\n",
       "        vertical-align: middle;\n",
       "    }\n",
       "\n",
       "    .dataframe tbody tr th {\n",
       "        vertical-align: top;\n",
       "    }\n",
       "\n",
       "    .dataframe thead th {\n",
       "        text-align: right;\n",
       "    }\n",
       "</style>\n",
       "<table border=\"1\" class=\"dataframe\">\n",
       "  <thead>\n",
       "    <tr style=\"text-align: right;\">\n",
       "      <th></th>\n",
       "      <th>버스노선_이름</th>\n",
       "      <th>버스노선_방향</th>\n",
       "      <th>버스노선_경유코드</th>\n",
       "      <th>도착시간</th>\n",
       "      <th>출발시간</th>\n",
       "      <th>정류장_이름</th>\n",
       "      <th>경도</th>\n",
       "      <th>위도</th>\n",
       "      <th>구간_이름</th>\n",
       "      <th>구간_걸린시간</th>\n",
       "      <th>걸린시간_분</th>\n",
       "    </tr>\n",
       "  </thead>\n",
       "  <tbody>\n",
       "    <tr>\n",
       "      <th>1622</th>\n",
       "      <td>910</td>\n",
       "      <td>정방향</td>\n",
       "      <td>0</td>\n",
       "      <td>2021-10-23 15:08:58</td>\n",
       "      <td>2021-10-23 15:09:16</td>\n",
       "      <td>인덕중흥S클래스건너</td>\n",
       "      <td>128.442420</td>\n",
       "      <td>36.163866</td>\n",
       "      <td>인덕중흥S클래스건너 - 인덕중흥S클래스앞</td>\n",
       "      <td>0 days 00:05:07</td>\n",
       "      <td>5.116667</td>\n",
       "    </tr>\n",
       "    <tr>\n",
       "      <th>4057</th>\n",
       "      <td>910</td>\n",
       "      <td>정방향</td>\n",
       "      <td>0</td>\n",
       "      <td>2021-11-05 07:22:28</td>\n",
       "      <td>2021-11-05 07:22:44</td>\n",
       "      <td>공단본부건너</td>\n",
       "      <td>128.376794</td>\n",
       "      <td>36.110770</td>\n",
       "      <td>공단본부건너 - 세무서네거리</td>\n",
       "      <td>0 days 00:05:03</td>\n",
       "      <td>5.050000</td>\n",
       "    </tr>\n",
       "    <tr>\n",
       "      <th>1013</th>\n",
       "      <td>910</td>\n",
       "      <td>정방향</td>\n",
       "      <td>0</td>\n",
       "      <td>2021-10-20 15:09:58</td>\n",
       "      <td>2021-10-20 15:10:14</td>\n",
       "      <td>인덕중학교건너</td>\n",
       "      <td>128.438741</td>\n",
       "      <td>36.161121</td>\n",
       "      <td>인덕중학교건너 - 인덕중흥S클래스앞</td>\n",
       "      <td>0 days 00:05:03</td>\n",
       "      <td>5.050000</td>\n",
       "    </tr>\n",
       "    <tr>\n",
       "      <th>3416</th>\n",
       "      <td>910</td>\n",
       "      <td>정방향</td>\n",
       "      <td>0</td>\n",
       "      <td>2021-11-01 07:58:06</td>\n",
       "      <td>2021-11-01 07:58:23</td>\n",
       "      <td>우미린풀하우스건너</td>\n",
       "      <td>128.436179</td>\n",
       "      <td>36.161001</td>\n",
       "      <td>우미린풀하우스건너 - 우미린풀하우스정문</td>\n",
       "      <td>0 days 00:05:02</td>\n",
       "      <td>5.033333</td>\n",
       "    </tr>\n",
       "    <tr>\n",
       "      <th>1134</th>\n",
       "      <td>910</td>\n",
       "      <td>정방향</td>\n",
       "      <td>0</td>\n",
       "      <td>2021-10-22 07:25:36</td>\n",
       "      <td>2021-10-22 07:25:49</td>\n",
       "      <td>공단본부건너</td>\n",
       "      <td>128.376794</td>\n",
       "      <td>36.110770</td>\n",
       "      <td>공단본부건너 - 세무서네거리</td>\n",
       "      <td>0 days 00:05:01</td>\n",
       "      <td>5.016667</td>\n",
       "    </tr>\n",
       "  </tbody>\n",
       "</table>\n",
       "</div>"
      ],
      "text/plain": [
       "     버스노선_이름 버스노선_방향  버스노선_경유코드                도착시간                출발시간  \\\n",
       "1622     910     정방향          0 2021-10-23 15:08:58 2021-10-23 15:09:16   \n",
       "4057     910     정방향          0 2021-11-05 07:22:28 2021-11-05 07:22:44   \n",
       "1013     910     정방향          0 2021-10-20 15:09:58 2021-10-20 15:10:14   \n",
       "3416     910     정방향          0 2021-11-01 07:58:06 2021-11-01 07:58:23   \n",
       "1134     910     정방향          0 2021-10-22 07:25:36 2021-10-22 07:25:49   \n",
       "\n",
       "          정류장_이름          경도         위도                   구간_이름  \\\n",
       "1622  인덕중흥S클래스건너  128.442420  36.163866  인덕중흥S클래스건너 - 인덕중흥S클래스앞   \n",
       "4057      공단본부건너  128.376794  36.110770         공단본부건너 - 세무서네거리   \n",
       "1013     인덕중학교건너  128.438741  36.161121     인덕중학교건너 - 인덕중흥S클래스앞   \n",
       "3416   우미린풀하우스건너  128.436179  36.161001   우미린풀하우스건너 - 우미린풀하우스정문   \n",
       "1134      공단본부건너  128.376794  36.110770         공단본부건너 - 세무서네거리   \n",
       "\n",
       "             구간_걸린시간    걸린시간_분  \n",
       "1622 0 days 00:05:07  5.116667  \n",
       "4057 0 days 00:05:03  5.050000  \n",
       "1013 0 days 00:05:03  5.050000  \n",
       "3416 0 days 00:05:02  5.033333  \n",
       "1134 0 days 00:05:01  5.016667  "
      ]
     },
     "execution_count": 15,
     "metadata": {},
     "output_type": "execute_result"
    }
   ],
   "source": [
    "# 값 확인\n",
    "bus910['걸린시간_분'] = bus910.구간_걸린시간.dt.total_seconds() / 60\n",
    "bus910[bus910.걸린시간_분 > 5].sort_values('걸린시간_분', ascending=0).tail(5)"
   ]
  },
  {
   "cell_type": "code",
   "execution_count": 16,
   "metadata": {},
   "outputs": [
    {
     "data": {
      "text/html": [
       "<div>\n",
       "<style scoped>\n",
       "    .dataframe tbody tr th:only-of-type {\n",
       "        vertical-align: middle;\n",
       "    }\n",
       "\n",
       "    .dataframe tbody tr th {\n",
       "        vertical-align: top;\n",
       "    }\n",
       "\n",
       "    .dataframe thead th {\n",
       "        text-align: right;\n",
       "    }\n",
       "</style>\n",
       "<table border=\"1\" class=\"dataframe\">\n",
       "  <thead>\n",
       "    <tr style=\"text-align: right;\">\n",
       "      <th></th>\n",
       "      <th>버스노선_이름</th>\n",
       "      <th>버스노선_방향</th>\n",
       "      <th>버스노선_경유코드</th>\n",
       "      <th>도착시간</th>\n",
       "      <th>출발시간</th>\n",
       "      <th>정류장_이름</th>\n",
       "      <th>경도</th>\n",
       "      <th>위도</th>\n",
       "      <th>구간_이름</th>\n",
       "      <th>구간_걸린시간</th>\n",
       "      <th>걸린시간_분</th>\n",
       "    </tr>\n",
       "  </thead>\n",
       "  <tbody>\n",
       "    <tr>\n",
       "      <th>3998</th>\n",
       "      <td>910</td>\n",
       "      <td>정방향</td>\n",
       "      <td>0</td>\n",
       "      <td>2021-11-02 20:09:28</td>\n",
       "      <td>2021-11-02 20:09:36</td>\n",
       "      <td>옥계부영아파트건너</td>\n",
       "      <td>128.418102</td>\n",
       "      <td>36.140893</td>\n",
       "      <td>옥계부영아파트건너 - 옥계성당</td>\n",
       "      <td>0 days 00:01:13</td>\n",
       "      <td>1.216667</td>\n",
       "    </tr>\n",
       "    <tr>\n",
       "      <th>3999</th>\n",
       "      <td>910</td>\n",
       "      <td>정방향</td>\n",
       "      <td>0</td>\n",
       "      <td>2021-11-02 20:10:41</td>\n",
       "      <td>2021-11-02 20:10:49</td>\n",
       "      <td>옥계성당</td>\n",
       "      <td>128.422300</td>\n",
       "      <td>36.145703</td>\n",
       "      <td>옥계성당 - 골드클래스앞</td>\n",
       "      <td>1 days 13:56:27</td>\n",
       "      <td>2276.450000</td>\n",
       "    </tr>\n",
       "    <tr>\n",
       "      <th>4000</th>\n",
       "      <td>910</td>\n",
       "      <td>정방향</td>\n",
       "      <td>0</td>\n",
       "      <td>2021-11-04 10:07:08</td>\n",
       "      <td>2021-11-04 10:07:12</td>\n",
       "      <td>골드클래스앞</td>\n",
       "      <td>128.428267</td>\n",
       "      <td>36.157383</td>\n",
       "      <td>골드클래스앞 - 쌍용예가더파크아파트건너</td>\n",
       "      <td>0 days 00:00:20</td>\n",
       "      <td>0.333333</td>\n",
       "    </tr>\n",
       "    <tr>\n",
       "      <th>4001</th>\n",
       "      <td>910</td>\n",
       "      <td>정방향</td>\n",
       "      <td>0</td>\n",
       "      <td>2021-11-04 10:07:28</td>\n",
       "      <td>2021-11-04 10:07:37</td>\n",
       "      <td>쌍용예가더파크아파트건너</td>\n",
       "      <td>128.428493</td>\n",
       "      <td>36.159739</td>\n",
       "      <td>쌍용예가더파크아파트건너 - 우미린센트럴파크 후문</td>\n",
       "      <td>0 days 00:00:33</td>\n",
       "      <td>0.550000</td>\n",
       "    </tr>\n",
       "  </tbody>\n",
       "</table>\n",
       "</div>"
      ],
      "text/plain": [
       "     버스노선_이름 버스노선_방향  버스노선_경유코드                도착시간                출발시간  \\\n",
       "3998     910     정방향          0 2021-11-02 20:09:28 2021-11-02 20:09:36   \n",
       "3999     910     정방향          0 2021-11-02 20:10:41 2021-11-02 20:10:49   \n",
       "4000     910     정방향          0 2021-11-04 10:07:08 2021-11-04 10:07:12   \n",
       "4001     910     정방향          0 2021-11-04 10:07:28 2021-11-04 10:07:37   \n",
       "\n",
       "            정류장_이름          경도         위도                       구간_이름  \\\n",
       "3998     옥계부영아파트건너  128.418102  36.140893            옥계부영아파트건너 - 옥계성당   \n",
       "3999          옥계성당  128.422300  36.145703               옥계성당 - 골드클래스앞   \n",
       "4000        골드클래스앞  128.428267  36.157383       골드클래스앞 - 쌍용예가더파크아파트건너   \n",
       "4001  쌍용예가더파크아파트건너  128.428493  36.159739  쌍용예가더파크아파트건너 - 우미린센트럴파크 후문   \n",
       "\n",
       "             구간_걸린시간       걸린시간_분  \n",
       "3998 0 days 00:01:13     1.216667  \n",
       "3999 1 days 13:56:27  2276.450000  \n",
       "4000 0 days 00:00:20     0.333333  \n",
       "4001 0 days 00:00:33     0.550000  "
      ]
     },
     "execution_count": 16,
     "metadata": {},
     "output_type": "execute_result"
    }
   ],
   "source": [
    "bus910.iloc[3998:4002]"
   ]
  },
  {
   "cell_type": "code",
   "execution_count": 17,
   "metadata": {},
   "outputs": [
    {
     "data": {
      "text/html": [
       "<div>\n",
       "<style scoped>\n",
       "    .dataframe tbody tr th:only-of-type {\n",
       "        vertical-align: middle;\n",
       "    }\n",
       "\n",
       "    .dataframe tbody tr th {\n",
       "        vertical-align: top;\n",
       "    }\n",
       "\n",
       "    .dataframe thead th {\n",
       "        text-align: right;\n",
       "    }\n",
       "</style>\n",
       "<table border=\"1\" class=\"dataframe\">\n",
       "  <thead>\n",
       "    <tr style=\"text-align: right;\">\n",
       "      <th></th>\n",
       "      <th>구간_이름</th>\n",
       "      <th>구간_고유번호</th>\n",
       "      <th>구간_거리(m)</th>\n",
       "    </tr>\n",
       "  </thead>\n",
       "  <tbody>\n",
       "    <tr>\n",
       "      <th>0</th>\n",
       "      <td>구미역 - 농협</td>\n",
       "      <td>10080 - 10167</td>\n",
       "      <td>445</td>\n",
       "    </tr>\n",
       "    <tr>\n",
       "      <th>1</th>\n",
       "      <td>농협 - 금오산사거리</td>\n",
       "      <td>10167 - 10134</td>\n",
       "      <td>230</td>\n",
       "    </tr>\n",
       "    <tr>\n",
       "      <th>2</th>\n",
       "      <td>금오산사거리 - 원평동 행정복지센터 건너</td>\n",
       "      <td>10134 - 10901</td>\n",
       "      <td>225</td>\n",
       "    </tr>\n",
       "  </tbody>\n",
       "</table>\n",
       "</div>"
      ],
      "text/plain": [
       "                    구간_이름        구간_고유번호  구간_거리(m)\n",
       "0                구미역 - 농협  10080 - 10167       445\n",
       "1             농협 - 금오산사거리  10167 - 10134       230\n",
       "2  금오산사거리 - 원평동 행정복지센터 건너  10134 - 10901       225"
      ]
     },
     "execution_count": 17,
     "metadata": {},
     "output_type": "execute_result"
    }
   ],
   "source": [
    "# 구간 데이터 불러오기: 구간과 구간_걸린시간 데이터를 합치기\n",
    "bus910_route = pd.read_excel(\"910번_버스_구간거리.xlsx\", sheet_name='Sheet1'\n",
    "              , engine= 'openpyxl')\n",
    "bus910_route.head(3)"
   ]
  },
  {
   "cell_type": "code",
   "execution_count": 18,
   "metadata": {},
   "outputs": [
    {
     "name": "stdout",
     "output_type": "stream",
     "text": [
      "걸린시간이 없는 구간 리스트:\n",
      " ['오성예식장앞 - 구미IC네거리(구미경찰서방면)' '구미IC네거리(구미경찰서방면) - 구미경찰서건너'\n",
      " '우미린센트럴파크 후문 - 산동농협경제사업소앞' '산동농협경제사업소앞 - 산동보건지소앞' '산동보건지소앞 - 인덕리(확장단지방면)'\n",
      " '인덕리(확장단지방면) - 인덕중흥S클래스앞' '구미경찰서 - 구미IC네거리(구미종합터미널건너방면)'\n",
      " '구미IC네거리(구미종합터미널건너방면) - 구미종합터미널건너']\n",
      "걸린시간 값이 없는 구간의 수:\n",
      " 8\n"
     ]
    }
   ],
   "source": [
    "# 910번 구간과 걸린시간을 매핑\n",
    "bus910_route_time = pd.merge(bus910_route, bus910, on= '구간_이름', how= 'left')\n",
    "\n",
    "# 걸린시간이 na값인 구간의 이름을 출력\n",
    "print(f\"걸린시간이 없는 구간 리스트:\\n {bus910_route_time[bus910_route_time.구간_걸린시간.isna()].구간_이름.values}\")\n",
    "print(f\"걸린시간 값이 없는 구간의 수:\\n {len(bus910_route_time[bus910_route_time.구간_걸린시간.isna()])}\")"
   ]
  },
  {
   "cell_type": "code",
   "execution_count": 19,
   "metadata": {},
   "outputs": [
    {
     "data": {
      "image/png": "[encoded data removed]",
      "text/plain": [
       "<Figure size 640x480 with 1 Axes>"
      ]
     },
     "metadata": {},
     "output_type": "display_data"
    },
    {
     "data": {
      "image/png": "[encoded data removed]",
      "text/plain": [
       "<Figure size 640x480 with 1 Axes>"
      ]
     },
     "metadata": {},
     "output_type": "display_data"
    }
   ],
   "source": [
    "# 구간별 걸린시간의 수 구하기\n",
    "time_count = bus910_route_time.groupby(\"구간_이름\")[\"구간_걸린시간\"].count()\n",
    "plt.bar(range(len(time_count)), time_count.values)\n",
    "plt.show()\n",
    "\n",
    "# 걸린시간이 없는 구간, 있는 구간의 수를 막대 그래프로 그리기\n",
    "plt.bar(['na', 'not-na'], [(time_count == 0).sum(), (time_count != 0).sum()])\n",
    "plt.show()\n"
   ]
  },
  {
   "cell_type": "markdown",
   "metadata": {},
   "source": [
    "### ***버스번호 변경 확인***"
   ]
  },
  {
   "cell_type": "code",
   "execution_count": 20,
   "metadata": {},
   "outputs": [
    {
     "data": {
      "text/html": [
       "<div>\n",
       "<style scoped>\n",
       "    .dataframe tbody tr th:only-of-type {\n",
       "        vertical-align: middle;\n",
       "    }\n",
       "\n",
       "    .dataframe tbody tr th {\n",
       "        vertical-align: top;\n",
       "    }\n",
       "\n",
       "    .dataframe thead th {\n",
       "        text-align: right;\n",
       "    }\n",
       "</style>\n",
       "<table border=\"1\" class=\"dataframe\">\n",
       "  <thead>\n",
       "    <tr style=\"text-align: right;\">\n",
       "      <th></th>\n",
       "      <th>버스노선_이름</th>\n",
       "      <th>버스노선_방향</th>\n",
       "      <th>버스노선_경유코드</th>\n",
       "      <th>도착시간</th>\n",
       "      <th>출발시간</th>\n",
       "      <th>정류장_이름</th>\n",
       "    </tr>\n",
       "  </thead>\n",
       "  <tbody>\n",
       "    <tr>\n",
       "      <th>0</th>\n",
       "      <td>140</td>\n",
       "      <td>순환</td>\n",
       "      <td>0</td>\n",
       "      <td>2021-11-10 01:59:15</td>\n",
       "      <td>2021-11-10 01:59:26</td>\n",
       "      <td>푸르지오캐슬B단지</td>\n",
       "    </tr>\n",
       "    <tr>\n",
       "      <th>1</th>\n",
       "      <td>380-1</td>\n",
       "      <td>정방향</td>\n",
       "      <td>0</td>\n",
       "      <td>2021-11-10 03:11:07</td>\n",
       "      <td>2021-11-10 03:11:16</td>\n",
       "      <td>각산네거리</td>\n",
       "    </tr>\n",
       "    <tr>\n",
       "      <th>2</th>\n",
       "      <td>885</td>\n",
       "      <td>정방향</td>\n",
       "      <td>0</td>\n",
       "      <td>2021-11-10 06:06:23</td>\n",
       "      <td>2021-11-10 06:07:03</td>\n",
       "      <td>금오산사거리</td>\n",
       "    </tr>\n",
       "  </tbody>\n",
       "</table>\n",
       "</div>"
      ],
      "text/plain": [
       "  버스노선_이름 버스노선_방향  버스노선_경유코드                도착시간                출발시간  \\\n",
       "0     140      순환          0 2021-11-10 01:59:15 2021-11-10 01:59:26   \n",
       "1   380-1     정방향          0 2021-11-10 03:11:07 2021-11-10 03:11:16   \n",
       "2     885     정방향          0 2021-11-10 06:06:23 2021-11-10 06:07:03   \n",
       "\n",
       "      정류장_이름  \n",
       "0  푸르지오캐슬B단지  \n",
       "1      각산네거리  \n",
       "2     금오산사거리  "
      ]
     },
     "execution_count": 20,
     "metadata": {},
     "output_type": "execute_result"
    }
   ],
   "source": [
    "# 필요한 데이터만 고르기\n",
    "target_columns = ['버스노선_이름', '버스노선_방향', '버스노선_경유코드', '도착시간', '출발시간', '정류장_이름']\n",
    "df = df[target_columns]\n",
    "df.head(3)"
   ]
  },
  {
   "cell_type": "code",
   "execution_count": 21,
   "metadata": {},
   "outputs": [
    {
     "data": {
      "text/plain": [
       "305"
      ]
     },
     "execution_count": 21,
     "metadata": {},
     "output_type": "execute_result"
    }
   ],
   "source": [
    "# 버스노선_이름, 버스노선_방향 같으면 같은 버스? \n",
    "# 노선ID (버스 구별자) 만들기\n",
    "\n",
    "len(df.groupby(['버스노선_이름', '버스노선_방향']))"
   ]
  },
  {
   "cell_type": "code",
   "execution_count": 22,
   "metadata": {},
   "outputs": [
    {
     "data": {
      "text/html": [
       "<div>\n",
       "<style scoped>\n",
       "    .dataframe tbody tr th:only-of-type {\n",
       "        vertical-align: middle;\n",
       "    }\n",
       "\n",
       "    .dataframe tbody tr th {\n",
       "        vertical-align: top;\n",
       "    }\n",
       "\n",
       "    .dataframe thead th {\n",
       "        text-align: right;\n",
       "    }\n",
       "</style>\n",
       "<table border=\"1\" class=\"dataframe\">\n",
       "  <thead>\n",
       "    <tr style=\"text-align: right;\">\n",
       "      <th></th>\n",
       "      <th>버스노선_이름</th>\n",
       "      <th>버스노선_방향</th>\n",
       "      <th>버스노선_경유코드</th>\n",
       "      <th>도착시간</th>\n",
       "      <th>출발시간</th>\n",
       "      <th>정류장_이름</th>\n",
       "      <th>이름_방향</th>\n",
       "    </tr>\n",
       "  </thead>\n",
       "  <tbody>\n",
       "    <tr>\n",
       "      <th>0</th>\n",
       "      <td>140</td>\n",
       "      <td>순환</td>\n",
       "      <td>0</td>\n",
       "      <td>2021-11-10 01:59:15</td>\n",
       "      <td>2021-11-10 01:59:26</td>\n",
       "      <td>푸르지오캐슬B단지</td>\n",
       "      <td>140_순환</td>\n",
       "    </tr>\n",
       "    <tr>\n",
       "      <th>1</th>\n",
       "      <td>380-1</td>\n",
       "      <td>정방향</td>\n",
       "      <td>0</td>\n",
       "      <td>2021-11-10 03:11:07</td>\n",
       "      <td>2021-11-10 03:11:16</td>\n",
       "      <td>각산네거리</td>\n",
       "      <td>380-1_정방향</td>\n",
       "    </tr>\n",
       "    <tr>\n",
       "      <th>2</th>\n",
       "      <td>885</td>\n",
       "      <td>정방향</td>\n",
       "      <td>0</td>\n",
       "      <td>2021-11-10 06:06:23</td>\n",
       "      <td>2021-11-10 06:07:03</td>\n",
       "      <td>금오산사거리</td>\n",
       "      <td>885_정방향</td>\n",
       "    </tr>\n",
       "  </tbody>\n",
       "</table>\n",
       "</div>"
      ],
      "text/plain": [
       "  버스노선_이름 버스노선_방향  버스노선_경유코드                도착시간                출발시간  \\\n",
       "0     140      순환          0 2021-11-10 01:59:15 2021-11-10 01:59:26   \n",
       "1   380-1     정방향          0 2021-11-10 03:11:07 2021-11-10 03:11:16   \n",
       "2     885     정방향          0 2021-11-10 06:06:23 2021-11-10 06:07:03   \n",
       "\n",
       "      정류장_이름      이름_방향  \n",
       "0  푸르지오캐슬B단지     140_순환  \n",
       "1      각산네거리  380-1_정방향  \n",
       "2     금오산사거리    885_정방향  "
      ]
     },
     "execution_count": 22,
     "metadata": {},
     "output_type": "execute_result"
    }
   ],
   "source": [
    "df['이름_방향'] = df.버스노선_이름 + '_' + df.버스노선_방향\n",
    "df.head(3)"
   ]
  },
  {
   "cell_type": "code",
   "execution_count": 23,
   "metadata": {},
   "outputs": [
    {
     "data": {
      "text/plain": [
       "305"
      ]
     },
     "execution_count": 23,
     "metadata": {},
     "output_type": "execute_result"
    }
   ],
   "source": [
    "# 고유한 노선 수: 305개\n",
    "df.이름_방향.nunique()"
   ]
  },
  {
   "cell_type": "code",
   "execution_count": 24,
   "metadata": {},
   "outputs": [
    {
     "data": {
      "text/plain": [
       "array(['140_순환', '380-1_정방향', '885_정방향', ..., '554_정방향', '554_정방향',\n",
       "       '554_정방향'], dtype=object)"
      ]
     },
     "execution_count": 24,
     "metadata": {},
     "output_type": "execute_result"
    }
   ],
   "source": [
    "# 노선ID로 바꿀 버스번호_방향들\n",
    "df.이름_방향.values"
   ]
  },
  {
   "cell_type": "code",
   "execution_count": 25,
   "metadata": {},
   "outputs": [
    {
     "data": {
      "text/plain": [
       "array(['140', '380-1', '885', '95-1', '172', '12', '890', '92', '74',\n",
       "       '55', '740', '195', '181', '11', '340', '180', '140-2', '190-3',\n",
       "       '411-6', '171-4', '24', '26-2', '360', '410-7', '340-4', '185',\n",
       "       '881', '110', '5000', '10', '171', '140-3', '187-1', '380', '90',\n",
       "       '73-3', '187', '29', '891', '175', '74-2', '340-5', '410-3', '57',\n",
       "       '162-1', '72-3', '192', '340-3', '53', '140-6', '20', '910-1',\n",
       "       '885-1', '11-1', '93', '120', '411-4', '170', '140-1', '182-2',\n",
       "       '94', '51', '193', '884-2', '411-5', '196', '21', '884', '78',\n",
       "       '111', '553', '161', '52', '555-1', '404', '24-1', '260', '174-1',\n",
       "       '72-6', '160', '20-1', '22', '185-2', '78-3', '730', '97', '27',\n",
       "       '26', '184', '11-5', '360-2', '28-1', '80', '71', '83', '11-3',\n",
       "       '5200', '182-1', '883', '70-3', '460', '162', '360-3', '380-2',\n",
       "       '70-2', '188', '380-3', '340-1', '11-4', '910', '91', '95-2',\n",
       "       '361', '183', '26-1', '303', '20-3', '60', '360-1', '170-2', '410',\n",
       "       '404-1', '303-1', '411-1', '171-3', '78-2', '410-6', '101-1',\n",
       "       '5100', '190-2', '881-1', '90-2', '891-2', '186', '95', '666',\n",
       "       '101', '70', '85', '74-3', '340-7', '340-2', '70-4', '84', '411-3',\n",
       "       '140-7', '72-1', '53-1', '74-1', '10-2', '80-1', '883-1', '191',\n",
       "       '410-2', '73-2', '73', '171-1', '900', '10-1', '190', '92-2',\n",
       "       '411-2', '891-1', '182', '777', '52-1', '23', '174', '710', '71-1',\n",
       "       '92-1', '884-1', '411', '11-6', '882', '557', '1-1', '72-2', '173',\n",
       "       '70-1', '74-4', '51-1', '194', '25', '96', '72-7', '554', '28',\n",
       "       '174-2', '20-2', '461', '410-1', '60-1', '72', '72-5', '410-5',\n",
       "       '410-4', '72-4', '86', '171-2', '78-1', '73-1', '11-2', '78-4',\n",
       "       '193-2', '190-1', '411-7'], dtype=object)"
      ]
     },
     "execution_count": 25,
     "metadata": {},
     "output_type": "execute_result"
    }
   ],
   "source": [
    "# 현재 없는 버스번호?\n",
    "# 버스번호 고유값 확인\n",
    "df.버스노선_이름.unique()"
   ]
  },
  {
   "cell_type": "code",
   "execution_count": 26,
   "metadata": {},
   "outputs": [
    {
     "data": {
      "text/html": [
       "<div>\n",
       "<style scoped>\n",
       "    .dataframe tbody tr th:only-of-type {\n",
       "        vertical-align: middle;\n",
       "    }\n",
       "\n",
       "    .dataframe tbody tr th {\n",
       "        vertical-align: top;\n",
       "    }\n",
       "\n",
       "    .dataframe thead th {\n",
       "        text-align: right;\n",
       "    }\n",
       "</style>\n",
       "<table border=\"1\" class=\"dataframe\">\n",
       "  <thead>\n",
       "    <tr style=\"text-align: right;\">\n",
       "      <th></th>\n",
       "      <th>종점</th>\n",
       "      <th>막차시간</th>\n",
       "      <th>노선ID</th>\n",
       "      <th>노선번호</th>\n",
       "      <th>노선유형</th>\n",
       "      <th>기점</th>\n",
       "      <th>첫차시간</th>\n",
       "    </tr>\n",
       "  </thead>\n",
       "  <tbody>\n",
       "    <tr>\n",
       "      <th>0</th>\n",
       "      <td>구미역(중앙시장)</td>\n",
       "      <td>2146</td>\n",
       "      <td>GMB19120</td>\n",
       "      <td>191</td>\n",
       "      <td>일반버스</td>\n",
       "      <td>옥계이편한세상APT앞</td>\n",
       "      <td>908</td>\n",
       "    </tr>\n",
       "    <tr>\n",
       "      <th>1</th>\n",
       "      <td>해평버스정류장</td>\n",
       "      <td>2150</td>\n",
       "      <td>GMB19210</td>\n",
       "      <td>192</td>\n",
       "      <td>좌석버스</td>\n",
       "      <td>구미역</td>\n",
       "      <td>835</td>\n",
       "    </tr>\n",
       "    <tr>\n",
       "      <th>2</th>\n",
       "      <td>구미역(중앙시장)</td>\n",
       "      <td>2253</td>\n",
       "      <td>GMB19220</td>\n",
       "      <td>192</td>\n",
       "      <td>좌석버스</td>\n",
       "      <td>해평버스정류장</td>\n",
       "      <td>625</td>\n",
       "    </tr>\n",
       "  </tbody>\n",
       "</table>\n",
       "</div>"
      ],
      "text/plain": [
       "          종점  막차시간      노선ID 노선번호  노선유형           기점  첫차시간\n",
       "0  구미역(중앙시장)  2146  GMB19120  191  일반버스  옥계이편한세상APT앞   908\n",
       "1    해평버스정류장  2150  GMB19210  192  좌석버스          구미역   835\n",
       "2  구미역(중앙시장)  2253  GMB19220  192  좌석버스      해평버스정류장   625"
      ]
     },
     "execution_count": 26,
     "metadata": {},
     "output_type": "execute_result"
    }
   ],
   "source": [
    "# 현재 구미시 버스번호 가져오기\n",
    "route_list = pd.read_csv('구미버스_노선번호.csv')\n",
    "route_list.head(3)"
   ]
  },
  {
   "cell_type": "code",
   "execution_count": 27,
   "metadata": {},
   "outputs": [
    {
     "name": "stdout",
     "output_type": "stream",
     "text": [
      "207\n",
      "10\n"
     ]
    }
   ],
   "source": [
    "# 버스번호 업데이트 확인: 10개의 버스번호가 변경됨\n",
    "\n",
    "past_bus = set(df.버스노선_이름.unique())\n",
    "print(len(past_bus))\n",
    "now_bus = set(route_list.노선번호.unique())\n",
    "changed_bus = past_bus - now_bus\n",
    "print(len(changed_bus))"
   ]
  },
  {
   "cell_type": "markdown",
   "metadata": {},
   "source": [
    "### ***다른 노선도 910번처럼 노선과 걸린시간 구하기***"
   ]
  },
  {
   "cell_type": "code",
   "execution_count": 28,
   "metadata": {},
   "outputs": [
    {
     "data": {
      "text/html": [
       "<div>\n",
       "<style scoped>\n",
       "    .dataframe tbody tr th:only-of-type {\n",
       "        vertical-align: middle;\n",
       "    }\n",
       "\n",
       "    .dataframe tbody tr th {\n",
       "        vertical-align: top;\n",
       "    }\n",
       "\n",
       "    .dataframe thead th {\n",
       "        text-align: right;\n",
       "    }\n",
       "</style>\n",
       "<table border=\"1\" class=\"dataframe\">\n",
       "  <thead>\n",
       "    <tr style=\"text-align: right;\">\n",
       "      <th></th>\n",
       "      <th>버스노선_이름</th>\n",
       "      <th>버스노선_방향</th>\n",
       "      <th>버스노선_경유코드</th>\n",
       "      <th>도착시간</th>\n",
       "      <th>출발시간</th>\n",
       "      <th>정류장_이름</th>\n",
       "      <th>이름_방향</th>\n",
       "    </tr>\n",
       "  </thead>\n",
       "  <tbody>\n",
       "    <tr>\n",
       "      <th>0</th>\n",
       "      <td>140</td>\n",
       "      <td>순환</td>\n",
       "      <td>0</td>\n",
       "      <td>2021-11-10 01:59:15</td>\n",
       "      <td>2021-11-10 01:59:26</td>\n",
       "      <td>푸르지오캐슬B단지</td>\n",
       "      <td>140_순환</td>\n",
       "    </tr>\n",
       "    <tr>\n",
       "      <th>1</th>\n",
       "      <td>380-1</td>\n",
       "      <td>정방향</td>\n",
       "      <td>0</td>\n",
       "      <td>2021-11-10 03:11:07</td>\n",
       "      <td>2021-11-10 03:11:16</td>\n",
       "      <td>각산네거리</td>\n",
       "      <td>380-1_정방향</td>\n",
       "    </tr>\n",
       "    <tr>\n",
       "      <th>2</th>\n",
       "      <td>885</td>\n",
       "      <td>정방향</td>\n",
       "      <td>0</td>\n",
       "      <td>2021-11-10 06:06:23</td>\n",
       "      <td>2021-11-10 06:07:03</td>\n",
       "      <td>금오산사거리</td>\n",
       "      <td>885_정방향</td>\n",
       "    </tr>\n",
       "  </tbody>\n",
       "</table>\n",
       "</div>"
      ],
      "text/plain": [
       "  버스노선_이름 버스노선_방향  버스노선_경유코드                도착시간                출발시간  \\\n",
       "0     140      순환          0 2021-11-10 01:59:15 2021-11-10 01:59:26   \n",
       "1   380-1     정방향          0 2021-11-10 03:11:07 2021-11-10 03:11:16   \n",
       "2     885     정방향          0 2021-11-10 06:06:23 2021-11-10 06:07:03   \n",
       "\n",
       "      정류장_이름      이름_방향  \n",
       "0  푸르지오캐슬B단지     140_순환  \n",
       "1      각산네거리  380-1_정방향  \n",
       "2     금오산사거리    885_정방향  "
      ]
     },
     "metadata": {},
     "output_type": "display_data"
    },
    {
     "data": {
      "text/plain": [
       "(1213843, 7)"
      ]
     },
     "metadata": {},
     "output_type": "display_data"
    }
   ],
   "source": [
    "# df 컬럼명 확인\n",
    "display(df.head(3), df.shape)"
   ]
  },
  {
   "cell_type": "code",
   "execution_count": 29,
   "metadata": {},
   "outputs": [
    {
     "data": {
      "text/plain": [
       "array(['140_순환', '380-1_정방향', '885_정방향', '95-1_정방향', '172_역방향'],\n",
       "      dtype=object)"
      ]
     },
     "execution_count": 29,
     "metadata": {},
     "output_type": "execute_result"
    }
   ],
   "source": [
    "# 고유 버스 조회\n",
    "unique_route = df.이름_방향.unique()\n",
    "unique_route[:5]"
   ]
  },
  {
   "cell_type": "code",
   "execution_count": 30,
   "metadata": {},
   "outputs": [],
   "source": [
    "# 이름_방향으로 데이터프레임 구분\n",
    "res=[]\n",
    "for route in unique_route:\n",
    "   route_log = df[df.이름_방향 == route].sort_values('도착시간')\n",
    "   route_log['구간_이름'] = route_log.정류장_이름 + \" - \" + route_log.정류장_이름.shift(-1)\n",
    "   route_log['구간_걸린시간'] = route_log.도착시간.shift(-1) - route_log.도착시간\n",
    "   res.append(route_log)\n",
    "df_route = pd.concat(res, ignore_index=True)"
   ]
  },
  {
   "cell_type": "code",
   "execution_count": 31,
   "metadata": {},
   "outputs": [
    {
     "data": {
      "text/html": [
       "<div>\n",
       "<style scoped>\n",
       "    .dataframe tbody tr th:only-of-type {\n",
       "        vertical-align: middle;\n",
       "    }\n",
       "\n",
       "    .dataframe tbody tr th {\n",
       "        vertical-align: top;\n",
       "    }\n",
       "\n",
       "    .dataframe thead th {\n",
       "        text-align: right;\n",
       "    }\n",
       "</style>\n",
       "<table border=\"1\" class=\"dataframe\">\n",
       "  <thead>\n",
       "    <tr style=\"text-align: right;\">\n",
       "      <th></th>\n",
       "      <th>버스노선_이름</th>\n",
       "      <th>버스노선_방향</th>\n",
       "      <th>버스노선_경유코드</th>\n",
       "      <th>도착시간</th>\n",
       "      <th>출발시간</th>\n",
       "      <th>정류장_이름</th>\n",
       "      <th>이름_방향</th>\n",
       "      <th>구간_이름</th>\n",
       "      <th>구간_걸린시간</th>\n",
       "    </tr>\n",
       "  </thead>\n",
       "  <tbody>\n",
       "    <tr>\n",
       "      <th>0</th>\n",
       "      <td>140</td>\n",
       "      <td>순환</td>\n",
       "      <td>0</td>\n",
       "      <td>2021-10-11 06:06:01</td>\n",
       "      <td>2021-10-11 06:06:15</td>\n",
       "      <td>농협</td>\n",
       "      <td>140_순환</td>\n",
       "      <td>농협 - 금오산사거리</td>\n",
       "      <td>0 days 00:00:29</td>\n",
       "    </tr>\n",
       "    <tr>\n",
       "      <th>1</th>\n",
       "      <td>140</td>\n",
       "      <td>순환</td>\n",
       "      <td>0</td>\n",
       "      <td>2021-10-11 06:06:30</td>\n",
       "      <td>2021-10-11 06:06:55</td>\n",
       "      <td>금오산사거리</td>\n",
       "      <td>140_순환</td>\n",
       "      <td>금오산사거리 - 푸르지오캐슬B단지</td>\n",
       "      <td>0 days 00:02:28</td>\n",
       "    </tr>\n",
       "    <tr>\n",
       "      <th>2</th>\n",
       "      <td>140</td>\n",
       "      <td>순환</td>\n",
       "      <td>0</td>\n",
       "      <td>2021-10-11 06:08:58</td>\n",
       "      <td>2021-10-11 06:09:17</td>\n",
       "      <td>푸르지오캐슬B단지</td>\n",
       "      <td>140_순환</td>\n",
       "      <td>푸르지오캐슬B단지 - 가톨릭근로자문화센타</td>\n",
       "      <td>0 days 00:00:26</td>\n",
       "    </tr>\n",
       "    <tr>\n",
       "      <th>3</th>\n",
       "      <td>140</td>\n",
       "      <td>순환</td>\n",
       "      <td>0</td>\n",
       "      <td>2021-10-11 06:09:24</td>\n",
       "      <td>2021-10-11 06:09:37</td>\n",
       "      <td>가톨릭근로자문화센타</td>\n",
       "      <td>140_순환</td>\n",
       "      <td>가톨릭근로자문화센타 - 송정동번개시장건너</td>\n",
       "      <td>0 days 00:01:51</td>\n",
       "    </tr>\n",
       "    <tr>\n",
       "      <th>4</th>\n",
       "      <td>140</td>\n",
       "      <td>순환</td>\n",
       "      <td>0</td>\n",
       "      <td>2021-10-11 06:11:15</td>\n",
       "      <td>2021-10-11 06:11:29</td>\n",
       "      <td>송정동번개시장건너</td>\n",
       "      <td>140_순환</td>\n",
       "      <td>송정동번개시장건너 - 시청후문앞</td>\n",
       "      <td>0 days 00:00:46</td>\n",
       "    </tr>\n",
       "  </tbody>\n",
       "</table>\n",
       "</div>"
      ],
      "text/plain": [
       "  버스노선_이름 버스노선_방향  버스노선_경유코드                도착시간                출발시간  \\\n",
       "0     140      순환          0 2021-10-11 06:06:01 2021-10-11 06:06:15   \n",
       "1     140      순환          0 2021-10-11 06:06:30 2021-10-11 06:06:55   \n",
       "2     140      순환          0 2021-10-11 06:08:58 2021-10-11 06:09:17   \n",
       "3     140      순환          0 2021-10-11 06:09:24 2021-10-11 06:09:37   \n",
       "4     140      순환          0 2021-10-11 06:11:15 2021-10-11 06:11:29   \n",
       "\n",
       "       정류장_이름   이름_방향                   구간_이름         구간_걸린시간  \n",
       "0          농협  140_순환             농협 - 금오산사거리 0 days 00:00:29  \n",
       "1      금오산사거리  140_순환      금오산사거리 - 푸르지오캐슬B단지 0 days 00:02:28  \n",
       "2   푸르지오캐슬B단지  140_순환  푸르지오캐슬B단지 - 가톨릭근로자문화센타 0 days 00:00:26  \n",
       "3  가톨릭근로자문화센타  140_순환  가톨릭근로자문화센타 - 송정동번개시장건너 0 days 00:01:51  \n",
       "4   송정동번개시장건너  140_순환       송정동번개시장건너 - 시청후문앞 0 days 00:00:46  "
      ]
     },
     "execution_count": 31,
     "metadata": {},
     "output_type": "execute_result"
    }
   ],
   "source": [
    "# df_route 확인\n",
    "df_route.head()"
   ]
  },
  {
   "cell_type": "code",
   "execution_count": 32,
   "metadata": {},
   "outputs": [
    {
     "data": {
      "text/plain": [
       "(1213843, 2)"
      ]
     },
     "execution_count": 32,
     "metadata": {},
     "output_type": "execute_result"
    }
   ],
   "source": [
    "# 필요한 컬럼만 사용\n",
    "target_columns = ['구간_이름', '구간_걸린시간']\n",
    "df_route = df_route[target_columns]\n",
    "df_route.shape"
   ]
  },
  {
   "cell_type": "markdown",
   "metadata": {},
   "source": [
    "### ***구미 노선별 구간과 매핑***"
   ]
  },
  {
   "cell_type": "code",
   "execution_count": 33,
   "metadata": {},
   "outputs": [
    {
     "data": {
      "text/html": [
       "<div>\n",
       "<style scoped>\n",
       "    .dataframe tbody tr th:only-of-type {\n",
       "        vertical-align: middle;\n",
       "    }\n",
       "\n",
       "    .dataframe tbody tr th {\n",
       "        vertical-align: top;\n",
       "    }\n",
       "\n",
       "    .dataframe thead th {\n",
       "        text-align: right;\n",
       "    }\n",
       "</style>\n",
       "<table border=\"1\" class=\"dataframe\">\n",
       "  <thead>\n",
       "    <tr style=\"text-align: right;\">\n",
       "      <th></th>\n",
       "      <th>노선번호</th>\n",
       "      <th>정류소순서</th>\n",
       "      <th>구간_이름</th>\n",
       "    </tr>\n",
       "  </thead>\n",
       "  <tbody>\n",
       "    <tr>\n",
       "      <th>0</th>\n",
       "      <td>GMB19120</td>\n",
       "      <td>1</td>\n",
       "      <td>옥계이편한세상APT앞 - 우미린더스카이앞</td>\n",
       "    </tr>\n",
       "    <tr>\n",
       "      <th>1</th>\n",
       "      <td>GMB19120</td>\n",
       "      <td>2</td>\n",
       "      <td>우미린더스카이앞 - 4공단(현진아파트방면)</td>\n",
       "    </tr>\n",
       "    <tr>\n",
       "      <th>2</th>\n",
       "      <td>GMB19120</td>\n",
       "      <td>3</td>\n",
       "      <td>4공단(현진아파트방면) - 현진아파트앞</td>\n",
       "    </tr>\n",
       "  </tbody>\n",
       "</table>\n",
       "</div>"
      ],
      "text/plain": [
       "       노선번호  정류소순서                    구간_이름\n",
       "0  GMB19120      1   옥계이편한세상APT앞 - 우미린더스카이앞\n",
       "1  GMB19120      2  우미린더스카이앞 - 4공단(현진아파트방면)\n",
       "2  GMB19120      3    4공단(현진아파트방면) - 현진아파트앞"
      ]
     },
     "execution_count": 33,
     "metadata": {},
     "output_type": "execute_result"
    }
   ],
   "source": [
    "# 구미 모든 구간 가져오기\n",
    "all_route = pd.read_csv(\"구미버스_노선별_구간.csv\")\n",
    "all_route.head(3)\n"
   ]
  },
  {
   "cell_type": "code",
   "execution_count": 34,
   "metadata": {},
   "outputs": [
    {
     "name": "stdout",
     "output_type": "stream",
     "text": [
      "<class 'pandas.core.frame.DataFrame'>\n",
      "RangeIndex: 14066 entries, 0 to 14065\n",
      "Data columns (total 3 columns):\n",
      " #   Column  Non-Null Count  Dtype \n",
      "---  ------  --------------  ----- \n",
      " 0   노선번호    14066 non-null  object\n",
      " 1   정류소순서   14066 non-null  int64 \n",
      " 2   구간_이름   14066 non-null  object\n",
      "dtypes: int64(1), object(2)\n",
      "memory usage: 329.8+ KB\n"
     ]
    },
    {
     "data": {
      "text/plain": [
       "(14066, 3)"
      ]
     },
     "metadata": {},
     "output_type": "display_data"
    },
    {
     "data": {
      "text/plain": [
       "None"
      ]
     },
     "metadata": {},
     "output_type": "display_data"
    }
   ],
   "source": [
    "# 모든 구간 df 정보 확인\n",
    "display(all_route.shape, all_route.info())"
   ]
  },
  {
   "cell_type": "code",
   "execution_count": 35,
   "metadata": {},
   "outputs": [
    {
     "name": "stdout",
     "output_type": "stream",
     "text": [
      "<class 'pandas.core.frame.DataFrame'>\n",
      "RangeIndex: 15114142 entries, 0 to 15114141\n",
      "Data columns (total 4 columns):\n",
      " #   Column   Dtype          \n",
      "---  ------   -----          \n",
      " 0   노선번호     object         \n",
      " 1   정류소순서    int64          \n",
      " 2   구간_이름    object         \n",
      " 3   구간_걸린시간  timedelta64[ns]\n",
      "dtypes: int64(1), object(2), timedelta64[ns](1)\n",
      "memory usage: 461.2+ MB\n"
     ]
    },
    {
     "data": {
      "text/plain": [
       "(15114142, 4)"
      ]
     },
     "metadata": {},
     "output_type": "display_data"
    },
    {
     "data": {
      "text/plain": [
       "None"
      ]
     },
     "metadata": {},
     "output_type": "display_data"
    }
   ],
   "source": [
    "# 매핑하기\n",
    "route = pd.merge(all_route, df_route, on= '구간_이름', how = 'left')\n",
    "display(route.shape, route.info())"
   ]
  },
  {
   "cell_type": "code",
   "execution_count": 66,
   "metadata": {},
   "outputs": [
    {
     "data": {
      "text/html": [
       "<div>\n",
       "<style scoped>\n",
       "    .dataframe tbody tr th:only-of-type {\n",
       "        vertical-align: middle;\n",
       "    }\n",
       "\n",
       "    .dataframe tbody tr th {\n",
       "        vertical-align: top;\n",
       "    }\n",
       "\n",
       "    .dataframe thead th {\n",
       "        text-align: right;\n",
       "    }\n",
       "</style>\n",
       "<table border=\"1\" class=\"dataframe\">\n",
       "  <thead>\n",
       "    <tr style=\"text-align: right;\">\n",
       "      <th></th>\n",
       "      <th>노선번호</th>\n",
       "      <th>정류소순서</th>\n",
       "      <th>구간_이름</th>\n",
       "      <th>구간_걸린시간</th>\n",
       "    </tr>\n",
       "  </thead>\n",
       "  <tbody>\n",
       "    <tr>\n",
       "      <th>0</th>\n",
       "      <td>GMB19120</td>\n",
       "      <td>1</td>\n",
       "      <td>옥계이편한세상APT앞 - 우미린더스카이앞</td>\n",
       "      <td>0 days 00:01:17</td>\n",
       "    </tr>\n",
       "    <tr>\n",
       "      <th>1</th>\n",
       "      <td>GMB19120</td>\n",
       "      <td>1</td>\n",
       "      <td>옥계이편한세상APT앞 - 우미린더스카이앞</td>\n",
       "      <td>0 days 00:02:21</td>\n",
       "    </tr>\n",
       "    <tr>\n",
       "      <th>2</th>\n",
       "      <td>GMB19120</td>\n",
       "      <td>1</td>\n",
       "      <td>옥계이편한세상APT앞 - 우미린더스카이앞</td>\n",
       "      <td>0 days 00:01:13</td>\n",
       "    </tr>\n",
       "    <tr>\n",
       "      <th>3</th>\n",
       "      <td>GMB19120</td>\n",
       "      <td>1</td>\n",
       "      <td>옥계이편한세상APT앞 - 우미린더스카이앞</td>\n",
       "      <td>0 days 00:02:25</td>\n",
       "    </tr>\n",
       "    <tr>\n",
       "      <th>4</th>\n",
       "      <td>GMB19120</td>\n",
       "      <td>1</td>\n",
       "      <td>옥계이편한세상APT앞 - 우미린더스카이앞</td>\n",
       "      <td>0 days 00:01:59</td>\n",
       "    </tr>\n",
       "  </tbody>\n",
       "</table>\n",
       "</div>"
      ],
      "text/plain": [
       "       노선번호  정류소순서                   구간_이름         구간_걸린시간\n",
       "0  GMB19120      1  옥계이편한세상APT앞 - 우미린더스카이앞 0 days 00:01:17\n",
       "1  GMB19120      1  옥계이편한세상APT앞 - 우미린더스카이앞 0 days 00:02:21\n",
       "2  GMB19120      1  옥계이편한세상APT앞 - 우미린더스카이앞 0 days 00:01:13\n",
       "3  GMB19120      1  옥계이편한세상APT앞 - 우미린더스카이앞 0 days 00:02:25\n",
       "4  GMB19120      1  옥계이편한세상APT앞 - 우미린더스카이앞 0 days 00:01:59"
      ]
     },
     "execution_count": 66,
     "metadata": {},
     "output_type": "execute_result"
    }
   ],
   "source": [
    "# data 확인\n",
    "route.head()"
   ]
  },
  {
   "cell_type": "code",
   "execution_count": null,
   "metadata": {},
   "outputs": [
    {
     "data": {
      "text/plain": [
       "노선번호          0\n",
       "정류소순서         0\n",
       "구간_이름         0\n",
       "구간_걸린시간    1630\n",
       "dtype: int64"
      ]
     },
     "execution_count": 36,
     "metadata": {},
     "output_type": "execute_result"
    }
   ],
   "source": [
    "# null값 확인 -> 1630개 구간에서 null값 확인\n",
    "route.isna().sum()"
   ]
  },
  {
   "cell_type": "code",
   "execution_count": 37,
   "metadata": {},
   "outputs": [
    {
     "data": {
      "text/html": [
       "<div>\n",
       "<style scoped>\n",
       "    .dataframe tbody tr th:only-of-type {\n",
       "        vertical-align: middle;\n",
       "    }\n",
       "\n",
       "    .dataframe tbody tr th {\n",
       "        vertical-align: top;\n",
       "    }\n",
       "\n",
       "    .dataframe thead th {\n",
       "        text-align: right;\n",
       "    }\n",
       "</style>\n",
       "<table border=\"1\" class=\"dataframe\">\n",
       "  <thead>\n",
       "    <tr style=\"text-align: right;\">\n",
       "      <th></th>\n",
       "      <th>노선번호</th>\n",
       "      <th>정류소순서</th>\n",
       "      <th>구간_이름</th>\n",
       "      <th>구간_걸린시간</th>\n",
       "    </tr>\n",
       "  </thead>\n",
       "  <tbody>\n",
       "    <tr>\n",
       "      <th>82150</th>\n",
       "      <td>GMB19210</td>\n",
       "      <td>8</td>\n",
       "      <td>오성예식장앞 - 구미IC네거리(구미경찰서방면)</td>\n",
       "      <td>NaT</td>\n",
       "    </tr>\n",
       "    <tr>\n",
       "      <th>82151</th>\n",
       "      <td>GMB19210</td>\n",
       "      <td>9</td>\n",
       "      <td>구미IC네거리(구미경찰서방면) - 구미경찰서건너</td>\n",
       "      <td>NaT</td>\n",
       "    </tr>\n",
       "    <tr>\n",
       "      <th>113430</th>\n",
       "      <td>GMB19210</td>\n",
       "      <td>32</td>\n",
       "      <td>옥계대백타운입구(4공단방면) - 옥계성당</td>\n",
       "      <td>NaT</td>\n",
       "    </tr>\n",
       "    <tr>\n",
       "      <th>115196</th>\n",
       "      <td>GMB19210</td>\n",
       "      <td>38</td>\n",
       "      <td>우미린센트럴파크 후문 - 중흥S클래스에듀포레앞</td>\n",
       "      <td>NaT</td>\n",
       "    </tr>\n",
       "    <tr>\n",
       "      <th>115197</th>\n",
       "      <td>GMB19210</td>\n",
       "      <td>39</td>\n",
       "      <td>중흥S클래스에듀포레앞 - 인덕중학교건너</td>\n",
       "      <td>NaT</td>\n",
       "    </tr>\n",
       "  </tbody>\n",
       "</table>\n",
       "</div>"
      ],
      "text/plain": [
       "            노선번호  정류소순서                       구간_이름 구간_걸린시간\n",
       "82150   GMB19210      8   오성예식장앞 - 구미IC네거리(구미경찰서방면)     NaT\n",
       "82151   GMB19210      9  구미IC네거리(구미경찰서방면) - 구미경찰서건너     NaT\n",
       "113430  GMB19210     32      옥계대백타운입구(4공단방면) - 옥계성당     NaT\n",
       "115196  GMB19210     38   우미린센트럴파크 후문 - 중흥S클래스에듀포레앞     NaT\n",
       "115197  GMB19210     39       중흥S클래스에듀포레앞 - 인덕중학교건너     NaT"
      ]
     },
     "execution_count": 37,
     "metadata": {},
     "output_type": "execute_result"
    }
   ],
   "source": [
    "# null값 확인\n",
    "route[route.구간_걸린시간.isna()].head()"
   ]
  },
  {
   "cell_type": "code",
   "execution_count": 52,
   "metadata": {},
   "outputs": [],
   "source": [
    "# 노선번호별로 null값 확인 -> 338개 중 292개 노선이 걸린시간이 없는 구간이 있음\n",
    "na_cnt = route[route.구간_걸린시간.isna()].groupby('노선번호').size()"
   ]
  },
  {
   "cell_type": "code",
   "execution_count": 53,
   "metadata": {},
   "outputs": [
    {
     "data": {
      "text/plain": [
       "(array([ 8., 58., 12., 39.,  0., 23., 48., 24., 33.,  0., 18., 11., 12.,\n",
       "         3.,  3.]),\n",
       " array([ 1. ,  1.8,  2.6,  3.4,  4.2,  5. ,  5.8,  6.6,  7.4,  8.2,  9. ,\n",
       "         9.8, 10.6, 11.4, 12.2, 13. ]),\n",
       " <BarContainer object of 15 artists>)"
      ]
     },
     "execution_count": 53,
     "metadata": {},
     "output_type": "execute_result"
    },
    {
     "data": {
      "image/png": "[encoded data removed]",
      "text/plain": [
       "<Figure size 640x480 with 1 Axes>"
      ]
     },
     "metadata": {},
     "output_type": "display_data"
    }
   ],
   "source": [
    "# 노선번호별 정류장 수와 na값 시각화 -> 노선별로 2-8개 정도 구간걸린시간 na값 확인\n",
    "plt.hist(na_cnt.values, bins=15)"
   ]
  },
  {
   "cell_type": "code",
   "execution_count": 54,
   "metadata": {},
   "outputs": [
    {
     "data": {
      "text/plain": [
       "노선번호\n",
       "GMB140-630    11\n",
       "GMB2232       13\n",
       "GMB2330       11\n",
       "GMB40431      12\n",
       "GMB410-131    11\n",
       "GMB410-711    11\n",
       "GMB51-120     11\n",
       "GMB51-121     11\n",
       "GMB5321       13\n",
       "GMB5510       11\n",
       "GMB5511       11\n",
       "GMB5512       11\n",
       "GMB55310      11\n",
       "GMB55320      11\n",
       "GMB72-130     12\n",
       "GMB7230       13\n",
       "GMB80-130     11\n",
       "GMB891-121    12\n",
       "dtype: int64"
      ]
     },
     "execution_count": 54,
     "metadata": {},
     "output_type": "execute_result"
    }
   ],
   "source": [
    "# 모든 노선의 도착시간 필요, 특정 노선 10개만 뽑기\n",
    "na_cnt[na_cnt>10]"
   ]
  },
  {
   "cell_type": "code",
   "execution_count": 55,
   "metadata": {},
   "outputs": [
    {
     "data": {
      "text/html": [
       "<div>\n",
       "<style scoped>\n",
       "    .dataframe tbody tr th:only-of-type {\n",
       "        vertical-align: middle;\n",
       "    }\n",
       "\n",
       "    .dataframe tbody tr th {\n",
       "        vertical-align: top;\n",
       "    }\n",
       "\n",
       "    .dataframe thead th {\n",
       "        text-align: right;\n",
       "    }\n",
       "</style>\n",
       "<table border=\"1\" class=\"dataframe\">\n",
       "  <thead>\n",
       "    <tr style=\"text-align: right;\">\n",
       "      <th></th>\n",
       "      <th>노선ID</th>\n",
       "      <th>na_cnt</th>\n",
       "    </tr>\n",
       "  </thead>\n",
       "  <tbody>\n",
       "    <tr>\n",
       "      <th>0</th>\n",
       "      <td>GMB10-130</td>\n",
       "      <td>4</td>\n",
       "    </tr>\n",
       "    <tr>\n",
       "      <th>1</th>\n",
       "      <td>GMB10-230</td>\n",
       "      <td>2</td>\n",
       "    </tr>\n",
       "    <tr>\n",
       "      <th>2</th>\n",
       "      <td>GMB101-120</td>\n",
       "      <td>1</td>\n",
       "    </tr>\n",
       "    <tr>\n",
       "      <th>3</th>\n",
       "      <td>GMB1010</td>\n",
       "      <td>4</td>\n",
       "    </tr>\n",
       "    <tr>\n",
       "      <th>4</th>\n",
       "      <td>GMB10130</td>\n",
       "      <td>5</td>\n",
       "    </tr>\n",
       "    <tr>\n",
       "      <th>...</th>\n",
       "      <td>...</td>\n",
       "      <td>...</td>\n",
       "    </tr>\n",
       "    <tr>\n",
       "      <th>287</th>\n",
       "      <td>GMB95-111</td>\n",
       "      <td>4</td>\n",
       "    </tr>\n",
       "    <tr>\n",
       "      <th>288</th>\n",
       "      <td>GMB95-121</td>\n",
       "      <td>2</td>\n",
       "    </tr>\n",
       "    <tr>\n",
       "      <th>289</th>\n",
       "      <td>GMB95-220</td>\n",
       "      <td>2</td>\n",
       "    </tr>\n",
       "    <tr>\n",
       "      <th>290</th>\n",
       "      <td>GMB96010</td>\n",
       "      <td>6</td>\n",
       "    </tr>\n",
       "    <tr>\n",
       "      <th>291</th>\n",
       "      <td>GMB96020</td>\n",
       "      <td>5</td>\n",
       "    </tr>\n",
       "  </tbody>\n",
       "</table>\n",
       "<p>292 rows × 2 columns</p>\n",
       "</div>"
      ],
      "text/plain": [
       "           노선ID  na_cnt\n",
       "0     GMB10-130       4\n",
       "1     GMB10-230       2\n",
       "2    GMB101-120       1\n",
       "3       GMB1010       4\n",
       "4      GMB10130       5\n",
       "..          ...     ...\n",
       "287   GMB95-111       4\n",
       "288   GMB95-121       2\n",
       "289   GMB95-220       2\n",
       "290    GMB96010       6\n",
       "291    GMB96020       5\n",
       "\n",
       "[292 rows x 2 columns]"
      ]
     },
     "execution_count": 55,
     "metadata": {},
     "output_type": "execute_result"
    }
   ],
   "source": [
    "na_cnt = pd.DataFrame(na_cnt)\n",
    "na_cnt = na_cnt.reset_index()\n",
    "na_cnt = na_cnt.rename(columns={'노선번호': '노선ID', 0: 'na_cnt'})\n",
    "na_cnt"
   ]
  },
  {
   "cell_type": "code",
   "execution_count": 57,
   "metadata": {},
   "outputs": [
    {
     "data": {
      "text/html": [
       "<div>\n",
       "<style scoped>\n",
       "    .dataframe tbody tr th:only-of-type {\n",
       "        vertical-align: middle;\n",
       "    }\n",
       "\n",
       "    .dataframe tbody tr th {\n",
       "        vertical-align: top;\n",
       "    }\n",
       "\n",
       "    .dataframe thead th {\n",
       "        text-align: right;\n",
       "    }\n",
       "</style>\n",
       "<table border=\"1\" class=\"dataframe\">\n",
       "  <thead>\n",
       "    <tr style=\"text-align: right;\">\n",
       "      <th></th>\n",
       "      <th>종점</th>\n",
       "      <th>막차시간</th>\n",
       "      <th>노선ID</th>\n",
       "      <th>노선번호</th>\n",
       "      <th>노선유형</th>\n",
       "      <th>기점</th>\n",
       "      <th>첫차시간</th>\n",
       "      <th>na_cnt</th>\n",
       "    </tr>\n",
       "  </thead>\n",
       "  <tbody>\n",
       "    <tr>\n",
       "      <th>0</th>\n",
       "      <td>해평버스정류장</td>\n",
       "      <td>2150</td>\n",
       "      <td>GMB19210</td>\n",
       "      <td>192</td>\n",
       "      <td>좌석버스</td>\n",
       "      <td>구미역</td>\n",
       "      <td>835</td>\n",
       "      <td>7</td>\n",
       "    </tr>\n",
       "    <tr>\n",
       "      <th>1</th>\n",
       "      <td>구미역(중앙시장)</td>\n",
       "      <td>2253</td>\n",
       "      <td>GMB19220</td>\n",
       "      <td>192</td>\n",
       "      <td>좌석버스</td>\n",
       "      <td>해평버스정류장</td>\n",
       "      <td>625</td>\n",
       "      <td>6</td>\n",
       "    </tr>\n",
       "    <tr>\n",
       "      <th>2</th>\n",
       "      <td>장천버스터미널 종점</td>\n",
       "      <td>1853</td>\n",
       "      <td>GMB193-210</td>\n",
       "      <td>193-2</td>\n",
       "      <td>일반버스</td>\n",
       "      <td>구미역</td>\n",
       "      <td>1853</td>\n",
       "      <td>5</td>\n",
       "    </tr>\n",
       "  </tbody>\n",
       "</table>\n",
       "</div>"
      ],
      "text/plain": [
       "           종점  막차시간        노선ID   노선번호  노선유형       기점  첫차시간  na_cnt\n",
       "0     해평버스정류장  2150    GMB19210    192  좌석버스      구미역   835       7\n",
       "1   구미역(중앙시장)  2253    GMB19220    192  좌석버스  해평버스정류장   625       6\n",
       "2  장천버스터미널 종점  1853  GMB193-210  193-2  일반버스      구미역  1853       5"
      ]
     },
     "execution_count": 57,
     "metadata": {},
     "output_type": "execute_result"
    }
   ],
   "source": [
    "# na_cnt와 route_list를 merge하기\n",
    "\n",
    "na_cnt = pd.merge(route_list, na_cnt, on='노선ID', how='inner')\n",
    "na_cnt.head(3)"
   ]
  },
  {
   "cell_type": "code",
   "execution_count": 64,
   "metadata": {},
   "outputs": [
    {
     "data": {
      "text/html": [
       "<div>\n",
       "<style scoped>\n",
       "    .dataframe tbody tr th:only-of-type {\n",
       "        vertical-align: middle;\n",
       "    }\n",
       "\n",
       "    .dataframe tbody tr th {\n",
       "        vertical-align: top;\n",
       "    }\n",
       "\n",
       "    .dataframe thead th {\n",
       "        text-align: right;\n",
       "    }\n",
       "</style>\n",
       "<table border=\"1\" class=\"dataframe\">\n",
       "  <thead>\n",
       "    <tr style=\"text-align: right;\">\n",
       "      <th></th>\n",
       "      <th>종점</th>\n",
       "      <th>막차시간</th>\n",
       "      <th>노선ID</th>\n",
       "      <th>노선번호</th>\n",
       "      <th>노선유형</th>\n",
       "      <th>기점</th>\n",
       "      <th>첫차시간</th>\n",
       "      <th>na_cnt</th>\n",
       "    </tr>\n",
       "  </thead>\n",
       "  <tbody>\n",
       "    <tr>\n",
       "      <th>48</th>\n",
       "      <td>구미역(중앙시장)</td>\n",
       "      <td>2205</td>\n",
       "      <td>GMB34011</td>\n",
       "      <td>340</td>\n",
       "      <td>일반버스</td>\n",
       "      <td>귀빈맨션(구미여고)</td>\n",
       "      <td>2205</td>\n",
       "      <td>5</td>\n",
       "    </tr>\n",
       "    <tr>\n",
       "      <th>49</th>\n",
       "      <td>구미역(중앙시장)</td>\n",
       "      <td>2215</td>\n",
       "      <td>GMB34030</td>\n",
       "      <td>340</td>\n",
       "      <td>일반버스</td>\n",
       "      <td>구미역</td>\n",
       "      <td>612</td>\n",
       "      <td>2</td>\n",
       "    </tr>\n",
       "  </tbody>\n",
       "</table>\n",
       "</div>"
      ],
      "text/plain": [
       "           종점  막차시간      노선ID 노선번호  노선유형          기점  첫차시간  na_cnt\n",
       "48  구미역(중앙시장)  2205  GMB34011  340  일반버스  귀빈맨션(구미여고)  2205       5\n",
       "49  구미역(중앙시장)  2215  GMB34030  340  일반버스         구미역   612       2"
      ]
     },
     "metadata": {},
     "output_type": "display_data"
    },
    {
     "data": {
      "text/html": [
       "<div>\n",
       "<style scoped>\n",
       "    .dataframe tbody tr th:only-of-type {\n",
       "        vertical-align: middle;\n",
       "    }\n",
       "\n",
       "    .dataframe tbody tr th {\n",
       "        vertical-align: top;\n",
       "    }\n",
       "\n",
       "    .dataframe thead th {\n",
       "        text-align: right;\n",
       "    }\n",
       "</style>\n",
       "<table border=\"1\" class=\"dataframe\">\n",
       "  <thead>\n",
       "    <tr style=\"text-align: right;\">\n",
       "      <th></th>\n",
       "      <th>종점</th>\n",
       "      <th>막차시간</th>\n",
       "      <th>노선ID</th>\n",
       "      <th>노선번호</th>\n",
       "      <th>노선유형</th>\n",
       "      <th>기점</th>\n",
       "      <th>첫차시간</th>\n",
       "      <th>na_cnt</th>\n",
       "    </tr>\n",
       "  </thead>\n",
       "  <tbody>\n",
       "    <tr>\n",
       "      <th>16</th>\n",
       "      <td>문성2지구</td>\n",
       "      <td>2123</td>\n",
       "      <td>GMB2410</td>\n",
       "      <td>24</td>\n",
       "      <td>일반버스</td>\n",
       "      <td>원평동(대구은행앞방면)</td>\n",
       "      <td>606</td>\n",
       "      <td>6</td>\n",
       "    </tr>\n",
       "    <tr>\n",
       "      <th>17</th>\n",
       "      <td>문성2지구</td>\n",
       "      <td>1541</td>\n",
       "      <td>GMB2413</td>\n",
       "      <td>24</td>\n",
       "      <td>일반버스</td>\n",
       "      <td>구운초등학교앞</td>\n",
       "      <td>746</td>\n",
       "      <td>9</td>\n",
       "    </tr>\n",
       "    <tr>\n",
       "      <th>18</th>\n",
       "      <td>문성2지구</td>\n",
       "      <td>2100</td>\n",
       "      <td>GMB2430</td>\n",
       "      <td>24</td>\n",
       "      <td>일반버스</td>\n",
       "      <td>문성2지구</td>\n",
       "      <td>648</td>\n",
       "      <td>8</td>\n",
       "    </tr>\n",
       "  </tbody>\n",
       "</table>\n",
       "</div>"
      ],
      "text/plain": [
       "       종점  막차시간     노선ID 노선번호  노선유형            기점  첫차시간  na_cnt\n",
       "16  문성2지구  2123  GMB2410   24  일반버스  원평동(대구은행앞방면)   606       6\n",
       "17  문성2지구  1541  GMB2413   24  일반버스       구운초등학교앞   746       9\n",
       "18  문성2지구  2100  GMB2430   24  일반버스         문성2지구   648       8"
      ]
     },
     "metadata": {},
     "output_type": "display_data"
    },
    {
     "data": {
      "text/html": [
       "<div>\n",
       "<style scoped>\n",
       "    .dataframe tbody tr th:only-of-type {\n",
       "        vertical-align: middle;\n",
       "    }\n",
       "\n",
       "    .dataframe tbody tr th {\n",
       "        vertical-align: top;\n",
       "    }\n",
       "\n",
       "    .dataframe thead th {\n",
       "        text-align: right;\n",
       "    }\n",
       "</style>\n",
       "<table border=\"1\" class=\"dataframe\">\n",
       "  <thead>\n",
       "    <tr style=\"text-align: right;\">\n",
       "      <th></th>\n",
       "      <th>종점</th>\n",
       "      <th>막차시간</th>\n",
       "      <th>노선ID</th>\n",
       "      <th>노선번호</th>\n",
       "      <th>노선유형</th>\n",
       "      <th>기점</th>\n",
       "      <th>첫차시간</th>\n",
       "      <th>na_cnt</th>\n",
       "    </tr>\n",
       "  </thead>\n",
       "  <tbody>\n",
       "    <tr>\n",
       "      <th>14</th>\n",
       "      <td>봉곡청마루출발지(종점)</td>\n",
       "      <td>2240</td>\n",
       "      <td>GMB2030</td>\n",
       "      <td>20</td>\n",
       "      <td>일반버스</td>\n",
       "      <td>봉곡청마루출발지(종점)</td>\n",
       "      <td>630</td>\n",
       "      <td>6</td>\n",
       "    </tr>\n",
       "  </tbody>\n",
       "</table>\n",
       "</div>"
      ],
      "text/plain": [
       "              종점  막차시간     노선ID 노선번호  노선유형            기점  첫차시간  na_cnt\n",
       "14  봉곡청마루출발지(종점)  2240  GMB2030   20  일반버스  봉곡청마루출발지(종점)   630       6"
      ]
     },
     "metadata": {},
     "output_type": "display_data"
    },
    {
     "data": {
      "text/html": [
       "<div>\n",
       "<style scoped>\n",
       "    .dataframe tbody tr th:only-of-type {\n",
       "        vertical-align: middle;\n",
       "    }\n",
       "\n",
       "    .dataframe tbody tr th {\n",
       "        vertical-align: top;\n",
       "    }\n",
       "\n",
       "    .dataframe thead th {\n",
       "        text-align: right;\n",
       "    }\n",
       "</style>\n",
       "<table border=\"1\" class=\"dataframe\">\n",
       "  <thead>\n",
       "    <tr style=\"text-align: right;\">\n",
       "      <th></th>\n",
       "      <th>종점</th>\n",
       "      <th>막차시간</th>\n",
       "      <th>노선ID</th>\n",
       "      <th>노선번호</th>\n",
       "      <th>노선유형</th>\n",
       "      <th>기점</th>\n",
       "      <th>첫차시간</th>\n",
       "      <th>na_cnt</th>\n",
       "    </tr>\n",
       "  </thead>\n",
       "  <tbody>\n",
       "    <tr>\n",
       "      <th>131</th>\n",
       "      <td>구미역(중앙시장)</td>\n",
       "      <td>2320</td>\n",
       "      <td>GMB14030</td>\n",
       "      <td>140</td>\n",
       "      <td>일반버스</td>\n",
       "      <td>구미역</td>\n",
       "      <td>615</td>\n",
       "      <td>2</td>\n",
       "    </tr>\n",
       "  </tbody>\n",
       "</table>\n",
       "</div>"
      ],
      "text/plain": [
       "            종점  막차시간      노선ID 노선번호  노선유형   기점  첫차시간  na_cnt\n",
       "131  구미역(중앙시장)  2320  GMB14030  140  일반버스  구미역   615       2"
      ]
     },
     "metadata": {},
     "output_type": "display_data"
    },
    {
     "data": {
      "text/html": [
       "<div>\n",
       "<style scoped>\n",
       "    .dataframe tbody tr th:only-of-type {\n",
       "        vertical-align: middle;\n",
       "    }\n",
       "\n",
       "    .dataframe tbody tr th {\n",
       "        vertical-align: top;\n",
       "    }\n",
       "\n",
       "    .dataframe thead th {\n",
       "        text-align: right;\n",
       "    }\n",
       "</style>\n",
       "<table border=\"1\" class=\"dataframe\">\n",
       "  <thead>\n",
       "    <tr style=\"text-align: right;\">\n",
       "      <th></th>\n",
       "      <th>종점</th>\n",
       "      <th>막차시간</th>\n",
       "      <th>노선ID</th>\n",
       "      <th>노선번호</th>\n",
       "      <th>노선유형</th>\n",
       "      <th>기점</th>\n",
       "      <th>첫차시간</th>\n",
       "      <th>na_cnt</th>\n",
       "    </tr>\n",
       "  </thead>\n",
       "  <tbody>\n",
       "    <tr>\n",
       "      <th>62</th>\n",
       "      <td>황상종점</td>\n",
       "      <td>2200</td>\n",
       "      <td>GMB38010</td>\n",
       "      <td>380</td>\n",
       "      <td>일반버스</td>\n",
       "      <td>구미역</td>\n",
       "      <td>615</td>\n",
       "      <td>2</td>\n",
       "    </tr>\n",
       "    <tr>\n",
       "      <th>63</th>\n",
       "      <td>구미역(중앙시장)</td>\n",
       "      <td>2300</td>\n",
       "      <td>GMB38020</td>\n",
       "      <td>380</td>\n",
       "      <td>일반버스</td>\n",
       "      <td>황상종점 출발점</td>\n",
       "      <td>620</td>\n",
       "      <td>8</td>\n",
       "    </tr>\n",
       "  </tbody>\n",
       "</table>\n",
       "</div>"
      ],
      "text/plain": [
       "           종점  막차시간      노선ID 노선번호  노선유형        기점  첫차시간  na_cnt\n",
       "62       황상종점  2200  GMB38010  380  일반버스       구미역   615       2\n",
       "63  구미역(중앙시장)  2300  GMB38020  380  일반버스  황상종점 출발점   620       8"
      ]
     },
     "metadata": {},
     "output_type": "display_data"
    },
    {
     "data": {
      "text/html": [
       "<div>\n",
       "<style scoped>\n",
       "    .dataframe tbody tr th:only-of-type {\n",
       "        vertical-align: middle;\n",
       "    }\n",
       "\n",
       "    .dataframe tbody tr th {\n",
       "        vertical-align: top;\n",
       "    }\n",
       "\n",
       "    .dataframe thead th {\n",
       "        text-align: right;\n",
       "    }\n",
       "</style>\n",
       "<table border=\"1\" class=\"dataframe\">\n",
       "  <thead>\n",
       "    <tr style=\"text-align: right;\">\n",
       "      <th></th>\n",
       "      <th>종점</th>\n",
       "      <th>막차시간</th>\n",
       "      <th>노선ID</th>\n",
       "      <th>노선번호</th>\n",
       "      <th>노선유형</th>\n",
       "      <th>기점</th>\n",
       "      <th>첫차시간</th>\n",
       "      <th>na_cnt</th>\n",
       "    </tr>\n",
       "  </thead>\n",
       "  <tbody>\n",
       "    <tr>\n",
       "      <th>277</th>\n",
       "      <td>구미역(중앙시장)</td>\n",
       "      <td>1940</td>\n",
       "      <td>GMB91030</td>\n",
       "      <td>910</td>\n",
       "      <td>좌석버스</td>\n",
       "      <td>구미역</td>\n",
       "      <td>705</td>\n",
       "      <td>7</td>\n",
       "    </tr>\n",
       "  </tbody>\n",
       "</table>\n",
       "</div>"
      ],
      "text/plain": [
       "            종점  막차시간      노선ID 노선번호  노선유형   기점  첫차시간  na_cnt\n",
       "277  구미역(중앙시장)  1940  GMB91030  910  좌석버스  구미역   705       7"
      ]
     },
     "metadata": {},
     "output_type": "display_data"
    }
   ],
   "source": [
    "# 최다이용노선의 버스번호 조회\n",
    "display(\n",
    "   na_cnt[na_cnt.노선번호 == '340']\n",
    "   ,na_cnt[na_cnt.노선번호 == '24']\n",
    "   ,na_cnt[na_cnt.노선번호 == '20']\n",
    "   ,na_cnt[na_cnt.노선번호 == '140']\n",
    "   ,na_cnt[na_cnt.노선번호 == '380']\n",
    "   ,na_cnt[na_cnt.노선번호 == '910']\n",
    ")"
   ]
  },
  {
   "cell_type": "code",
   "execution_count": null,
   "metadata": {},
   "outputs": [
    {
     "data": {
      "text/html": [
       "<div>\n",
       "<style scoped>\n",
       "    .dataframe tbody tr th:only-of-type {\n",
       "        vertical-align: middle;\n",
       "    }\n",
       "\n",
       "    .dataframe tbody tr th {\n",
       "        vertical-align: top;\n",
       "    }\n",
       "\n",
       "    .dataframe thead th {\n",
       "        text-align: right;\n",
       "    }\n",
       "</style>\n",
       "<table border=\"1\" class=\"dataframe\">\n",
       "  <thead>\n",
       "    <tr style=\"text-align: right;\">\n",
       "      <th></th>\n",
       "      <th>종점</th>\n",
       "      <th>막차시간</th>\n",
       "      <th>노선ID</th>\n",
       "      <th>노선번호</th>\n",
       "      <th>노선유형</th>\n",
       "      <th>기점</th>\n",
       "      <th>첫차시간</th>\n",
       "      <th>na_cnt</th>\n",
       "    </tr>\n",
       "  </thead>\n",
       "  <tbody>\n",
       "    <tr>\n",
       "      <th>22</th>\n",
       "      <td>봉곡청마루출발지(종점)</td>\n",
       "      <td>1627</td>\n",
       "      <td>GMB2232</td>\n",
       "      <td>22</td>\n",
       "      <td>일반버스</td>\n",
       "      <td>봉곡청마루출발지(종점)</td>\n",
       "      <td>643</td>\n",
       "      <td>13</td>\n",
       "    </tr>\n",
       "    <tr>\n",
       "      <th>187</th>\n",
       "      <td>김천시외버스터미널 종점</td>\n",
       "      <td>718</td>\n",
       "      <td>GMB5321</td>\n",
       "      <td>53</td>\n",
       "      <td>좌석버스</td>\n",
       "      <td>구미종합터미널건너</td>\n",
       "      <td>718</td>\n",
       "      <td>13</td>\n",
       "    </tr>\n",
       "    <tr>\n",
       "      <th>224</th>\n",
       "      <td>선산터미널종점</td>\n",
       "      <td>2020</td>\n",
       "      <td>GMB7230</td>\n",
       "      <td>72</td>\n",
       "      <td>일반버스</td>\n",
       "      <td>선산터미널종점</td>\n",
       "      <td>1330</td>\n",
       "      <td>13</td>\n",
       "    </tr>\n",
       "    <tr>\n",
       "      <th>266</th>\n",
       "      <td>구미역(중앙시장)</td>\n",
       "      <td>1700</td>\n",
       "      <td>GMB891-121</td>\n",
       "      <td>891-1</td>\n",
       "      <td>좌석버스</td>\n",
       "      <td>경운대학교(구미운전면허센터)</td>\n",
       "      <td>955</td>\n",
       "      <td>12</td>\n",
       "    </tr>\n",
       "    <tr>\n",
       "      <th>217</th>\n",
       "      <td>선산터미널종점</td>\n",
       "      <td>1900</td>\n",
       "      <td>GMB72-130</td>\n",
       "      <td>72-1</td>\n",
       "      <td>일반버스</td>\n",
       "      <td>선산터미널종점</td>\n",
       "      <td>800</td>\n",
       "      <td>12</td>\n",
       "    </tr>\n",
       "    <tr>\n",
       "      <th>65</th>\n",
       "      <td>금오공대종점</td>\n",
       "      <td>2002</td>\n",
       "      <td>GMB40431</td>\n",
       "      <td>404</td>\n",
       "      <td>일반버스</td>\n",
       "      <td>금오공대종점</td>\n",
       "      <td>640</td>\n",
       "      <td>12</td>\n",
       "    </tr>\n",
       "    <tr>\n",
       "      <th>23</th>\n",
       "      <td>봉곡청마루출발지(종점)</td>\n",
       "      <td>1920</td>\n",
       "      <td>GMB2330</td>\n",
       "      <td>23</td>\n",
       "      <td>일반버스</td>\n",
       "      <td>봉곡청마루출발지(종점)</td>\n",
       "      <td>905</td>\n",
       "      <td>11</td>\n",
       "    </tr>\n",
       "    <tr>\n",
       "      <th>89</th>\n",
       "      <td>김천시외버스터미널 종점</td>\n",
       "      <td>1923</td>\n",
       "      <td>GMB51-120</td>\n",
       "      <td>51-1</td>\n",
       "      <td>일반버스</td>\n",
       "      <td>금오공대종점</td>\n",
       "      <td>1443</td>\n",
       "      <td>11</td>\n",
       "    </tr>\n",
       "    <tr>\n",
       "      <th>73</th>\n",
       "      <td>태왕아너스아파트건너</td>\n",
       "      <td>610</td>\n",
       "      <td>GMB410-711</td>\n",
       "      <td>410-7</td>\n",
       "      <td>일반버스</td>\n",
       "      <td>구미역</td>\n",
       "      <td>610</td>\n",
       "      <td>11</td>\n",
       "    </tr>\n",
       "    <tr>\n",
       "      <th>66</th>\n",
       "      <td>문성2지구</td>\n",
       "      <td>2101</td>\n",
       "      <td>GMB410-131</td>\n",
       "      <td>410-1</td>\n",
       "      <td>좌석버스</td>\n",
       "      <td>구미역</td>\n",
       "      <td>2101</td>\n",
       "      <td>11</td>\n",
       "    </tr>\n",
       "  </tbody>\n",
       "</table>\n",
       "</div>"
      ],
      "text/plain": [
       "               종점  막차시간        노선ID   노선번호  노선유형               기점  첫차시간  \\\n",
       "22   봉곡청마루출발지(종점)  1627     GMB2232     22  일반버스     봉곡청마루출발지(종점)   643   \n",
       "187  김천시외버스터미널 종점   718     GMB5321     53  좌석버스        구미종합터미널건너   718   \n",
       "224       선산터미널종점  2020     GMB7230     72  일반버스          선산터미널종점  1330   \n",
       "266     구미역(중앙시장)  1700  GMB891-121  891-1  좌석버스  경운대학교(구미운전면허센터)   955   \n",
       "217       선산터미널종점  1900   GMB72-130   72-1  일반버스          선산터미널종점   800   \n",
       "65         금오공대종점  2002    GMB40431    404  일반버스           금오공대종점   640   \n",
       "23   봉곡청마루출발지(종점)  1920     GMB2330     23  일반버스     봉곡청마루출발지(종점)   905   \n",
       "89   김천시외버스터미널 종점  1923   GMB51-120   51-1  일반버스           금오공대종점  1443   \n",
       "73     태왕아너스아파트건너   610  GMB410-711  410-7  일반버스              구미역   610   \n",
       "66          문성2지구  2101  GMB410-131  410-1  좌석버스              구미역  2101   \n",
       "\n",
       "     na_cnt  \n",
       "22       13  \n",
       "187      13  \n",
       "224      13  \n",
       "266      12  \n",
       "217      12  \n",
       "65       12  \n",
       "23       11  \n",
       "89       11  \n",
       "73       11  \n",
       "66       11  "
      ]
     },
     "execution_count": 65,
     "metadata": {},
     "output_type": "execute_result"
    }
   ],
   "source": [
    "# na값이 10개 이상인 노선 -> 요청함\n",
    "na_cnt[na_cnt.na_cnt > 10].sort_values('na_cnt', ascending=0).head(10)"
   ]
  },
  {
   "cell_type": "markdown",
   "metadata": {},
   "source": [
    "### ***노선값 제외하고 구간 고유값 확인***"
   ]
  },
  {
   "cell_type": "code",
   "execution_count": 69,
   "metadata": {},
   "outputs": [
    {
     "data": {
      "text/html": [
       "<div>\n",
       "<style scoped>\n",
       "    .dataframe tbody tr th:only-of-type {\n",
       "        vertical-align: middle;\n",
       "    }\n",
       "\n",
       "    .dataframe tbody tr th {\n",
       "        vertical-align: top;\n",
       "    }\n",
       "\n",
       "    .dataframe thead th {\n",
       "        text-align: right;\n",
       "    }\n",
       "</style>\n",
       "<table border=\"1\" class=\"dataframe\">\n",
       "  <thead>\n",
       "    <tr style=\"text-align: right;\">\n",
       "      <th></th>\n",
       "      <th>노선번호</th>\n",
       "      <th>정류소순서</th>\n",
       "      <th>구간_이름</th>\n",
       "    </tr>\n",
       "  </thead>\n",
       "  <tbody>\n",
       "    <tr>\n",
       "      <th>0</th>\n",
       "      <td>GMB19120</td>\n",
       "      <td>1</td>\n",
       "      <td>옥계이편한세상APT앞 - 우미린더스카이앞</td>\n",
       "    </tr>\n",
       "    <tr>\n",
       "      <th>1</th>\n",
       "      <td>GMB19120</td>\n",
       "      <td>2</td>\n",
       "      <td>우미린더스카이앞 - 4공단(현진아파트방면)</td>\n",
       "    </tr>\n",
       "    <tr>\n",
       "      <th>2</th>\n",
       "      <td>GMB19120</td>\n",
       "      <td>3</td>\n",
       "      <td>4공단(현진아파트방면) - 현진아파트앞</td>\n",
       "    </tr>\n",
       "    <tr>\n",
       "      <th>3</th>\n",
       "      <td>GMB19120</td>\n",
       "      <td>4</td>\n",
       "      <td>현진아파트앞 - 삼구아파트</td>\n",
       "    </tr>\n",
       "    <tr>\n",
       "      <th>4</th>\n",
       "      <td>GMB19120</td>\n",
       "      <td>5</td>\n",
       "      <td>삼구아파트 - 4공단입구건너(인동농협옥계지점)</td>\n",
       "    </tr>\n",
       "  </tbody>\n",
       "</table>\n",
       "</div>"
      ],
      "text/plain": [
       "       노선번호  정류소순서                      구간_이름\n",
       "0  GMB19120      1     옥계이편한세상APT앞 - 우미린더스카이앞\n",
       "1  GMB19120      2    우미린더스카이앞 - 4공단(현진아파트방면)\n",
       "2  GMB19120      3      4공단(현진아파트방면) - 현진아파트앞\n",
       "3  GMB19120      4             현진아파트앞 - 삼구아파트\n",
       "4  GMB19120      5  삼구아파트 - 4공단입구건너(인동농협옥계지점)"
      ]
     },
     "execution_count": 69,
     "metadata": {},
     "output_type": "execute_result"
    }
   ],
   "source": [
    "# 모든 노선별 구간 데이터\n",
    "all_route.head()"
   ]
  },
  {
   "cell_type": "code",
   "execution_count": 75,
   "metadata": {},
   "outputs": [
    {
     "data": {
      "text/plain": [
       "(2034, 1)"
      ]
     },
     "execution_count": 75,
     "metadata": {},
     "output_type": "execute_result"
    }
   ],
   "source": [
    "# 구간의 유니크 값 확인 -> 2034개 \n",
    "unique_route = all_route.구간_이름.unique()\n",
    "unique_route = pd.DataFrame(unique_route)\n",
    "unique_route = unique_route.rename(columns={0: '구간_이름'})\n",
    "unique_route.shape"
   ]
  },
  {
   "cell_type": "code",
   "execution_count": 77,
   "metadata": {},
   "outputs": [
    {
     "data": {
      "text/html": [
       "<div>\n",
       "<style scoped>\n",
       "    .dataframe tbody tr th:only-of-type {\n",
       "        vertical-align: middle;\n",
       "    }\n",
       "\n",
       "    .dataframe tbody tr th {\n",
       "        vertical-align: top;\n",
       "    }\n",
       "\n",
       "    .dataframe thead th {\n",
       "        text-align: right;\n",
       "    }\n",
       "</style>\n",
       "<table border=\"1\" class=\"dataframe\">\n",
       "  <thead>\n",
       "    <tr style=\"text-align: right;\">\n",
       "      <th></th>\n",
       "      <th>구간_이름</th>\n",
       "      <th>구간_걸린시간</th>\n",
       "    </tr>\n",
       "  </thead>\n",
       "  <tbody>\n",
       "    <tr>\n",
       "      <th>0</th>\n",
       "      <td>옥계이편한세상APT앞 - 우미린더스카이앞</td>\n",
       "      <td>0 days 00:01:17</td>\n",
       "    </tr>\n",
       "    <tr>\n",
       "      <th>1</th>\n",
       "      <td>옥계이편한세상APT앞 - 우미린더스카이앞</td>\n",
       "      <td>0 days 00:02:21</td>\n",
       "    </tr>\n",
       "    <tr>\n",
       "      <th>2</th>\n",
       "      <td>옥계이편한세상APT앞 - 우미린더스카이앞</td>\n",
       "      <td>0 days 00:01:13</td>\n",
       "    </tr>\n",
       "  </tbody>\n",
       "</table>\n",
       "</div>"
      ],
      "text/plain": [
       "                    구간_이름         구간_걸린시간\n",
       "0  옥계이편한세상APT앞 - 우미린더스카이앞 0 days 00:01:17\n",
       "1  옥계이편한세상APT앞 - 우미린더스카이앞 0 days 00:02:21\n",
       "2  옥계이편한세상APT앞 - 우미린더스카이앞 0 days 00:01:13"
      ]
     },
     "execution_count": 77,
     "metadata": {},
     "output_type": "execute_result"
    }
   ],
   "source": [
    "# 고유구간에 시간 매핑\n",
    "route2 = pd.merge(unique_route, df_route, on='구간_이름', how='left')\n",
    "route2.head(3)"
   ]
  },
  {
   "cell_type": "code",
   "execution_count": 78,
   "metadata": {},
   "outputs": [
    {
     "name": "stdout",
     "output_type": "stream",
     "text": [
      "<class 'pandas.core.frame.DataFrame'>\n",
      "RangeIndex: 723517 entries, 0 to 723516\n",
      "Data columns (total 2 columns):\n",
      " #   Column   Non-Null Count   Dtype          \n",
      "---  ------   --------------   -----          \n",
      " 0   구간_이름    723517 non-null  object         \n",
      " 1   구간_걸린시간  723227 non-null  timedelta64[ns]\n",
      "dtypes: object(1), timedelta64[ns](1)\n",
      "memory usage: 11.0+ MB\n"
     ]
    }
   ],
   "source": [
    "# 고유구간에 매핑했을 때..?\n",
    "route2.info()"
   ]
  },
  {
   "cell_type": "code",
   "execution_count": 80,
   "metadata": {},
   "outputs": [
    {
     "data": {
      "text/plain": [
       "구간_이름        0\n",
       "구간_걸린시간    290\n",
       "dtype: int64"
      ]
     },
     "execution_count": 80,
     "metadata": {},
     "output_type": "execute_result"
    }
   ],
   "source": [
    "# na값 확인 -> 2034개 구간 중 290개 구간이 null값 확인\n",
    "route2.isna().sum()"
   ]
  },
  {
   "cell_type": "markdown",
   "metadata": {},
   "source": [
    "### ***시간 na값을 갖고있는 구간이 포함된 노선 확인***"
   ]
  },
  {
   "cell_type": "code",
   "execution_count": 94,
   "metadata": {},
   "outputs": [
    {
     "data": {
      "text/plain": [
       "노선번호\n",
       "GMB2232       13\n",
       "GMB7230       13\n",
       "GMB5321       13\n",
       "GMB40431      12\n",
       "GMB891-121    12\n",
       "              ..\n",
       "GMB90010       1\n",
       "GMB27-310      1\n",
       "GMB30330       1\n",
       "GMB101-120     1\n",
       "GMB74-322      1\n",
       "Name: count, Length: 292, dtype: int64"
      ]
     },
     "execution_count": 94,
     "metadata": {},
     "output_type": "execute_result"
    }
   ],
   "source": [
    "# 시간 na값을 갖고있는 구간이 포함된 노선 확인\n",
    "na_route = route2[route2.구간_걸린시간.isna()]\n",
    "na_interval = pd.merge(na_route, all_route, on='구간_이름', how='inner')\n",
    "na_interval.노선번호.value_counts()"
   ]
  },
  {
   "cell_type": "code",
   "execution_count": null,
   "metadata": {},
   "outputs": [
    {
     "data": {
      "text/html": [
       "<div>\n",
       "<style scoped>\n",
       "    .dataframe tbody tr th:only-of-type {\n",
       "        vertical-align: middle;\n",
       "    }\n",
       "\n",
       "    .dataframe tbody tr th {\n",
       "        vertical-align: top;\n",
       "    }\n",
       "\n",
       "    .dataframe thead th {\n",
       "        text-align: right;\n",
       "    }\n",
       "</style>\n",
       "<table border=\"1\" class=\"dataframe\">\n",
       "  <thead>\n",
       "    <tr style=\"text-align: right;\">\n",
       "      <th></th>\n",
       "      <th>노선번호</th>\n",
       "      <th>정류소순서</th>\n",
       "      <th>구간_이름</th>\n",
       "    </tr>\n",
       "  </thead>\n",
       "  <tbody>\n",
       "    <tr>\n",
       "      <th>0</th>\n",
       "      <td>GMB19120</td>\n",
       "      <td>1</td>\n",
       "      <td>옥계이편한세상APT앞 - 우미린더스카이앞</td>\n",
       "    </tr>\n",
       "    <tr>\n",
       "      <th>1</th>\n",
       "      <td>GMB19120</td>\n",
       "      <td>2</td>\n",
       "      <td>우미린더스카이앞 - 4공단(현진아파트방면)</td>\n",
       "    </tr>\n",
       "    <tr>\n",
       "      <th>2</th>\n",
       "      <td>GMB19120</td>\n",
       "      <td>3</td>\n",
       "      <td>4공단(현진아파트방면) - 현진아파트앞</td>\n",
       "    </tr>\n",
       "    <tr>\n",
       "      <th>3</th>\n",
       "      <td>GMB19120</td>\n",
       "      <td>4</td>\n",
       "      <td>현진아파트앞 - 삼구아파트</td>\n",
       "    </tr>\n",
       "    <tr>\n",
       "      <th>4</th>\n",
       "      <td>GMB19120</td>\n",
       "      <td>5</td>\n",
       "      <td>삼구아파트 - 4공단입구건너(인동농협옥계지점)</td>\n",
       "    </tr>\n",
       "    <tr>\n",
       "      <th>...</th>\n",
       "      <td>...</td>\n",
       "      <td>...</td>\n",
       "      <td>...</td>\n",
       "    </tr>\n",
       "    <tr>\n",
       "      <th>14061</th>\n",
       "      <td>GMB9720</td>\n",
       "      <td>25</td>\n",
       "      <td>4공단입구건너(인동농협옥계지점) - 옥계대우아파트앞</td>\n",
       "    </tr>\n",
       "    <tr>\n",
       "      <th>14062</th>\n",
       "      <td>GMB9720</td>\n",
       "      <td>26</td>\n",
       "      <td>옥계대우아파트앞 - 신나리아파트</td>\n",
       "    </tr>\n",
       "    <tr>\n",
       "      <th>14063</th>\n",
       "      <td>GMB9720</td>\n",
       "      <td>27</td>\n",
       "      <td>신나리아파트 - 옥계중학교앞</td>\n",
       "    </tr>\n",
       "    <tr>\n",
       "      <th>14064</th>\n",
       "      <td>GMB9720</td>\n",
       "      <td>28</td>\n",
       "      <td>옥계중학교앞 - 금오공대입구(금오공대종점방면)</td>\n",
       "    </tr>\n",
       "    <tr>\n",
       "      <th>14065</th>\n",
       "      <td>GMB9720</td>\n",
       "      <td>29</td>\n",
       "      <td>금오공대입구(금오공대종점방면) - 금오공대종점</td>\n",
       "    </tr>\n",
       "  </tbody>\n",
       "</table>\n",
       "<p>14066 rows × 3 columns</p>\n",
       "</div>"
      ],
      "text/plain": [
       "           노선번호  정류소순서                         구간_이름\n",
       "0      GMB19120      1        옥계이편한세상APT앞 - 우미린더스카이앞\n",
       "1      GMB19120      2       우미린더스카이앞 - 4공단(현진아파트방면)\n",
       "2      GMB19120      3         4공단(현진아파트방면) - 현진아파트앞\n",
       "3      GMB19120      4                현진아파트앞 - 삼구아파트\n",
       "4      GMB19120      5     삼구아파트 - 4공단입구건너(인동농협옥계지점)\n",
       "...         ...    ...                           ...\n",
       "14061   GMB9720     25  4공단입구건너(인동농협옥계지점) - 옥계대우아파트앞\n",
       "14062   GMB9720     26             옥계대우아파트앞 - 신나리아파트\n",
       "14063   GMB9720     27               신나리아파트 - 옥계중학교앞\n",
       "14064   GMB9720     28     옥계중학교앞 - 금오공대입구(금오공대종점방면)\n",
       "14065   GMB9720     29     금오공대입구(금오공대종점방면) - 금오공대종점\n",
       "\n",
       "[14066 rows x 3 columns]"
      ]
     },
     "execution_count": 82,
     "metadata": {},
     "output_type": "execute_result"
    }
   ],
   "source": [
    "all_route\n"
   ]
  }
 ],
 "metadata": {
  "kernelspec": {
   "display_name": "Python 3",
   "language": "python",
   "name": "python3"
  },
  "language_info": {
   "codemirror_mode": {
    "name": "ipython",
    "version": 3
   },
   "file_extension": ".py",
   "mimetype": "text/x-python",
   "name": "python",
   "nbconvert_exporter": "python",
   "pygments_lexer": "ipython3",
   "version": "3.9.10"
  }
 },
 "nbformat": 4,
 "nbformat_minor": 2
}
