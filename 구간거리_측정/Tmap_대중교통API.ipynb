{
 "cells": [
  {
   "cell_type": "code",
   "execution_count": 1,
   "metadata": {},
   "outputs": [
    {
     "name": "stdout",
     "output_type": "stream",
     "text": [
      "200\n",
      "{'result': {'message': '출발지와 도착지가 너무 가까움', 'status': 11}}\n"
     ]
    }
   ],
   "source": [
    "# 대중교통 경로탐색정보 api로 받기\n",
    "\n",
    "import requests\n",
    "\n",
    "url = \"https://apis.openapi.sk.com/transit/routes\"\n",
    "\n",
    "headers = {\n",
    "    \"Accept\": \"application/json\",\n",
    "    \"Content-Type\": \"application/json\",\n",
    "    \"appKey\": \"nB9HlUzai25u6j9f7snwOauFMVA1DZbA2NGSgNid\"\n",
    "}\n",
    "\n",
    "data = {\n",
    "    \"startX\": 128.4295593,\n",
    "    \"startY\": 36.1371692,\n",
    "    \"endX\": 128.4328746,\n",
    "    \"endY\": 36.13784296\n",
    "}\n",
    "\n",
    "response = requests.post(url, headers=headers, json=data)\n",
    "\n",
    "print(response.status_code)\n",
    "print(response.json())  # JSON 응답 출력"
   ]
  },
  {
   "cell_type": "code",
   "execution_count": 3,
   "metadata": {},
   "outputs": [
    {
     "data": {
      "text/plain": [
       "{'result': {'message': '출발지와 도착지가 너무 가까움', 'status': 11}}"
      ]
     },
     "execution_count": 3,
     "metadata": {},
     "output_type": "execute_result"
    }
   ],
   "source": [
    "import json\n",
    "\n",
    "# 받은 JSON 데이터 파싱\n",
    "data = json.loads(response.text)\n",
    "data"
   ]
  }
 ],
 "metadata": {
  "kernelspec": {
   "display_name": "Python 3",
   "language": "python",
   "name": "python3"
  },
  "language_info": {
   "codemirror_mode": {
    "name": "ipython",
    "version": 3
   },
   "file_extension": ".py",
   "mimetype": "text/x-python",
   "name": "python",
   "nbconvert_exporter": "python",
   "pygments_lexer": "ipython3",
   "version": "3.9.10"
  }
 },
 "nbformat": 4,
 "nbformat_minor": 2
}
