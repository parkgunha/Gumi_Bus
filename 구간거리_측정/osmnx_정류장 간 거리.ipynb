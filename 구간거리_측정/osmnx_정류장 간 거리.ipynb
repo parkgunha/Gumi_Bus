{
 "cells": [
  {
   "cell_type": "code",
   "execution_count": null,
   "metadata": {},
   "outputs": [
    {
     "name": "stdout",
     "output_type": "stream",
     "text": [
      "Collecting osmnx\n",
      "  Downloading osmnx-2.0.1-py3-none-any.whl.metadata (4.9 kB)\n",
      "Collecting networkx\n",
      "  Downloading networkx-3.2.1-py3-none-any.whl.metadata (5.2 kB)\n",
      "Collecting geopandas>=1.0 (from osmnx)\n",
      "  Downloading geopandas-1.0.1-py3-none-any.whl.metadata (2.2 kB)\n",
      "Requirement already satisfied: numpy>=1.22 in c:\\python\\python39\\lib\\site-packages (from osmnx) (2.0.2)\n",
      "Requirement already satisfied: pandas>=1.4 in c:\\python\\python39\\lib\\site-packages (from osmnx) (2.2.3)\n",
      "Requirement already satisfied: requests>=2.27 in c:\\python\\python39\\lib\\site-packages (from osmnx) (2.32.3)\n",
      "Collecting shapely>=2.0 (from osmnx)\n",
      "  Downloading shapely-2.0.7-cp39-cp39-win_amd64.whl.metadata (7.1 kB)\n",
      "Collecting pyogrio>=0.7.2 (from geopandas>=1.0->osmnx)\n",
      "  Downloading pyogrio-0.10.0-cp39-cp39-win_amd64.whl.metadata (5.6 kB)\n",
      "Requirement already satisfied: packaging in c:\\users\\a\\appdata\\roaming\\python\\python39\\site-packages (from geopandas>=1.0->osmnx) (24.2)\n",
      "Collecting pyproj>=3.3.0 (from geopandas>=1.0->osmnx)\n",
      "  Downloading pyproj-3.6.1-cp39-cp39-win_amd64.whl.metadata (31 kB)\n",
      "Requirement already satisfied: python-dateutil>=2.8.2 in c:\\users\\a\\appdata\\roaming\\python\\python39\\site-packages (from pandas>=1.4->osmnx) (2.9.0.post0)\n",
      "Requirement already satisfied: pytz>=2020.1 in c:\\python\\python39\\lib\\site-packages (from pandas>=1.4->osmnx) (2024.2)\n",
      "Requirement already satisfied: tzdata>=2022.7 in c:\\python\\python39\\lib\\site-packages (from pandas>=1.4->osmnx) (2024.2)\n",
      "Requirement already satisfied: charset-normalizer<4,>=2 in c:\\python\\python39\\lib\\site-packages (from requests>=2.27->osmnx) (3.4.1)\n",
      "Requirement already satisfied: idna<4,>=2.5 in c:\\python\\python39\\lib\\site-packages (from requests>=2.27->osmnx) (3.10)\n",
      "Requirement already satisfied: urllib3<3,>=1.21.1 in c:\\python\\python39\\lib\\site-packages (from requests>=2.27->osmnx) (2.3.0)\n",
      "Requirement already satisfied: certifi>=2017.4.17 in c:\\python\\python39\\lib\\site-packages (from requests>=2.27->osmnx) (2024.12.14)\n",
      "Requirement already satisfied: six>=1.5 in c:\\users\\a\\appdata\\roaming\\python\\python39\\site-packages (from python-dateutil>=2.8.2->pandas>=1.4->osmnx) (1.17.0)\n",
      "Downloading osmnx-2.0.1-py3-none-any.whl (99 kB)\n",
      "Downloading networkx-3.2.1-py3-none-any.whl (1.6 MB)\n",
      "   ---------------------------------------- 0.0/1.6 MB ? eta -:--:--\n",
      "   ---------------------------------------- 1.6/1.6 MB 11.1 MB/s eta 0:00:00\n",
      "Downloading geopandas-1.0.1-py3-none-any.whl (323 kB)\n",
      "Downloading shapely-2.0.7-cp39-cp39-win_amd64.whl (1.4 MB)\n",
      "   ---------------------------------------- 0.0/1.4 MB ? eta -:--:--\n",
      "   ---------------------------------------- 1.4/1.4 MB 10.7 MB/s eta 0:00:00\n",
      "Downloading pyogrio-0.10.0-cp39-cp39-win_amd64.whl (16.2 MB)\n",
      "   ---------------------------------------- 0.0/16.2 MB ? eta -:--:--\n",
      "   --- ------------------------------------ 1.6/16.2 MB 7.6 MB/s eta 0:00:02\n",
      "   -------- ------------------------------- 3.4/16.2 MB 8.0 MB/s eta 0:00:02\n",
      "   -------------- ------------------------- 5.8/16.2 MB 8.8 MB/s eta 0:00:02\n",
      "   -------------------- ------------------- 8.1/16.2 MB 9.3 MB/s eta 0:00:01\n",
      "   ------------------------- -------------- 10.5/16.2 MB 9.8 MB/s eta 0:00:01\n",
      "   ------------------------------- -------- 12.8/16.2 MB 9.8 MB/s eta 0:00:01\n",
      "   ------------------------------------ --- 14.7/16.2 MB 9.7 MB/s eta 0:00:01\n",
      "   ---------------------------------------  16.0/16.2 MB 9.3 MB/s eta 0:00:01\n",
      "   ---------------------------------------- 16.2/16.2 MB 8.7 MB/s eta 0:00:00\n",
      "Downloading pyproj-3.6.1-cp39-cp39-win_amd64.whl (6.1 MB)\n",
      "   ---------------------------------------- 0.0/6.1 MB ? eta -:--:--\n",
      "   --------------- ------------------------ 2.4/6.1 MB 13.4 MB/s eta 0:00:01\n",
      "   -------------------------------- ------- 5.0/6.1 MB 12.1 MB/s eta 0:00:01\n",
      "   ---------------------------------------- 6.1/6.1 MB 11.3 MB/s eta 0:00:00\n",
      "Installing collected packages: shapely, pyproj, pyogrio, networkx, geopandas, osmnx\n",
      "Successfully installed geopandas-1.0.1 networkx-3.2.1 osmnx-2.0.1 pyogrio-0.10.0 pyproj-3.6.1 shapely-2.0.7\n"
     ]
    }
   ],
   "source": [
    "# ! pip install osmnx networkx"
   ]
  },
  {
   "cell_type": "code",
   "execution_count": 2,
   "metadata": {},
   "outputs": [
    {
     "name": "stdout",
     "output_type": "stream",
     "text": [
      "출발지 → 도착지 실제 도로 이동 거리: 2.93 km\n"
     ]
    }
   ],
   "source": [
    "import osmnx as ox\n",
    "import networkx as nx\n",
    "\n",
    "# OSM에서 도로 네트워크 데이터 가져오기 (구미시 기준)\n",
    "place_name = \"Gumi, South Korea\"\n",
    "G = ox.graph_from_place(place_name, network_type=\"drive\")  # 차량 도로 네트워크\n",
    "\n",
    "# 출발지와 도착지 (위도, 경도 입력)\n",
    "origin_lat, origin_lon = 36.1195, 128.3446  # 예제: 구미역\n",
    "destination_lat, destination_lon = 36.1053, 128.3625  # 예제: 구미대학교\n",
    "\n",
    "# 가장 가까운 도로 노드 찾기\n",
    "orig_node = ox.distance.nearest_nodes(G, origin_lon, origin_lat)\n",
    "dest_node = ox.distance.nearest_nodes(G, destination_lon, destination_lat)\n",
    "\n",
    "# 실제 도로를 따라 최단 거리 찾기\n",
    "route_length = nx.shortest_path_length(G, orig_node, dest_node, weight=\"length\")\n",
    "\n",
    "# 결과 출력 (미터 → km 변환)\n",
    "print(f\"출발지 → 도착지 실제 도로 이동 거리: {route_length / 1000:.2f} km\")\n"
   ]
  },
  {
   "cell_type": "code",
   "execution_count": null,
   "metadata": {},
   "outputs": [],
   "source": []
  }
 ],
 "metadata": {
  "kernelspec": {
   "display_name": "Python 3",
   "language": "python",
   "name": "python3"
  },
  "language_info": {
   "codemirror_mode": {
    "name": "ipython",
    "version": 3
   },
   "file_extension": ".py",
   "mimetype": "text/x-python",
   "name": "python",
   "nbconvert_exporter": "python",
   "pygments_lexer": "ipython3",
   "version": "3.9.10"
  }
 },
 "nbformat": 4,
 "nbformat_minor": 2
}
